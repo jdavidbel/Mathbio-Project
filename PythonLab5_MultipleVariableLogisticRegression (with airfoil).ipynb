{
 "cells": [
  {
   "cell_type": "code",
   "execution_count": 1,
   "id": "818a2fe0-28d6-478f-a621-d728e6eda768",
   "metadata": {
    "tags": []
   },
   "outputs": [],
   "source": [
    "import numpy as np\n",
    "import pandas as pd\n",
    "import seaborn as sns\n",
    "import sklearn\n",
    "import scipy\n",
    "import matplotlib.pyplot as plt\n",
    "%matplotlib inline"
   ]
  },
  {
   "cell_type": "code",
   "execution_count": 2,
   "id": "c7383aa8-204d-4153-9807-231976cd8025",
   "metadata": {
    "tags": []
   },
   "outputs": [
    {
     "data": {
      "text/html": [
       "<div>\n",
       "<style scoped>\n",
       "    .dataframe tbody tr th:only-of-type {\n",
       "        vertical-align: middle;\n",
       "    }\n",
       "\n",
       "    .dataframe tbody tr th {\n",
       "        vertical-align: top;\n",
       "    }\n",
       "\n",
       "    .dataframe thead th {\n",
       "        text-align: right;\n",
       "    }\n",
       "</style>\n",
       "<table border=\"1\" class=\"dataframe\">\n",
       "  <thead>\n",
       "    <tr style=\"text-align: right;\">\n",
       "      <th></th>\n",
       "      <th>Frequency (Hz)</th>\n",
       "      <th>Angle of Attack (degrees)</th>\n",
       "      <th>Chord Length (m)</th>\n",
       "      <th>Free-stream Velocity (m/s)</th>\n",
       "      <th>Suction Side Displacement thickness (m)</th>\n",
       "      <th>Scaled Sound Pressure Level (dB)</th>\n",
       "    </tr>\n",
       "  </thead>\n",
       "  <tbody>\n",
       "    <tr>\n",
       "      <th>0</th>\n",
       "      <td>800</td>\n",
       "      <td>0.0</td>\n",
       "      <td>0.3048</td>\n",
       "      <td>71.3</td>\n",
       "      <td>0.002663</td>\n",
       "      <td>126.201</td>\n",
       "    </tr>\n",
       "    <tr>\n",
       "      <th>1</th>\n",
       "      <td>1000</td>\n",
       "      <td>0.0</td>\n",
       "      <td>0.3048</td>\n",
       "      <td>71.3</td>\n",
       "      <td>0.002663</td>\n",
       "      <td>125.201</td>\n",
       "    </tr>\n",
       "    <tr>\n",
       "      <th>2</th>\n",
       "      <td>1250</td>\n",
       "      <td>0.0</td>\n",
       "      <td>0.3048</td>\n",
       "      <td>71.3</td>\n",
       "      <td>0.002663</td>\n",
       "      <td>125.951</td>\n",
       "    </tr>\n",
       "    <tr>\n",
       "      <th>3</th>\n",
       "      <td>1600</td>\n",
       "      <td>0.0</td>\n",
       "      <td>0.3048</td>\n",
       "      <td>71.3</td>\n",
       "      <td>0.002663</td>\n",
       "      <td>127.591</td>\n",
       "    </tr>\n",
       "    <tr>\n",
       "      <th>4</th>\n",
       "      <td>2000</td>\n",
       "      <td>0.0</td>\n",
       "      <td>0.3048</td>\n",
       "      <td>71.3</td>\n",
       "      <td>0.002663</td>\n",
       "      <td>127.461</td>\n",
       "    </tr>\n",
       "  </tbody>\n",
       "</table>\n",
       "</div>"
      ],
      "text/plain": [
       "   Frequency (Hz)  Angle of Attack (degrees)  Chord Length (m)   \n",
       "0             800                        0.0            0.3048  \\\n",
       "1            1000                        0.0            0.3048   \n",
       "2            1250                        0.0            0.3048   \n",
       "3            1600                        0.0            0.3048   \n",
       "4            2000                        0.0            0.3048   \n",
       "\n",
       "   Free-stream Velocity (m/s)  Suction Side Displacement thickness (m)   \n",
       "0                        71.3                                 0.002663  \\\n",
       "1                        71.3                                 0.002663   \n",
       "2                        71.3                                 0.002663   \n",
       "3                        71.3                                 0.002663   \n",
       "4                        71.3                                 0.002663   \n",
       "\n",
       "   Scaled Sound Pressure Level (dB)  \n",
       "0                           126.201  \n",
       "1                           125.201  \n",
       "2                           125.951  \n",
       "3                           127.591  \n",
       "4                           127.461  "
      ]
     },
     "execution_count": 2,
     "metadata": {},
     "output_type": "execute_result"
    }
   ],
   "source": [
    "import urllib.request \n",
    "import os\n",
    "data_file = \"airfoil.csv\"\n",
    "if not os.path.exists(data_file):\n",
    "    urllib.request.urlretrieve(\"https://archive.ics.uci.edu/ml/machine-learning-databases/00291/airfoil_self_noise.dat\", \"airfoil.csv\")\n",
    "    \n",
    "af_data = pd.read_csv('airfoil.csv', header=None, delimiter=\"\\t\")\n",
    "\n",
    "headers =  [\"Frequency (Hz)\",\"Angle of Attack (degrees)\",\"Chord Length (m)\",\"Free-stream Velocity (m/s)\",\"Suction Side Displacement thickness (m)\",\"Scaled Sound Pressure Level (dB)\"]\n",
    "af_data.columns = headers\n",
    "\n",
    "af_data.head()"
   ]
  },
  {
   "cell_type": "code",
   "execution_count": 3,
   "id": "8362e707-790f-4278-a38b-03b2157aa938",
   "metadata": {
    "tags": []
   },
   "outputs": [],
   "source": [
    "def Category(x):\n",
    "    if x < 120  :\n",
    "        return \"Safe\"\n",
    "    else:\n",
    "        return \"Not Safe\""
   ]
  },
  {
   "cell_type": "code",
   "execution_count": 4,
   "id": "a1b55075-a5c2-4be2-82ec-b16eab542ee6",
   "metadata": {
    "tags": []
   },
   "outputs": [],
   "source": [
    "af_data['Categorized Sound Level'] = af_data.iloc[:,5]\n",
    "af_data['Categorized Sound Level'] = af_data['Categorized Sound Level'].map(Category)"
   ]
  },
  {
   "cell_type": "code",
   "execution_count": 5,
   "id": "a6d2d3fe-fd08-4b59-b4c9-9199a63b3b6a",
   "metadata": {
    "tags": []
   },
   "outputs": [
    {
     "data": {
      "text/html": [
       "<div>\n",
       "<style scoped>\n",
       "    .dataframe tbody tr th:only-of-type {\n",
       "        vertical-align: middle;\n",
       "    }\n",
       "\n",
       "    .dataframe tbody tr th {\n",
       "        vertical-align: top;\n",
       "    }\n",
       "\n",
       "    .dataframe thead th {\n",
       "        text-align: right;\n",
       "    }\n",
       "</style>\n",
       "<table border=\"1\" class=\"dataframe\">\n",
       "  <thead>\n",
       "    <tr style=\"text-align: right;\">\n",
       "      <th></th>\n",
       "      <th>Frequency (Hz)</th>\n",
       "      <th>Angle of Attack (degrees)</th>\n",
       "      <th>Chord Length (m)</th>\n",
       "      <th>Free-stream Velocity (m/s)</th>\n",
       "      <th>Suction Side Displacement thickness (m)</th>\n",
       "      <th>Scaled Sound Pressure Level (dB)</th>\n",
       "      <th>Categorized Sound Level</th>\n",
       "    </tr>\n",
       "  </thead>\n",
       "  <tbody>\n",
       "    <tr>\n",
       "      <th>0</th>\n",
       "      <td>800</td>\n",
       "      <td>0.0</td>\n",
       "      <td>0.3048</td>\n",
       "      <td>71.3</td>\n",
       "      <td>0.002663</td>\n",
       "      <td>126.201</td>\n",
       "      <td>Not Safe</td>\n",
       "    </tr>\n",
       "    <tr>\n",
       "      <th>1</th>\n",
       "      <td>1000</td>\n",
       "      <td>0.0</td>\n",
       "      <td>0.3048</td>\n",
       "      <td>71.3</td>\n",
       "      <td>0.002663</td>\n",
       "      <td>125.201</td>\n",
       "      <td>Not Safe</td>\n",
       "    </tr>\n",
       "    <tr>\n",
       "      <th>2</th>\n",
       "      <td>1250</td>\n",
       "      <td>0.0</td>\n",
       "      <td>0.3048</td>\n",
       "      <td>71.3</td>\n",
       "      <td>0.002663</td>\n",
       "      <td>125.951</td>\n",
       "      <td>Not Safe</td>\n",
       "    </tr>\n",
       "    <tr>\n",
       "      <th>3</th>\n",
       "      <td>1600</td>\n",
       "      <td>0.0</td>\n",
       "      <td>0.3048</td>\n",
       "      <td>71.3</td>\n",
       "      <td>0.002663</td>\n",
       "      <td>127.591</td>\n",
       "      <td>Not Safe</td>\n",
       "    </tr>\n",
       "    <tr>\n",
       "      <th>4</th>\n",
       "      <td>2000</td>\n",
       "      <td>0.0</td>\n",
       "      <td>0.3048</td>\n",
       "      <td>71.3</td>\n",
       "      <td>0.002663</td>\n",
       "      <td>127.461</td>\n",
       "      <td>Not Safe</td>\n",
       "    </tr>\n",
       "  </tbody>\n",
       "</table>\n",
       "</div>"
      ],
      "text/plain": [
       "   Frequency (Hz)  Angle of Attack (degrees)  Chord Length (m)   \n",
       "0             800                        0.0            0.3048  \\\n",
       "1            1000                        0.0            0.3048   \n",
       "2            1250                        0.0            0.3048   \n",
       "3            1600                        0.0            0.3048   \n",
       "4            2000                        0.0            0.3048   \n",
       "\n",
       "   Free-stream Velocity (m/s)  Suction Side Displacement thickness (m)   \n",
       "0                        71.3                                 0.002663  \\\n",
       "1                        71.3                                 0.002663   \n",
       "2                        71.3                                 0.002663   \n",
       "3                        71.3                                 0.002663   \n",
       "4                        71.3                                 0.002663   \n",
       "\n",
       "   Scaled Sound Pressure Level (dB) Categorized Sound Level  \n",
       "0                           126.201                Not Safe  \n",
       "1                           125.201                Not Safe  \n",
       "2                           125.951                Not Safe  \n",
       "3                           127.591                Not Safe  \n",
       "4                           127.461                Not Safe  "
      ]
     },
     "execution_count": 5,
     "metadata": {},
     "output_type": "execute_result"
    }
   ],
   "source": [
    "af_data.head()"
   ]
  },
  {
   "cell_type": "code",
   "execution_count": 6,
   "id": "e8d22a50-24a3-4d0d-9264-87b46398a4ab",
   "metadata": {
    "tags": []
   },
   "outputs": [],
   "source": [
    "from sklearn.model_selection import train_test_split\n",
    "\n",
    "# Splitting the dataset into the Training set and Test set\n",
    "X = af_data.iloc[:, [0,1,2, 3, 4]].values\n",
    "y = af_data.iloc[:, 6].values\n",
    "X_train, X_test, y_train, y_test = train_test_split(X, y, test_size = 0.25, random_state = 0)"
   ]
  },
  {
   "cell_type": "code",
   "execution_count": 7,
   "id": "7057a7c0-afe4-4682-8d3c-f1fcdec6cb8d",
   "metadata": {
    "tags": []
   },
   "outputs": [],
   "source": [
    "from sklearn.preprocessing import StandardScaler\n",
    "sc = StandardScaler()\n",
    "X_train = sc.fit_transform(X_train)\n",
    "X_test = sc.transform(X_test)"
   ]
  },
  {
   "cell_type": "code",
   "execution_count": 8,
   "id": "6e6ad109-ecaf-4ee4-8082-9ebcd899dec1",
   "metadata": {
    "tags": []
   },
   "outputs": [
    {
     "data": {
      "text/html": [
       "<style>#sk-container-id-1 {color: black;background-color: white;}#sk-container-id-1 pre{padding: 0;}#sk-container-id-1 div.sk-toggleable {background-color: white;}#sk-container-id-1 label.sk-toggleable__label {cursor: pointer;display: block;width: 100%;margin-bottom: 0;padding: 0.3em;box-sizing: border-box;text-align: center;}#sk-container-id-1 label.sk-toggleable__label-arrow:before {content: \"▸\";float: left;margin-right: 0.25em;color: #696969;}#sk-container-id-1 label.sk-toggleable__label-arrow:hover:before {color: black;}#sk-container-id-1 div.sk-estimator:hover label.sk-toggleable__label-arrow:before {color: black;}#sk-container-id-1 div.sk-toggleable__content {max-height: 0;max-width: 0;overflow: hidden;text-align: left;background-color: #f0f8ff;}#sk-container-id-1 div.sk-toggleable__content pre {margin: 0.2em;color: black;border-radius: 0.25em;background-color: #f0f8ff;}#sk-container-id-1 input.sk-toggleable__control:checked~div.sk-toggleable__content {max-height: 200px;max-width: 100%;overflow: auto;}#sk-container-id-1 input.sk-toggleable__control:checked~label.sk-toggleable__label-arrow:before {content: \"▾\";}#sk-container-id-1 div.sk-estimator input.sk-toggleable__control:checked~label.sk-toggleable__label {background-color: #d4ebff;}#sk-container-id-1 div.sk-label input.sk-toggleable__control:checked~label.sk-toggleable__label {background-color: #d4ebff;}#sk-container-id-1 input.sk-hidden--visually {border: 0;clip: rect(1px 1px 1px 1px);clip: rect(1px, 1px, 1px, 1px);height: 1px;margin: -1px;overflow: hidden;padding: 0;position: absolute;width: 1px;}#sk-container-id-1 div.sk-estimator {font-family: monospace;background-color: #f0f8ff;border: 1px dotted black;border-radius: 0.25em;box-sizing: border-box;margin-bottom: 0.5em;}#sk-container-id-1 div.sk-estimator:hover {background-color: #d4ebff;}#sk-container-id-1 div.sk-parallel-item::after {content: \"\";width: 100%;border-bottom: 1px solid gray;flex-grow: 1;}#sk-container-id-1 div.sk-label:hover label.sk-toggleable__label {background-color: #d4ebff;}#sk-container-id-1 div.sk-serial::before {content: \"\";position: absolute;border-left: 1px solid gray;box-sizing: border-box;top: 0;bottom: 0;left: 50%;z-index: 0;}#sk-container-id-1 div.sk-serial {display: flex;flex-direction: column;align-items: center;background-color: white;padding-right: 0.2em;padding-left: 0.2em;position: relative;}#sk-container-id-1 div.sk-item {position: relative;z-index: 1;}#sk-container-id-1 div.sk-parallel {display: flex;align-items: stretch;justify-content: center;background-color: white;position: relative;}#sk-container-id-1 div.sk-item::before, #sk-container-id-1 div.sk-parallel-item::before {content: \"\";position: absolute;border-left: 1px solid gray;box-sizing: border-box;top: 0;bottom: 0;left: 50%;z-index: -1;}#sk-container-id-1 div.sk-parallel-item {display: flex;flex-direction: column;z-index: 1;position: relative;background-color: white;}#sk-container-id-1 div.sk-parallel-item:first-child::after {align-self: flex-end;width: 50%;}#sk-container-id-1 div.sk-parallel-item:last-child::after {align-self: flex-start;width: 50%;}#sk-container-id-1 div.sk-parallel-item:only-child::after {width: 0;}#sk-container-id-1 div.sk-dashed-wrapped {border: 1px dashed gray;margin: 0 0.4em 0.5em 0.4em;box-sizing: border-box;padding-bottom: 0.4em;background-color: white;}#sk-container-id-1 div.sk-label label {font-family: monospace;font-weight: bold;display: inline-block;line-height: 1.2em;}#sk-container-id-1 div.sk-label-container {text-align: center;}#sk-container-id-1 div.sk-container {/* jupyter's `normalize.less` sets `[hidden] { display: none; }` but bootstrap.min.css set `[hidden] { display: none !important; }` so we also need the `!important` here to be able to override the default hidden behavior on the sphinx rendered scikit-learn.org. See: https://github.com/scikit-learn/scikit-learn/issues/21755 */display: inline-block !important;position: relative;}#sk-container-id-1 div.sk-text-repr-fallback {display: none;}</style><div id=\"sk-container-id-1\" class=\"sk-top-container\"><div class=\"sk-text-repr-fallback\"><pre>LogisticRegression(max_iter=500, random_state=0)</pre><b>In a Jupyter environment, please rerun this cell to show the HTML representation or trust the notebook. <br />On GitHub, the HTML representation is unable to render, please try loading this page with nbviewer.org.</b></div><div class=\"sk-container\" hidden><div class=\"sk-item\"><div class=\"sk-estimator sk-toggleable\"><input class=\"sk-toggleable__control sk-hidden--visually\" id=\"sk-estimator-id-1\" type=\"checkbox\" checked><label for=\"sk-estimator-id-1\" class=\"sk-toggleable__label sk-toggleable__label-arrow\">LogisticRegression</label><div class=\"sk-toggleable__content\"><pre>LogisticRegression(max_iter=500, random_state=0)</pre></div></div></div></div></div>"
      ],
      "text/plain": [
       "LogisticRegression(max_iter=500, random_state=0)"
      ]
     },
     "execution_count": 8,
     "metadata": {},
     "output_type": "execute_result"
    }
   ],
   "source": [
    "# Fitting Logistic Regression to the Training set\n",
    "from sklearn.linear_model import LogisticRegression\n",
    "classifier = LogisticRegression(random_state = 0, solver='lbfgs', multi_class='auto', max_iter=500)\n",
    "classifier.fit(X_train, y_train)"
   ]
  },
  {
   "cell_type": "code",
   "execution_count": 9,
   "id": "fe11f83d-7493-45fb-8be5-3cb524081f0d",
   "metadata": {
    "tags": []
   },
   "outputs": [],
   "source": [
    "# Predicting the Test set results\n",
    "y_pred = classifier.predict(X_test)\n",
    "\n",
    "# Predict probabilities\n",
    "probs_y=classifier.predict_proba(X_test)"
   ]
  },
  {
   "cell_type": "markdown",
   "id": "faa8b8d7-92fe-4863-a3dd-8f7698240e0b",
   "metadata": {},
   "source": [
    "We will now print out the results for the test set.  The first column corresponds to the test labels (correct values), the second column corresponds to the prediction.  The last 2 columns give the probability of the two possibilities.  Thus for the first row,  Not Safe is predicted to be Not Safe with 95% probability, but with a 5% chance of being Not Safe."
   ]
  },
  {
   "cell_type": "code",
   "execution_count": 10,
   "id": "aedf4ebd-1a04-4502-a45f-5d4662d2ea2c",
   "metadata": {
    "tags": []
   },
   "outputs": [
    {
     "data": {
      "text/html": [
       "<div>\n",
       "<style scoped>\n",
       "    .dataframe tbody tr th:only-of-type {\n",
       "        vertical-align: middle;\n",
       "    }\n",
       "\n",
       "    .dataframe tbody tr th {\n",
       "        vertical-align: top;\n",
       "    }\n",
       "\n",
       "    .dataframe thead th {\n",
       "        text-align: right;\n",
       "    }\n",
       "</style>\n",
       "<table border=\"1\" class=\"dataframe\">\n",
       "  <thead>\n",
       "    <tr style=\"text-align: right;\">\n",
       "      <th></th>\n",
       "      <th>Correct label</th>\n",
       "      <th>Predicted label</th>\n",
       "      <th>Probability Not Safe</th>\n",
       "      <th>Probability Safe</th>\n",
       "    </tr>\n",
       "  </thead>\n",
       "  <tbody>\n",
       "    <tr>\n",
       "      <th>0</th>\n",
       "      <td>Not Safe</td>\n",
       "      <td>Not Safe</td>\n",
       "      <td>0.948090</td>\n",
       "      <td>0.051910</td>\n",
       "    </tr>\n",
       "    <tr>\n",
       "      <th>1</th>\n",
       "      <td>Safe</td>\n",
       "      <td>Safe</td>\n",
       "      <td>0.449861</td>\n",
       "      <td>0.550139</td>\n",
       "    </tr>\n",
       "    <tr>\n",
       "      <th>2</th>\n",
       "      <td>Safe</td>\n",
       "      <td>Safe</td>\n",
       "      <td>0.324803</td>\n",
       "      <td>0.675197</td>\n",
       "    </tr>\n",
       "    <tr>\n",
       "      <th>3</th>\n",
       "      <td>Safe</td>\n",
       "      <td>Not Safe</td>\n",
       "      <td>0.973271</td>\n",
       "      <td>0.026729</td>\n",
       "    </tr>\n",
       "    <tr>\n",
       "      <th>4</th>\n",
       "      <td>Not Safe</td>\n",
       "      <td>Not Safe</td>\n",
       "      <td>0.862133</td>\n",
       "      <td>0.137867</td>\n",
       "    </tr>\n",
       "    <tr>\n",
       "      <th>...</th>\n",
       "      <td>...</td>\n",
       "      <td>...</td>\n",
       "      <td>...</td>\n",
       "      <td>...</td>\n",
       "    </tr>\n",
       "    <tr>\n",
       "      <th>371</th>\n",
       "      <td>Not Safe</td>\n",
       "      <td>Not Safe</td>\n",
       "      <td>0.997692</td>\n",
       "      <td>0.002308</td>\n",
       "    </tr>\n",
       "    <tr>\n",
       "      <th>372</th>\n",
       "      <td>Safe</td>\n",
       "      <td>Safe</td>\n",
       "      <td>0.345750</td>\n",
       "      <td>0.654250</td>\n",
       "    </tr>\n",
       "    <tr>\n",
       "      <th>373</th>\n",
       "      <td>Not Safe</td>\n",
       "      <td>Not Safe</td>\n",
       "      <td>0.977370</td>\n",
       "      <td>0.022630</td>\n",
       "    </tr>\n",
       "    <tr>\n",
       "      <th>374</th>\n",
       "      <td>Not Safe</td>\n",
       "      <td>Not Safe</td>\n",
       "      <td>0.997633</td>\n",
       "      <td>0.002367</td>\n",
       "    </tr>\n",
       "    <tr>\n",
       "      <th>375</th>\n",
       "      <td>Not Safe</td>\n",
       "      <td>Not Safe</td>\n",
       "      <td>0.998834</td>\n",
       "      <td>0.001166</td>\n",
       "    </tr>\n",
       "  </tbody>\n",
       "</table>\n",
       "<p>376 rows × 4 columns</p>\n",
       "</div>"
      ],
      "text/plain": [
       "    Correct label Predicted label  Probability Not Safe  Probability Safe\n",
       "0        Not Safe        Not Safe              0.948090          0.051910\n",
       "1            Safe            Safe              0.449861          0.550139\n",
       "2            Safe            Safe              0.324803          0.675197\n",
       "3            Safe        Not Safe              0.973271          0.026729\n",
       "4        Not Safe        Not Safe              0.862133          0.137867\n",
       "..            ...             ...                   ...               ...\n",
       "371      Not Safe        Not Safe              0.997692          0.002308\n",
       "372          Safe            Safe              0.345750          0.654250\n",
       "373      Not Safe        Not Safe              0.977370          0.022630\n",
       "374      Not Safe        Not Safe              0.997633          0.002367\n",
       "375      Not Safe        Not Safe              0.998834          0.001166\n",
       "\n",
       "[376 rows x 4 columns]"
      ]
     },
     "execution_count": 10,
     "metadata": {},
     "output_type": "execute_result"
    }
   ],
   "source": [
    "data = {'Correct label':y_test, 'Predicted label':y_pred, 'Probability Not Safe':probs_y[:,0],\n",
    "       'Probability Safe':probs_y[:,1]}\n",
    "# Create DataFrame\n",
    "df = pd.DataFrame(data)\n",
    " \n",
    "# Print the output.\n",
    "df"
   ]
  },
  {
   "cell_type": "code",
   "execution_count": 11,
   "id": "6347edb4-93cd-475b-b1cb-59a30145591e",
   "metadata": {
    "tags": []
   },
   "outputs": [
    {
     "name": "stdout",
     "output_type": "stream",
     "text": [
      "[[275   5]\n",
      " [ 35  61]]\n"
     ]
    }
   ],
   "source": [
    "from sklearn.metrics import confusion_matrix\n",
    "cm = confusion_matrix(y_test, y_pred)\n",
    "print(cm)"
   ]
  },
  {
   "cell_type": "code",
   "execution_count": 12,
   "id": "61c51cc2-16b0-4faa-9efc-e5d20010b384",
   "metadata": {
    "tags": []
   },
   "outputs": [
    {
     "data": {
      "image/png": "[encoded data removed]",
      "text/plain": [
       "<Figure size 640x480 with 2 Axes>"
      ]
     },
     "metadata": {},
     "output_type": "display_data"
    }
   ],
   "source": [
    "# Plot confusion matrix\n",
    "import seaborn as sns\n",
    "import pandas as pd\n",
    "# confusion matrix sns heatmap \n",
    "ax = plt.axes()\n",
    "df_cm = cm\n",
    "sns.heatmap(df_cm, annot=True, annot_kws={\"size\": 30}, fmt='d',cmap=\"Greens\", ax = ax )\n",
    "ax.set_title('Confusion Matrix (5 Variables)', fontsize=17)\n",
    "plt.show()"
   ]
  },
  {
   "cell_type": "markdown",
   "id": "9e93b77e-b3fc-4918-9002-0897dbc44cf4",
   "metadata": {},
   "source": [
    "I want to see the p-value on this like we did in lab 3, so I searched how to do that and came across the top answer in the comments here: https://stackoverflow.com/questions/22306341/python-sklearn-how-to-calculate-p-values\n",
    "\n",
    "Here are my results after running this."
   ]
  },
  {
   "cell_type": "code",
   "execution_count": 13,
   "id": "b860a3a6-605c-4e49-8106-7dc683843b6b",
   "metadata": {},
   "outputs": [
    {
     "name": "stdout",
     "output_type": "stream",
     "text": [
      "Optimization terminated successfully.\n",
      "         Current function value: 0.315928\n",
      "         Iterations 8\n",
      "                           Logit Regression Results                           \n",
      "==============================================================================\n",
      "Dep. Variable:                      y   No. Observations:                 1127\n",
      "Model:                          Logit   Df Residuals:                     1121\n",
      "Method:                           MLE   Df Model:                            5\n",
      "Date:                Mon, 08 May 2023   Pseudo R-squ.:                  0.4196\n",
      "Time:                        03:14:16   Log-Likelihood:                -356.05\n",
      "converged:                       True   LL-Null:                       -613.50\n",
      "Covariance Type:            nonrobust   LLR p-value:                4.880e-109\n",
      "==============================================================================\n",
      "                 coef    std err          z      P>|z|      [0.025      0.975]\n",
      "------------------------------------------------------------------------------\n",
      "const         -2.1712      0.140    -15.516      0.000      -2.445      -1.897\n",
      "x1             2.0791      0.148     14.029      0.000       1.789       2.370\n",
      "x2             1.7443      0.203      8.602      0.000       1.347       2.142\n",
      "x3             1.9189      0.172     11.158      0.000       1.582       2.256\n",
      "x4            -0.7144      0.105     -6.815      0.000      -0.920      -0.509\n",
      "x5             0.5976      0.126      4.746      0.000       0.351       0.844\n",
      "==============================================================================\n"
     ]
    }
   ],
   "source": [
    "import statsmodels.api as sm\n",
    "\n",
    "logit_model=sm.Logit(y_train == \"Safe\",sm.add_constant(X_train))\n",
    "result=logit_model.fit()\n",
    "print(result.summary())"
   ]
  },
  {
   "cell_type": "markdown",
   "id": "bbfae6ea-16fc-4043-a744-e8ddd7e10ba0",
   "metadata": {},
   "source": [
    "Recall what we noticed in a previous lab. We observed that there was a correlation between two input variables (angle of attack and suction side displacement). Due to this realization, it may be beneficial to perform multivariable logistic regression without one of these variables. Since I don't have a valid argument for why I would choose one over the other, I will do multivariable regression without angle of attack and do it again without suction side displacement. This will allow me to choose which variable may be more useful without using both and having the issue of collinearity.\n",
    "I will calculate the covariance matrix of the data to really see if there's a correlation. \n",
    "\n",
    "However, after calculating the covariance matrix, I want to test the data the same way we did it at the end of lab 4. Then I will try multivariable testing while removing theses variables."
   ]
  },
  {
   "cell_type": "code",
   "execution_count": 14,
   "id": "56f1d900-4cff-4053-8480-8004fc9550ea",
   "metadata": {
    "tags": []
   },
   "outputs": [
    {
     "data": {
      "text/html": [
       "<div>\n",
       "<style scoped>\n",
       "    .dataframe tbody tr th:only-of-type {\n",
       "        vertical-align: middle;\n",
       "    }\n",
       "\n",
       "    .dataframe tbody tr th {\n",
       "        vertical-align: top;\n",
       "    }\n",
       "\n",
       "    .dataframe thead th {\n",
       "        text-align: right;\n",
       "    }\n",
       "</style>\n",
       "<table border=\"1\" class=\"dataframe\">\n",
       "  <thead>\n",
       "    <tr style=\"text-align: right;\">\n",
       "      <th></th>\n",
       "      <th>Frequency (Hz)</th>\n",
       "      <th>Angle of Attack (degrees)</th>\n",
       "      <th>Chord Length (m)</th>\n",
       "      <th>Free-stream Velocity (m/s)</th>\n",
       "      <th>Suction Side Displacement thickness (m)</th>\n",
       "      <th>Scaled Sound Pressure Level (dB)</th>\n",
       "    </tr>\n",
       "  </thead>\n",
       "  <tbody>\n",
       "    <tr>\n",
       "      <th>0</th>\n",
       "      <td>800</td>\n",
       "      <td>0.0</td>\n",
       "      <td>0.3048</td>\n",
       "      <td>71.3</td>\n",
       "      <td>0.002663</td>\n",
       "      <td>126.201</td>\n",
       "    </tr>\n",
       "    <tr>\n",
       "      <th>1</th>\n",
       "      <td>1000</td>\n",
       "      <td>0.0</td>\n",
       "      <td>0.3048</td>\n",
       "      <td>71.3</td>\n",
       "      <td>0.002663</td>\n",
       "      <td>125.201</td>\n",
       "    </tr>\n",
       "    <tr>\n",
       "      <th>2</th>\n",
       "      <td>1250</td>\n",
       "      <td>0.0</td>\n",
       "      <td>0.3048</td>\n",
       "      <td>71.3</td>\n",
       "      <td>0.002663</td>\n",
       "      <td>125.951</td>\n",
       "    </tr>\n",
       "    <tr>\n",
       "      <th>3</th>\n",
       "      <td>1600</td>\n",
       "      <td>0.0</td>\n",
       "      <td>0.3048</td>\n",
       "      <td>71.3</td>\n",
       "      <td>0.002663</td>\n",
       "      <td>127.591</td>\n",
       "    </tr>\n",
       "    <tr>\n",
       "      <th>4</th>\n",
       "      <td>2000</td>\n",
       "      <td>0.0</td>\n",
       "      <td>0.3048</td>\n",
       "      <td>71.3</td>\n",
       "      <td>0.002663</td>\n",
       "      <td>127.461</td>\n",
       "    </tr>\n",
       "  </tbody>\n",
       "</table>\n",
       "</div>"
      ],
      "text/plain": [
       "   Frequency (Hz)  Angle of Attack (degrees)  Chord Length (m)   \n",
       "0             800                        0.0            0.3048  \\\n",
       "1            1000                        0.0            0.3048   \n",
       "2            1250                        0.0            0.3048   \n",
       "3            1600                        0.0            0.3048   \n",
       "4            2000                        0.0            0.3048   \n",
       "\n",
       "   Free-stream Velocity (m/s)  Suction Side Displacement thickness (m)   \n",
       "0                        71.3                                 0.002663  \\\n",
       "1                        71.3                                 0.002663   \n",
       "2                        71.3                                 0.002663   \n",
       "3                        71.3                                 0.002663   \n",
       "4                        71.3                                 0.002663   \n",
       "\n",
       "   Scaled Sound Pressure Level (dB)  \n",
       "0                           126.201  \n",
       "1                           125.201  \n",
       "2                           125.951  \n",
       "3                           127.591  \n",
       "4                           127.461  "
      ]
     },
     "execution_count": 14,
     "metadata": {},
     "output_type": "execute_result"
    }
   ],
   "source": [
    "af_data1 = af_data.drop(columns = ['Categorized Sound Level'])\n",
    "af_data1.head()"
   ]
  },
  {
   "cell_type": "code",
   "execution_count": 15,
   "id": "f955b3f6-f957-43fe-888a-2682c11b9898",
   "metadata": {
    "tags": []
   },
   "outputs": [
    {
     "data": {
      "text/html": [
       "<div>\n",
       "<style scoped>\n",
       "    .dataframe tbody tr th:only-of-type {\n",
       "        vertical-align: middle;\n",
       "    }\n",
       "\n",
       "    .dataframe tbody tr th {\n",
       "        vertical-align: top;\n",
       "    }\n",
       "\n",
       "    .dataframe thead th {\n",
       "        text-align: right;\n",
       "    }\n",
       "</style>\n",
       "<table border=\"1\" class=\"dataframe\">\n",
       "  <thead>\n",
       "    <tr style=\"text-align: right;\">\n",
       "      <th></th>\n",
       "      <th>Frequency (Hz)</th>\n",
       "      <th>Angle of Attack (degrees)</th>\n",
       "      <th>Chord Length (m)</th>\n",
       "      <th>Free-stream Velocity (m/s)</th>\n",
       "      <th>Suction Side Displacement thickness (m)</th>\n",
       "      <th>Scaled Sound Pressure Level (dB)</th>\n",
       "    </tr>\n",
       "  </thead>\n",
       "  <tbody>\n",
       "    <tr>\n",
       "      <th>0</th>\n",
       "      <td>0.030303</td>\n",
       "      <td>0.0</td>\n",
       "      <td>1.0</td>\n",
       "      <td>1.0</td>\n",
       "      <td>0.039005</td>\n",
       "      <td>0.606829</td>\n",
       "    </tr>\n",
       "    <tr>\n",
       "      <th>1</th>\n",
       "      <td>0.040404</td>\n",
       "      <td>0.0</td>\n",
       "      <td>1.0</td>\n",
       "      <td>1.0</td>\n",
       "      <td>0.039005</td>\n",
       "      <td>0.580238</td>\n",
       "    </tr>\n",
       "    <tr>\n",
       "      <th>2</th>\n",
       "      <td>0.053030</td>\n",
       "      <td>0.0</td>\n",
       "      <td>1.0</td>\n",
       "      <td>1.0</td>\n",
       "      <td>0.039005</td>\n",
       "      <td>0.600181</td>\n",
       "    </tr>\n",
       "    <tr>\n",
       "      <th>3</th>\n",
       "      <td>0.070707</td>\n",
       "      <td>0.0</td>\n",
       "      <td>1.0</td>\n",
       "      <td>1.0</td>\n",
       "      <td>0.039005</td>\n",
       "      <td>0.643790</td>\n",
       "    </tr>\n",
       "    <tr>\n",
       "      <th>4</th>\n",
       "      <td>0.090909</td>\n",
       "      <td>0.0</td>\n",
       "      <td>1.0</td>\n",
       "      <td>1.0</td>\n",
       "      <td>0.039005</td>\n",
       "      <td>0.640333</td>\n",
       "    </tr>\n",
       "  </tbody>\n",
       "</table>\n",
       "</div>"
      ],
      "text/plain": [
       "   Frequency (Hz)  Angle of Attack (degrees)  Chord Length (m)   \n",
       "0        0.030303                        0.0               1.0  \\\n",
       "1        0.040404                        0.0               1.0   \n",
       "2        0.053030                        0.0               1.0   \n",
       "3        0.070707                        0.0               1.0   \n",
       "4        0.090909                        0.0               1.0   \n",
       "\n",
       "   Free-stream Velocity (m/s)  Suction Side Displacement thickness (m)   \n",
       "0                         1.0                                 0.039005  \\\n",
       "1                         1.0                                 0.039005   \n",
       "2                         1.0                                 0.039005   \n",
       "3                         1.0                                 0.039005   \n",
       "4                         1.0                                 0.039005   \n",
       "\n",
       "   Scaled Sound Pressure Level (dB)  \n",
       "0                          0.606829  \n",
       "1                          0.580238  \n",
       "2                          0.600181  \n",
       "3                          0.643790  \n",
       "4                          0.640333  "
      ]
     },
     "execution_count": 15,
     "metadata": {},
     "output_type": "execute_result"
    }
   ],
   "source": [
    "from sklearn import preprocessing\n",
    "min_max_scaler = preprocessing.MinMaxScaler()\n",
    "\n",
    "af_data_temp = af_data1\n",
    "af_data_scaled = min_max_scaler.fit_transform(af_data_temp)\n",
    "af_data_norm = pd.DataFrame(af_data_scaled,columns=af_data1.columns)\n",
    "\n",
    "af_data_norm.head()"
   ]
  },
  {
   "cell_type": "code",
   "execution_count": 16,
   "id": "834872ce-d805-4ff0-b8bf-2207f729a211",
   "metadata": {
    "tags": []
   },
   "outputs": [
    {
     "data": {
      "text/html": [
       "<div>\n",
       "<style scoped>\n",
       "    .dataframe tbody tr th:only-of-type {\n",
       "        vertical-align: middle;\n",
       "    }\n",
       "\n",
       "    .dataframe tbody tr th {\n",
       "        vertical-align: top;\n",
       "    }\n",
       "\n",
       "    .dataframe thead th {\n",
       "        text-align: right;\n",
       "    }\n",
       "</style>\n",
       "<table border=\"1\" class=\"dataframe\">\n",
       "  <thead>\n",
       "    <tr style=\"text-align: right;\">\n",
       "      <th></th>\n",
       "      <th>Frequency (Hz)</th>\n",
       "      <th>Angle of Attack (degrees)</th>\n",
       "      <th>Chord Length (m)</th>\n",
       "      <th>Free-stream Velocity (m/s)</th>\n",
       "      <th>Suction Side Displacement thickness (m)</th>\n",
       "      <th>Scaled Sound Pressure Level (dB)</th>\n",
       "    </tr>\n",
       "  </thead>\n",
       "  <tbody>\n",
       "    <tr>\n",
       "      <th>Frequency (Hz)</th>\n",
       "      <td>0.025351</td>\n",
       "      <td>-0.011578</td>\n",
       "      <td>-0.000195</td>\n",
       "      <td>0.008369</td>\n",
       "      <td>-0.008305</td>\n",
       "      <td>-0.011412</td>\n",
       "    </tr>\n",
       "    <tr>\n",
       "      <th>Angle of Attack (degrees)</th>\n",
       "      <td>-0.011578</td>\n",
       "      <td>0.071066</td>\n",
       "      <td>-0.045059</td>\n",
       "      <td>0.006160</td>\n",
       "      <td>0.045528</td>\n",
       "      <td>-0.007634</td>\n",
       "    </tr>\n",
       "    <tr>\n",
       "      <th>Chord Length (m)</th>\n",
       "      <td>-0.000195</td>\n",
       "      <td>-0.045059</td>\n",
       "      <td>0.112085</td>\n",
       "      <td>0.000499</td>\n",
       "      <td>-0.016760</td>\n",
       "      <td>-0.014504</td>\n",
       "    </tr>\n",
       "    <tr>\n",
       "      <th>Free-stream Velocity (m/s)</th>\n",
       "      <td>0.008369</td>\n",
       "      <td>0.006160</td>\n",
       "      <td>0.000499</td>\n",
       "      <td>0.154647</td>\n",
       "      <td>-0.000354</td>\n",
       "      <td>0.009025</td>\n",
       "    </tr>\n",
       "    <tr>\n",
       "      <th>Suction Side Displacement thickness (m)</th>\n",
       "      <td>-0.008305</td>\n",
       "      <td>0.045528</td>\n",
       "      <td>-0.016760</td>\n",
       "      <td>-0.000354</td>\n",
       "      <td>0.051387</td>\n",
       "      <td>-0.013002</td>\n",
       "    </tr>\n",
       "    <tr>\n",
       "      <th>Scaled Sound Pressure Level (dB)</th>\n",
       "      <td>-0.011412</td>\n",
       "      <td>-0.007634</td>\n",
       "      <td>-0.014504</td>\n",
       "      <td>0.009025</td>\n",
       "      <td>-0.013002</td>\n",
       "      <td>0.033651</td>\n",
       "    </tr>\n",
       "  </tbody>\n",
       "</table>\n",
       "</div>"
      ],
      "text/plain": [
       "                                         Frequency (Hz)   \n",
       "Frequency (Hz)                                 0.025351  \\\n",
       "Angle of Attack (degrees)                     -0.011578   \n",
       "Chord Length (m)                              -0.000195   \n",
       "Free-stream Velocity (m/s)                     0.008369   \n",
       "Suction Side Displacement thickness (m)       -0.008305   \n",
       "Scaled Sound Pressure Level (dB)              -0.011412   \n",
       "\n",
       "                                         Angle of Attack (degrees)   \n",
       "Frequency (Hz)                                           -0.011578  \\\n",
       "Angle of Attack (degrees)                                 0.071066   \n",
       "Chord Length (m)                                         -0.045059   \n",
       "Free-stream Velocity (m/s)                                0.006160   \n",
       "Suction Side Displacement thickness (m)                   0.045528   \n",
       "Scaled Sound Pressure Level (dB)                         -0.007634   \n",
       "\n",
       "                                         Chord Length (m)   \n",
       "Frequency (Hz)                                  -0.000195  \\\n",
       "Angle of Attack (degrees)                       -0.045059   \n",
       "Chord Length (m)                                 0.112085   \n",
       "Free-stream Velocity (m/s)                       0.000499   \n",
       "Suction Side Displacement thickness (m)         -0.016760   \n",
       "Scaled Sound Pressure Level (dB)                -0.014504   \n",
       "\n",
       "                                         Free-stream Velocity (m/s)   \n",
       "Frequency (Hz)                                             0.008369  \\\n",
       "Angle of Attack (degrees)                                  0.006160   \n",
       "Chord Length (m)                                           0.000499   \n",
       "Free-stream Velocity (m/s)                                 0.154647   \n",
       "Suction Side Displacement thickness (m)                   -0.000354   \n",
       "Scaled Sound Pressure Level (dB)                           0.009025   \n",
       "\n",
       "                                         Suction Side Displacement thickness (m)   \n",
       "Frequency (Hz)                                                         -0.008305  \\\n",
       "Angle of Attack (degrees)                                               0.045528   \n",
       "Chord Length (m)                                                       -0.016760   \n",
       "Free-stream Velocity (m/s)                                             -0.000354   \n",
       "Suction Side Displacement thickness (m)                                 0.051387   \n",
       "Scaled Sound Pressure Level (dB)                                       -0.013002   \n",
       "\n",
       "                                         Scaled Sound Pressure Level (dB)  \n",
       "Frequency (Hz)                                                  -0.011412  \n",
       "Angle of Attack (degrees)                                       -0.007634  \n",
       "Chord Length (m)                                                -0.014504  \n",
       "Free-stream Velocity (m/s)                                       0.009025  \n",
       "Suction Side Displacement thickness (m)                         -0.013002  \n",
       "Scaled Sound Pressure Level (dB)                                 0.033651  "
      ]
     },
     "execution_count": 16,
     "metadata": {},
     "output_type": "execute_result"
    }
   ],
   "source": [
    "af_data_norm.cov()"
   ]
  },
  {
   "cell_type": "markdown",
   "id": "d3fcf889-6004-4b86-81c3-392b66c52a29",
   "metadata": {},
   "source": [
    "This is a little disappointing. I don't see any strong correlation between anything, so my previous plan doesn't seem very worthwhile. I will still perform multiple variable regression while removing variables, but now I don't have a good idea for where to start with removing them."
   ]
  },
  {
   "cell_type": "code",
   "execution_count": 17,
   "id": "43f9c92e-a852-4c9b-8d64-bdfa308b0796",
   "metadata": {
    "tags": []
   },
   "outputs": [],
   "source": [
    "import sklearn.metrics as metrics"
   ]
  },
  {
   "cell_type": "code",
   "execution_count": 18,
   "id": "599f4f13-51a0-47bd-81e6-278ed6a9df08",
   "metadata": {
    "tags": []
   },
   "outputs": [
    {
     "data": {
      "text/html": [
       "<div>\n",
       "<style scoped>\n",
       "    .dataframe tbody tr th:only-of-type {\n",
       "        vertical-align: middle;\n",
       "    }\n",
       "\n",
       "    .dataframe tbody tr th {\n",
       "        vertical-align: top;\n",
       "    }\n",
       "\n",
       "    .dataframe thead th {\n",
       "        text-align: right;\n",
       "    }\n",
       "</style>\n",
       "<table border=\"1\" class=\"dataframe\">\n",
       "  <thead>\n",
       "    <tr style=\"text-align: right;\">\n",
       "      <th></th>\n",
       "      <th>AoA</th>\n",
       "      <th>SSDT</th>\n",
       "    </tr>\n",
       "  </thead>\n",
       "  <tbody>\n",
       "    <tr>\n",
       "      <th>0</th>\n",
       "      <td>0.0</td>\n",
       "      <td>0.039005</td>\n",
       "    </tr>\n",
       "    <tr>\n",
       "      <th>1</th>\n",
       "      <td>0.0</td>\n",
       "      <td>0.039005</td>\n",
       "    </tr>\n",
       "    <tr>\n",
       "      <th>2</th>\n",
       "      <td>0.0</td>\n",
       "      <td>0.039005</td>\n",
       "    </tr>\n",
       "    <tr>\n",
       "      <th>3</th>\n",
       "      <td>0.0</td>\n",
       "      <td>0.039005</td>\n",
       "    </tr>\n",
       "    <tr>\n",
       "      <th>4</th>\n",
       "      <td>0.0</td>\n",
       "      <td>0.039005</td>\n",
       "    </tr>\n",
       "  </tbody>\n",
       "</table>\n",
       "</div>"
      ],
      "text/plain": [
       "   AoA      SSDT\n",
       "0  0.0  0.039005\n",
       "1  0.0  0.039005\n",
       "2  0.0  0.039005\n",
       "3  0.0  0.039005\n",
       "4  0.0  0.039005"
      ]
     },
     "execution_count": 18,
     "metadata": {},
     "output_type": "execute_result"
    }
   ],
   "source": [
    "af_data_norm2 = af_data_norm.drop(columns = ['Frequency (Hz)','Chord Length (m)','Free-stream Velocity (m/s)','Scaled Sound Pressure Level (dB)'])\n",
    "\n",
    "header = [\"AoA\",\"SSDT\"]\n",
    "af_data_norm2.columns = header\n",
    "\n",
    "af_data_norm2.head()"
   ]
  },
  {
   "cell_type": "code",
   "execution_count": 19,
   "id": "18c4b798-cd43-4f1b-8077-c9e73e486763",
   "metadata": {
    "tags": []
   },
   "outputs": [
    {
     "data": {
      "text/html": [
       "<div>\n",
       "<style scoped>\n",
       "    .dataframe tbody tr th:only-of-type {\n",
       "        vertical-align: middle;\n",
       "    }\n",
       "\n",
       "    .dataframe tbody tr th {\n",
       "        vertical-align: top;\n",
       "    }\n",
       "\n",
       "    .dataframe thead th {\n",
       "        text-align: right;\n",
       "    }\n",
       "</style>\n",
       "<table border=\"1\" class=\"dataframe\">\n",
       "  <thead>\n",
       "    <tr style=\"text-align: right;\">\n",
       "      <th></th>\n",
       "      <th>AoA</th>\n",
       "      <th>SSDT</th>\n",
       "    </tr>\n",
       "  </thead>\n",
       "  <tbody>\n",
       "    <tr>\n",
       "      <th>AoA</th>\n",
       "      <td>0.071066</td>\n",
       "      <td>0.045528</td>\n",
       "    </tr>\n",
       "    <tr>\n",
       "      <th>SSDT</th>\n",
       "      <td>0.045528</td>\n",
       "      <td>0.051387</td>\n",
       "    </tr>\n",
       "  </tbody>\n",
       "</table>\n",
       "</div>"
      ],
      "text/plain": [
       "           AoA      SSDT\n",
       "AoA   0.071066  0.045528\n",
       "SSDT  0.045528  0.051387"
      ]
     },
     "execution_count": 19,
     "metadata": {},
     "output_type": "execute_result"
    }
   ],
   "source": [
    "af_data_norm2.cov()"
   ]
  },
  {
   "cell_type": "markdown",
   "id": "f6e53097-42f1-43e3-b062-1a755bc35c05",
   "metadata": {},
   "source": [
    "I made this covariance matrix for the poster presentation. It'll fit better and be easier to read than the other covariance matrix (and showcases only the variables I was discussing)."
   ]
  },
  {
   "cell_type": "code",
   "execution_count": 20,
   "id": "21bbfed8-3b9b-440e-b091-bf53e34d0d68",
   "metadata": {},
   "outputs": [
    {
     "name": "stdout",
     "output_type": "stream",
     "text": [
      "Accuracy: 0.8936170212765957\n",
      "Precision: 0.9242424242424242\n",
      "Recall: 0.9821428571428571\n"
     ]
    }
   ],
   "source": [
    "print(\"Accuracy:\", metrics.accuracy_score(y_test, y_pred))\n",
    "print(\"Precision:\", metrics.precision_score(y_test, y_pred, pos_label=\"Safe\"))\n",
    "print(\"Recall:\", metrics.recall_score(y_test, y_pred, pos_label=\"Not Safe\"))"
   ]
  },
  {
   "cell_type": "code",
   "execution_count": 21,
   "id": "644b2199-1557-4c3a-b0a1-36fe988c0d17",
   "metadata": {
    "tags": []
   },
   "outputs": [],
   "source": [
    "X1 = X\n",
    "y1 = y"
   ]
  },
  {
   "cell_type": "code",
   "execution_count": 22,
   "id": "8570cd5b-702e-4190-9c69-ee9eb9c1ce5d",
   "metadata": {
    "tags": []
   },
   "outputs": [],
   "source": [
    "from sklearn.model_selection import StratifiedShuffleSplit\n",
    "\n",
    "sss = StratifiedShuffleSplit(n_splits=5, test_size=0.5, random_state=0)\n",
    "sss.get_n_splits(X1, y1);"
   ]
  },
  {
   "cell_type": "code",
   "execution_count": 23,
   "id": "473a1d0c-b59f-4a6f-94bc-7a8f8b1e2d2c",
   "metadata": {
    "tags": []
   },
   "outputs": [
    {
     "name": "stdout",
     "output_type": "stream",
     "text": [
      "[0.7978723404255319, 0.7992021276595744, 0.776595744680851, 0.8297872340425532, 0.7872340425531915]\n"
     ]
    }
   ],
   "source": [
    "from sklearn.metrics import accuracy_score\n",
    "scores = []\n",
    " \n",
    "# using regression to get predicted data\n",
    "model=LogisticRegression(random_state = 0, solver='lbfgs', multi_class='auto', max_iter=500)\n",
    "\n",
    "for train_index, test_index in sss.split(X1, y1):\n",
    "    X_train, X_test = X1[train_index], X1[test_index]\n",
    "    y_train, y_test = y1[train_index], y1[test_index]\n",
    "    model.fit(X_train, y_train)\n",
    "    pred = model.predict(X_test)\n",
    "    scores.append(accuracy_score(y_test, pred))\n",
    " \n",
    "# get accuracy of each prediction\n",
    "print(scores)"
   ]
  },
  {
   "cell_type": "markdown",
   "id": "1a013750-abae-411f-858f-a9b31c303df2",
   "metadata": {},
   "source": [
    "#### Not using angle of attack"
   ]
  },
  {
   "cell_type": "code",
   "execution_count": 24,
   "id": "5313827c-68b7-4368-ac74-e4e5a53875c9",
   "metadata": {
    "tags": []
   },
   "outputs": [],
   "source": [
    "# Splitting the dataset into the Training set and Test set\n",
    "X1 = af_data.iloc[:, [0, 2, 3, 4]].values\n",
    "y1 = af_data.iloc[:, 6].values\n",
    "X1_train, X1_test, y1_train, y1_test = train_test_split(X1, y1, test_size = 0.25, random_state = 3)"
   ]
  },
  {
   "cell_type": "code",
   "execution_count": 25,
   "id": "dd0c8838-b55e-41be-bbc5-2eff8aef7580",
   "metadata": {
    "tags": []
   },
   "outputs": [
    {
     "data": {
      "text/html": [
       "<style>#sk-container-id-2 {color: black;background-color: white;}#sk-container-id-2 pre{padding: 0;}#sk-container-id-2 div.sk-toggleable {background-color: white;}#sk-container-id-2 label.sk-toggleable__label {cursor: pointer;display: block;width: 100%;margin-bottom: 0;padding: 0.3em;box-sizing: border-box;text-align: center;}#sk-container-id-2 label.sk-toggleable__label-arrow:before {content: \"▸\";float: left;margin-right: 0.25em;color: #696969;}#sk-container-id-2 label.sk-toggleable__label-arrow:hover:before {color: black;}#sk-container-id-2 div.sk-estimator:hover label.sk-toggleable__label-arrow:before {color: black;}#sk-container-id-2 div.sk-toggleable__content {max-height: 0;max-width: 0;overflow: hidden;text-align: left;background-color: #f0f8ff;}#sk-container-id-2 div.sk-toggleable__content pre {margin: 0.2em;color: black;border-radius: 0.25em;background-color: #f0f8ff;}#sk-container-id-2 input.sk-toggleable__control:checked~div.sk-toggleable__content {max-height: 200px;max-width: 100%;overflow: auto;}#sk-container-id-2 input.sk-toggleable__control:checked~label.sk-toggleable__label-arrow:before {content: \"▾\";}#sk-container-id-2 div.sk-estimator input.sk-toggleable__control:checked~label.sk-toggleable__label {background-color: #d4ebff;}#sk-container-id-2 div.sk-label input.sk-toggleable__control:checked~label.sk-toggleable__label {background-color: #d4ebff;}#sk-container-id-2 input.sk-hidden--visually {border: 0;clip: rect(1px 1px 1px 1px);clip: rect(1px, 1px, 1px, 1px);height: 1px;margin: -1px;overflow: hidden;padding: 0;position: absolute;width: 1px;}#sk-container-id-2 div.sk-estimator {font-family: monospace;background-color: #f0f8ff;border: 1px dotted black;border-radius: 0.25em;box-sizing: border-box;margin-bottom: 0.5em;}#sk-container-id-2 div.sk-estimator:hover {background-color: #d4ebff;}#sk-container-id-2 div.sk-parallel-item::after {content: \"\";width: 100%;border-bottom: 1px solid gray;flex-grow: 1;}#sk-container-id-2 div.sk-label:hover label.sk-toggleable__label {background-color: #d4ebff;}#sk-container-id-2 div.sk-serial::before {content: \"\";position: absolute;border-left: 1px solid gray;box-sizing: border-box;top: 0;bottom: 0;left: 50%;z-index: 0;}#sk-container-id-2 div.sk-serial {display: flex;flex-direction: column;align-items: center;background-color: white;padding-right: 0.2em;padding-left: 0.2em;position: relative;}#sk-container-id-2 div.sk-item {position: relative;z-index: 1;}#sk-container-id-2 div.sk-parallel {display: flex;align-items: stretch;justify-content: center;background-color: white;position: relative;}#sk-container-id-2 div.sk-item::before, #sk-container-id-2 div.sk-parallel-item::before {content: \"\";position: absolute;border-left: 1px solid gray;box-sizing: border-box;top: 0;bottom: 0;left: 50%;z-index: -1;}#sk-container-id-2 div.sk-parallel-item {display: flex;flex-direction: column;z-index: 1;position: relative;background-color: white;}#sk-container-id-2 div.sk-parallel-item:first-child::after {align-self: flex-end;width: 50%;}#sk-container-id-2 div.sk-parallel-item:last-child::after {align-self: flex-start;width: 50%;}#sk-container-id-2 div.sk-parallel-item:only-child::after {width: 0;}#sk-container-id-2 div.sk-dashed-wrapped {border: 1px dashed gray;margin: 0 0.4em 0.5em 0.4em;box-sizing: border-box;padding-bottom: 0.4em;background-color: white;}#sk-container-id-2 div.sk-label label {font-family: monospace;font-weight: bold;display: inline-block;line-height: 1.2em;}#sk-container-id-2 div.sk-label-container {text-align: center;}#sk-container-id-2 div.sk-container {/* jupyter's `normalize.less` sets `[hidden] { display: none; }` but bootstrap.min.css set `[hidden] { display: none !important; }` so we also need the `!important` here to be able to override the default hidden behavior on the sphinx rendered scikit-learn.org. See: https://github.com/scikit-learn/scikit-learn/issues/21755 */display: inline-block !important;position: relative;}#sk-container-id-2 div.sk-text-repr-fallback {display: none;}</style><div id=\"sk-container-id-2\" class=\"sk-top-container\"><div class=\"sk-text-repr-fallback\"><pre>LogisticRegression(max_iter=500, random_state=0)</pre><b>In a Jupyter environment, please rerun this cell to show the HTML representation or trust the notebook. <br />On GitHub, the HTML representation is unable to render, please try loading this page with nbviewer.org.</b></div><div class=\"sk-container\" hidden><div class=\"sk-item\"><div class=\"sk-estimator sk-toggleable\"><input class=\"sk-toggleable__control sk-hidden--visually\" id=\"sk-estimator-id-2\" type=\"checkbox\" checked><label for=\"sk-estimator-id-2\" class=\"sk-toggleable__label sk-toggleable__label-arrow\">LogisticRegression</label><div class=\"sk-toggleable__content\"><pre>LogisticRegression(max_iter=500, random_state=0)</pre></div></div></div></div></div>"
      ],
      "text/plain": [
       "LogisticRegression(max_iter=500, random_state=0)"
      ]
     },
     "execution_count": 25,
     "metadata": {},
     "output_type": "execute_result"
    }
   ],
   "source": [
    "classifier.fit(X1_train,y1_train)"
   ]
  },
  {
   "cell_type": "code",
   "execution_count": 26,
   "id": "cc527e52-6c18-42df-95e8-15bd57794f3e",
   "metadata": {
    "tags": []
   },
   "outputs": [],
   "source": [
    "# Predicting the Test set results\n",
    "y1_pred = classifier.predict(X1_test)\n",
    "\n",
    "# Predict probabilities\n",
    "probs_y1=classifier.predict_proba(X1_test)"
   ]
  },
  {
   "cell_type": "code",
   "execution_count": 27,
   "id": "3bd2adf6-bc60-4e18-babd-bcefc9f2d8d5",
   "metadata": {
    "tags": []
   },
   "outputs": [
    {
     "data": {
      "text/html": [
       "<div>\n",
       "<style scoped>\n",
       "    .dataframe tbody tr th:only-of-type {\n",
       "        vertical-align: middle;\n",
       "    }\n",
       "\n",
       "    .dataframe tbody tr th {\n",
       "        vertical-align: top;\n",
       "    }\n",
       "\n",
       "    .dataframe thead th {\n",
       "        text-align: right;\n",
       "    }\n",
       "</style>\n",
       "<table border=\"1\" class=\"dataframe\">\n",
       "  <thead>\n",
       "    <tr style=\"text-align: right;\">\n",
       "      <th></th>\n",
       "      <th>Correct label</th>\n",
       "      <th>Predicted label</th>\n",
       "      <th>Probability Not Safe</th>\n",
       "      <th>Probability Safe</th>\n",
       "    </tr>\n",
       "  </thead>\n",
       "  <tbody>\n",
       "    <tr>\n",
       "      <th>0</th>\n",
       "      <td>Not Safe</td>\n",
       "      <td>Not Safe</td>\n",
       "      <td>0.905725</td>\n",
       "      <td>0.094275</td>\n",
       "    </tr>\n",
       "    <tr>\n",
       "      <th>1</th>\n",
       "      <td>Not Safe</td>\n",
       "      <td>Not Safe</td>\n",
       "      <td>0.822837</td>\n",
       "      <td>0.177163</td>\n",
       "    </tr>\n",
       "    <tr>\n",
       "      <th>2</th>\n",
       "      <td>Not Safe</td>\n",
       "      <td>Not Safe</td>\n",
       "      <td>0.857172</td>\n",
       "      <td>0.142828</td>\n",
       "    </tr>\n",
       "    <tr>\n",
       "      <th>3</th>\n",
       "      <td>Not Safe</td>\n",
       "      <td>Safe</td>\n",
       "      <td>0.440357</td>\n",
       "      <td>0.559643</td>\n",
       "    </tr>\n",
       "    <tr>\n",
       "      <th>4</th>\n",
       "      <td>Safe</td>\n",
       "      <td>Safe</td>\n",
       "      <td>0.480544</td>\n",
       "      <td>0.519456</td>\n",
       "    </tr>\n",
       "    <tr>\n",
       "      <th>...</th>\n",
       "      <td>...</td>\n",
       "      <td>...</td>\n",
       "      <td>...</td>\n",
       "      <td>...</td>\n",
       "    </tr>\n",
       "    <tr>\n",
       "      <th>371</th>\n",
       "      <td>Not Safe</td>\n",
       "      <td>Not Safe</td>\n",
       "      <td>0.784421</td>\n",
       "      <td>0.215579</td>\n",
       "    </tr>\n",
       "    <tr>\n",
       "      <th>372</th>\n",
       "      <td>Not Safe</td>\n",
       "      <td>Not Safe</td>\n",
       "      <td>0.732868</td>\n",
       "      <td>0.267132</td>\n",
       "    </tr>\n",
       "    <tr>\n",
       "      <th>373</th>\n",
       "      <td>Not Safe</td>\n",
       "      <td>Not Safe</td>\n",
       "      <td>0.846505</td>\n",
       "      <td>0.153495</td>\n",
       "    </tr>\n",
       "    <tr>\n",
       "      <th>374</th>\n",
       "      <td>Not Safe</td>\n",
       "      <td>Not Safe</td>\n",
       "      <td>0.567225</td>\n",
       "      <td>0.432775</td>\n",
       "    </tr>\n",
       "    <tr>\n",
       "      <th>375</th>\n",
       "      <td>Not Safe</td>\n",
       "      <td>Not Safe</td>\n",
       "      <td>0.848374</td>\n",
       "      <td>0.151626</td>\n",
       "    </tr>\n",
       "  </tbody>\n",
       "</table>\n",
       "<p>376 rows × 4 columns</p>\n",
       "</div>"
      ],
      "text/plain": [
       "    Correct label Predicted label  Probability Not Safe  Probability Safe\n",
       "0        Not Safe        Not Safe              0.905725          0.094275\n",
       "1        Not Safe        Not Safe              0.822837          0.177163\n",
       "2        Not Safe        Not Safe              0.857172          0.142828\n",
       "3        Not Safe            Safe              0.440357          0.559643\n",
       "4            Safe            Safe              0.480544          0.519456\n",
       "..            ...             ...                   ...               ...\n",
       "371      Not Safe        Not Safe              0.784421          0.215579\n",
       "372      Not Safe        Not Safe              0.732868          0.267132\n",
       "373      Not Safe        Not Safe              0.846505          0.153495\n",
       "374      Not Safe        Not Safe              0.567225          0.432775\n",
       "375      Not Safe        Not Safe              0.848374          0.151626\n",
       "\n",
       "[376 rows x 4 columns]"
      ]
     },
     "execution_count": 27,
     "metadata": {},
     "output_type": "execute_result"
    }
   ],
   "source": [
    "data1 = {'Correct label':y1_test, 'Predicted label':y1_pred, 'Probability Not Safe':probs_y1[:,0],\n",
    "       'Probability Safe':probs_y1[:,1]}\n",
    "# Create DataFrame\n",
    "df1 = pd.DataFrame(data1)\n",
    " \n",
    "# Print the output.\n",
    "df1"
   ]
  },
  {
   "cell_type": "code",
   "execution_count": 28,
   "id": "9aeafa9b-3c22-4c11-85e5-d73b85dd6d02",
   "metadata": {
    "tags": []
   },
   "outputs": [
    {
     "name": "stdout",
     "output_type": "stream",
     "text": [
      "[[280  18]\n",
      " [ 53  25]]\n"
     ]
    }
   ],
   "source": [
    "cm = confusion_matrix(y1_test, y1_pred)\n",
    "print(cm)"
   ]
  },
  {
   "cell_type": "code",
   "execution_count": 29,
   "id": "711ed76b-cf65-420f-9ba0-fb3b7fc4f0fc",
   "metadata": {
    "tags": []
   },
   "outputs": [
    {
     "data": {
      "image/png": "[encoded data removed]",
      "text/plain": [
       "<Figure size 640x480 with 2 Axes>"
      ]
     },
     "metadata": {},
     "output_type": "display_data"
    }
   ],
   "source": [
    "ax = plt.axes()\n",
    "df_cm = cm\n",
    "sns.heatmap(df_cm, annot=True, annot_kws={\"size\": 30}, fmt='d',cmap=\"Blues\", ax = ax )\n",
    "ax.set_title('Confusion Matrix')\n",
    "plt.show()"
   ]
  },
  {
   "cell_type": "code",
   "execution_count": 30,
   "id": "ee6827f2-2060-4e4f-bf7e-cbf7f581bf76",
   "metadata": {
    "tags": []
   },
   "outputs": [],
   "source": [
    "sss.get_n_splits(X1, y1);"
   ]
  },
  {
   "cell_type": "code",
   "execution_count": 31,
   "id": "1724ec6f-8e05-456c-8f89-392c3934830e",
   "metadata": {
    "tags": []
   },
   "outputs": [
    {
     "name": "stdout",
     "output_type": "stream",
     "text": [
      "[0.7845744680851063, 0.8098404255319149, 0.7792553191489362, 0.776595744680851, 0.7898936170212766]\n"
     ]
    }
   ],
   "source": [
    "scores1 = []\n",
    " \n",
    "# using regression to get predicted data\n",
    "model=LogisticRegression(random_state = 0, solver='lbfgs', multi_class='auto', max_iter=500)\n",
    "\n",
    "for train_index, test_index in sss.split(X1, y1):\n",
    "    X_train, X_test = X1[train_index], X1[test_index]\n",
    "    y_train, y_test = y1[train_index], y1[test_index]\n",
    "    model.fit(X_train, y_train)\n",
    "    pred = model.predict(X_test)\n",
    "    scores1.append(accuracy_score(y_test, pred))\n",
    " \n",
    "# get accuracy of each prediction\n",
    "print(scores1)"
   ]
  },
  {
   "cell_type": "markdown",
   "id": "d2bb3dd9-8241-4960-9c4b-27a03aa198bb",
   "metadata": {},
   "source": [
    "#### Not using suction side displacement"
   ]
  },
  {
   "cell_type": "code",
   "execution_count": 32,
   "id": "12fa3a4d-ee75-4fc8-b1ea-16bc41fdeb62",
   "metadata": {
    "tags": []
   },
   "outputs": [],
   "source": [
    "X2 = af_data.iloc[:, [0, 1, 2, 3]].values\n",
    "y2 = af_data.iloc[:, 6].values\n",
    "X2_train, X2_test, y2_train, y2_test = train_test_split(X2, y2, test_size = 0.25, random_state = 3)"
   ]
  },
  {
   "cell_type": "code",
   "execution_count": 33,
   "id": "0582cbbf-dc96-4464-bbfc-08635d0de9ff",
   "metadata": {
    "tags": []
   },
   "outputs": [
    {
     "data": {
      "text/html": [
       "<style>#sk-container-id-3 {color: black;background-color: white;}#sk-container-id-3 pre{padding: 0;}#sk-container-id-3 div.sk-toggleable {background-color: white;}#sk-container-id-3 label.sk-toggleable__label {cursor: pointer;display: block;width: 100%;margin-bottom: 0;padding: 0.3em;box-sizing: border-box;text-align: center;}#sk-container-id-3 label.sk-toggleable__label-arrow:before {content: \"▸\";float: left;margin-right: 0.25em;color: #696969;}#sk-container-id-3 label.sk-toggleable__label-arrow:hover:before {color: black;}#sk-container-id-3 div.sk-estimator:hover label.sk-toggleable__label-arrow:before {color: black;}#sk-container-id-3 div.sk-toggleable__content {max-height: 0;max-width: 0;overflow: hidden;text-align: left;background-color: #f0f8ff;}#sk-container-id-3 div.sk-toggleable__content pre {margin: 0.2em;color: black;border-radius: 0.25em;background-color: #f0f8ff;}#sk-container-id-3 input.sk-toggleable__control:checked~div.sk-toggleable__content {max-height: 200px;max-width: 100%;overflow: auto;}#sk-container-id-3 input.sk-toggleable__control:checked~label.sk-toggleable__label-arrow:before {content: \"▾\";}#sk-container-id-3 div.sk-estimator input.sk-toggleable__control:checked~label.sk-toggleable__label {background-color: #d4ebff;}#sk-container-id-3 div.sk-label input.sk-toggleable__control:checked~label.sk-toggleable__label {background-color: #d4ebff;}#sk-container-id-3 input.sk-hidden--visually {border: 0;clip: rect(1px 1px 1px 1px);clip: rect(1px, 1px, 1px, 1px);height: 1px;margin: -1px;overflow: hidden;padding: 0;position: absolute;width: 1px;}#sk-container-id-3 div.sk-estimator {font-family: monospace;background-color: #f0f8ff;border: 1px dotted black;border-radius: 0.25em;box-sizing: border-box;margin-bottom: 0.5em;}#sk-container-id-3 div.sk-estimator:hover {background-color: #d4ebff;}#sk-container-id-3 div.sk-parallel-item::after {content: \"\";width: 100%;border-bottom: 1px solid gray;flex-grow: 1;}#sk-container-id-3 div.sk-label:hover label.sk-toggleable__label {background-color: #d4ebff;}#sk-container-id-3 div.sk-serial::before {content: \"\";position: absolute;border-left: 1px solid gray;box-sizing: border-box;top: 0;bottom: 0;left: 50%;z-index: 0;}#sk-container-id-3 div.sk-serial {display: flex;flex-direction: column;align-items: center;background-color: white;padding-right: 0.2em;padding-left: 0.2em;position: relative;}#sk-container-id-3 div.sk-item {position: relative;z-index: 1;}#sk-container-id-3 div.sk-parallel {display: flex;align-items: stretch;justify-content: center;background-color: white;position: relative;}#sk-container-id-3 div.sk-item::before, #sk-container-id-3 div.sk-parallel-item::before {content: \"\";position: absolute;border-left: 1px solid gray;box-sizing: border-box;top: 0;bottom: 0;left: 50%;z-index: -1;}#sk-container-id-3 div.sk-parallel-item {display: flex;flex-direction: column;z-index: 1;position: relative;background-color: white;}#sk-container-id-3 div.sk-parallel-item:first-child::after {align-self: flex-end;width: 50%;}#sk-container-id-3 div.sk-parallel-item:last-child::after {align-self: flex-start;width: 50%;}#sk-container-id-3 div.sk-parallel-item:only-child::after {width: 0;}#sk-container-id-3 div.sk-dashed-wrapped {border: 1px dashed gray;margin: 0 0.4em 0.5em 0.4em;box-sizing: border-box;padding-bottom: 0.4em;background-color: white;}#sk-container-id-3 div.sk-label label {font-family: monospace;font-weight: bold;display: inline-block;line-height: 1.2em;}#sk-container-id-3 div.sk-label-container {text-align: center;}#sk-container-id-3 div.sk-container {/* jupyter's `normalize.less` sets `[hidden] { display: none; }` but bootstrap.min.css set `[hidden] { display: none !important; }` so we also need the `!important` here to be able to override the default hidden behavior on the sphinx rendered scikit-learn.org. See: https://github.com/scikit-learn/scikit-learn/issues/21755 */display: inline-block !important;position: relative;}#sk-container-id-3 div.sk-text-repr-fallback {display: none;}</style><div id=\"sk-container-id-3\" class=\"sk-top-container\"><div class=\"sk-text-repr-fallback\"><pre>LogisticRegression(max_iter=500, random_state=0)</pre><b>In a Jupyter environment, please rerun this cell to show the HTML representation or trust the notebook. <br />On GitHub, the HTML representation is unable to render, please try loading this page with nbviewer.org.</b></div><div class=\"sk-container\" hidden><div class=\"sk-item\"><div class=\"sk-estimator sk-toggleable\"><input class=\"sk-toggleable__control sk-hidden--visually\" id=\"sk-estimator-id-3\" type=\"checkbox\" checked><label for=\"sk-estimator-id-3\" class=\"sk-toggleable__label sk-toggleable__label-arrow\">LogisticRegression</label><div class=\"sk-toggleable__content\"><pre>LogisticRegression(max_iter=500, random_state=0)</pre></div></div></div></div></div>"
      ],
      "text/plain": [
       "LogisticRegression(max_iter=500, random_state=0)"
      ]
     },
     "execution_count": 33,
     "metadata": {},
     "output_type": "execute_result"
    }
   ],
   "source": [
    "classifier.fit(X2_train,y2_train)"
   ]
  },
  {
   "cell_type": "code",
   "execution_count": 34,
   "id": "a6c325e6-7e0b-40c9-bcf8-fc9bacf6934d",
   "metadata": {},
   "outputs": [],
   "source": [
    "# Predicting the Test set results\n",
    "y2_pred = classifier.predict(X2_test)\n",
    "\n",
    "# Predict probabilities\n",
    "probs_y2=classifier.predict_proba(X2_test)"
   ]
  },
  {
   "cell_type": "code",
   "execution_count": 35,
   "id": "45071e62-db67-404c-a779-d72ed2ef459e",
   "metadata": {},
   "outputs": [
    {
     "data": {
      "text/html": [
       "<div>\n",
       "<style scoped>\n",
       "    .dataframe tbody tr th:only-of-type {\n",
       "        vertical-align: middle;\n",
       "    }\n",
       "\n",
       "    .dataframe tbody tr th {\n",
       "        vertical-align: top;\n",
       "    }\n",
       "\n",
       "    .dataframe thead th {\n",
       "        text-align: right;\n",
       "    }\n",
       "</style>\n",
       "<table border=\"1\" class=\"dataframe\">\n",
       "  <thead>\n",
       "    <tr style=\"text-align: right;\">\n",
       "      <th></th>\n",
       "      <th>Correct label</th>\n",
       "      <th>Predicted label</th>\n",
       "      <th>Probability Not Safe</th>\n",
       "      <th>Probability Safe</th>\n",
       "    </tr>\n",
       "  </thead>\n",
       "  <tbody>\n",
       "    <tr>\n",
       "      <th>0</th>\n",
       "      <td>Not Safe</td>\n",
       "      <td>Not Safe</td>\n",
       "      <td>0.905550</td>\n",
       "      <td>0.094450</td>\n",
       "    </tr>\n",
       "    <tr>\n",
       "      <th>1</th>\n",
       "      <td>Not Safe</td>\n",
       "      <td>Not Safe</td>\n",
       "      <td>0.857781</td>\n",
       "      <td>0.142219</td>\n",
       "    </tr>\n",
       "    <tr>\n",
       "      <th>2</th>\n",
       "      <td>Not Safe</td>\n",
       "      <td>Not Safe</td>\n",
       "      <td>0.693885</td>\n",
       "      <td>0.306115</td>\n",
       "    </tr>\n",
       "    <tr>\n",
       "      <th>3</th>\n",
       "      <td>Not Safe</td>\n",
       "      <td>Not Safe</td>\n",
       "      <td>0.502434</td>\n",
       "      <td>0.497566</td>\n",
       "    </tr>\n",
       "    <tr>\n",
       "      <th>4</th>\n",
       "      <td>Safe</td>\n",
       "      <td>Safe</td>\n",
       "      <td>0.438896</td>\n",
       "      <td>0.561104</td>\n",
       "    </tr>\n",
       "    <tr>\n",
       "      <th>...</th>\n",
       "      <td>...</td>\n",
       "      <td>...</td>\n",
       "      <td>...</td>\n",
       "      <td>...</td>\n",
       "    </tr>\n",
       "    <tr>\n",
       "      <th>371</th>\n",
       "      <td>Not Safe</td>\n",
       "      <td>Not Safe</td>\n",
       "      <td>0.818714</td>\n",
       "      <td>0.181286</td>\n",
       "    </tr>\n",
       "    <tr>\n",
       "      <th>372</th>\n",
       "      <td>Not Safe</td>\n",
       "      <td>Not Safe</td>\n",
       "      <td>0.922129</td>\n",
       "      <td>0.077871</td>\n",
       "    </tr>\n",
       "    <tr>\n",
       "      <th>373</th>\n",
       "      <td>Not Safe</td>\n",
       "      <td>Not Safe</td>\n",
       "      <td>0.648322</td>\n",
       "      <td>0.351678</td>\n",
       "    </tr>\n",
       "    <tr>\n",
       "      <th>374</th>\n",
       "      <td>Not Safe</td>\n",
       "      <td>Not Safe</td>\n",
       "      <td>0.684877</td>\n",
       "      <td>0.315123</td>\n",
       "    </tr>\n",
       "    <tr>\n",
       "      <th>375</th>\n",
       "      <td>Not Safe</td>\n",
       "      <td>Not Safe</td>\n",
       "      <td>0.880320</td>\n",
       "      <td>0.119680</td>\n",
       "    </tr>\n",
       "  </tbody>\n",
       "</table>\n",
       "<p>376 rows × 4 columns</p>\n",
       "</div>"
      ],
      "text/plain": [
       "    Correct label Predicted label  Probability Not Safe  Probability Safe\n",
       "0        Not Safe        Not Safe              0.905550          0.094450\n",
       "1        Not Safe        Not Safe              0.857781          0.142219\n",
       "2        Not Safe        Not Safe              0.693885          0.306115\n",
       "3        Not Safe        Not Safe              0.502434          0.497566\n",
       "4            Safe            Safe              0.438896          0.561104\n",
       "..            ...             ...                   ...               ...\n",
       "371      Not Safe        Not Safe              0.818714          0.181286\n",
       "372      Not Safe        Not Safe              0.922129          0.077871\n",
       "373      Not Safe        Not Safe              0.648322          0.351678\n",
       "374      Not Safe        Not Safe              0.684877          0.315123\n",
       "375      Not Safe        Not Safe              0.880320          0.119680\n",
       "\n",
       "[376 rows x 4 columns]"
      ]
     },
     "execution_count": 35,
     "metadata": {},
     "output_type": "execute_result"
    }
   ],
   "source": [
    "data2 = {'Correct label':y2_test, 'Predicted label':y2_pred, 'Probability Not Safe':probs_y2[:,0],\n",
    "       'Probability Safe':probs_y2[:,1]}\n",
    "# Create DataFrame\n",
    "df2 = pd.DataFrame(data2)\n",
    " \n",
    "# Print the output.\n",
    "df2"
   ]
  },
  {
   "cell_type": "code",
   "execution_count": 36,
   "id": "c915540c-4a99-441e-8180-9840c373ac9e",
   "metadata": {},
   "outputs": [
    {
     "name": "stdout",
     "output_type": "stream",
     "text": [
      "[[282  16]\n",
      " [ 41  37]]\n"
     ]
    }
   ],
   "source": [
    "cm = confusion_matrix(y2_test, y2_pred)\n",
    "print(cm)"
   ]
  },
  {
   "cell_type": "code",
   "execution_count": 37,
   "id": "6d5fa91e-f4a3-467d-a04e-375bf0c6235c",
   "metadata": {},
   "outputs": [
    {
     "data": {
      "image/png": "[encoded data removed]",
      "text/plain": [
       "<Figure size 640x480 with 2 Axes>"
      ]
     },
     "metadata": {},
     "output_type": "display_data"
    }
   ],
   "source": [
    "ax = plt.axes()\n",
    "df_cm = cm\n",
    "sns.heatmap(df_cm, annot=True, annot_kws={\"size\": 30}, fmt='d',cmap=\"Blues\", ax = ax )\n",
    "ax.set_title('Confusion Matrix')\n",
    "plt.show();"
   ]
  },
  {
   "cell_type": "markdown",
   "id": "7ed9f7fc-e3df-49f3-a191-99ae9c159001",
   "metadata": {},
   "source": []
  },
  {
   "cell_type": "code",
   "execution_count": 38,
   "id": "756538a4-d750-481e-afcd-cdd09760015b",
   "metadata": {
    "tags": []
   },
   "outputs": [],
   "source": [
    "sss.get_n_splits(X2, y2);"
   ]
  },
  {
   "cell_type": "code",
   "execution_count": 39,
   "id": "645aae67-5a9e-4f94-9828-25ee1e3553f3",
   "metadata": {
    "tags": []
   },
   "outputs": [
    {
     "name": "stdout",
     "output_type": "stream",
     "text": [
      "[0.7978723404255319, 0.7992021276595744, 0.776595744680851, 0.8297872340425532, 0.8164893617021277]\n"
     ]
    }
   ],
   "source": [
    "scores2 = []\n",
    "\n",
    "for train_index, test_index in sss.split(X2, y2):\n",
    "    X_train, X_test = X2[train_index], X2[test_index]\n",
    "    y_train, y_test = y2[train_index], y2[test_index]\n",
    "    model.fit(X_train, y_train)\n",
    "    pred = model.predict(X_test)\n",
    "    scores2.append(accuracy_score(y_test, pred))\n",
    " \n",
    "# get accuracy of each prediction\n",
    "print(scores2)"
   ]
  },
  {
   "cell_type": "markdown",
   "id": "31cdd198-58d5-4fc5-af5b-089969fd5418",
   "metadata": {},
   "source": [
    "When looking at the accuracy of these predictions, it seems that not using suction side displacement thickness is producing the more accurate results when compared to using all of the variables and when compared to using all of the variables except for angle of attack. This suggests to me that a model that only utilizes frequency, angle of attack, chord length, and free-stream velocity will be a more accurate model than the other two combinations tested out.\n",
    "\n",
    "*Note*: The accuracy of each prediction for this test data is the exact same in sets 1, 2, 3, and 5 as in the test sets for using all input variables. It did improve for set 4. Because it was the same in all sets except for one (where it showed improvement) I will choose to believe that means it is the better model."
   ]
  },
  {
   "cell_type": "markdown",
   "id": "94f7b436-08b5-40bf-9c9a-1d0e5454a0e8",
   "metadata": {},
   "source": [
    "#### Not using frequency"
   ]
  },
  {
   "cell_type": "code",
   "execution_count": 40,
   "id": "6060e345-2f52-4ce2-805a-9e46caaf448b",
   "metadata": {
    "tags": []
   },
   "outputs": [],
   "source": [
    "X3 = af_data.iloc[:, [1, 2, 3, 4]].values\n",
    "y3 = af_data.iloc[:, 6].values\n",
    "X3_train, X3_test, y3_train, y3_test = train_test_split(X3, y3, test_size = 0.25, random_state = 3)"
   ]
  },
  {
   "cell_type": "code",
   "execution_count": 41,
   "id": "544c87e7-6eb9-44bb-b0ec-85557d20c61c",
   "metadata": {
    "tags": []
   },
   "outputs": [
    {
     "data": {
      "text/html": [
       "<style>#sk-container-id-4 {color: black;background-color: white;}#sk-container-id-4 pre{padding: 0;}#sk-container-id-4 div.sk-toggleable {background-color: white;}#sk-container-id-4 label.sk-toggleable__label {cursor: pointer;display: block;width: 100%;margin-bottom: 0;padding: 0.3em;box-sizing: border-box;text-align: center;}#sk-container-id-4 label.sk-toggleable__label-arrow:before {content: \"▸\";float: left;margin-right: 0.25em;color: #696969;}#sk-container-id-4 label.sk-toggleable__label-arrow:hover:before {color: black;}#sk-container-id-4 div.sk-estimator:hover label.sk-toggleable__label-arrow:before {color: black;}#sk-container-id-4 div.sk-toggleable__content {max-height: 0;max-width: 0;overflow: hidden;text-align: left;background-color: #f0f8ff;}#sk-container-id-4 div.sk-toggleable__content pre {margin: 0.2em;color: black;border-radius: 0.25em;background-color: #f0f8ff;}#sk-container-id-4 input.sk-toggleable__control:checked~div.sk-toggleable__content {max-height: 200px;max-width: 100%;overflow: auto;}#sk-container-id-4 input.sk-toggleable__control:checked~label.sk-toggleable__label-arrow:before {content: \"▾\";}#sk-container-id-4 div.sk-estimator input.sk-toggleable__control:checked~label.sk-toggleable__label {background-color: #d4ebff;}#sk-container-id-4 div.sk-label input.sk-toggleable__control:checked~label.sk-toggleable__label {background-color: #d4ebff;}#sk-container-id-4 input.sk-hidden--visually {border: 0;clip: rect(1px 1px 1px 1px);clip: rect(1px, 1px, 1px, 1px);height: 1px;margin: -1px;overflow: hidden;padding: 0;position: absolute;width: 1px;}#sk-container-id-4 div.sk-estimator {font-family: monospace;background-color: #f0f8ff;border: 1px dotted black;border-radius: 0.25em;box-sizing: border-box;margin-bottom: 0.5em;}#sk-container-id-4 div.sk-estimator:hover {background-color: #d4ebff;}#sk-container-id-4 div.sk-parallel-item::after {content: \"\";width: 100%;border-bottom: 1px solid gray;flex-grow: 1;}#sk-container-id-4 div.sk-label:hover label.sk-toggleable__label {background-color: #d4ebff;}#sk-container-id-4 div.sk-serial::before {content: \"\";position: absolute;border-left: 1px solid gray;box-sizing: border-box;top: 0;bottom: 0;left: 50%;z-index: 0;}#sk-container-id-4 div.sk-serial {display: flex;flex-direction: column;align-items: center;background-color: white;padding-right: 0.2em;padding-left: 0.2em;position: relative;}#sk-container-id-4 div.sk-item {position: relative;z-index: 1;}#sk-container-id-4 div.sk-parallel {display: flex;align-items: stretch;justify-content: center;background-color: white;position: relative;}#sk-container-id-4 div.sk-item::before, #sk-container-id-4 div.sk-parallel-item::before {content: \"\";position: absolute;border-left: 1px solid gray;box-sizing: border-box;top: 0;bottom: 0;left: 50%;z-index: -1;}#sk-container-id-4 div.sk-parallel-item {display: flex;flex-direction: column;z-index: 1;position: relative;background-color: white;}#sk-container-id-4 div.sk-parallel-item:first-child::after {align-self: flex-end;width: 50%;}#sk-container-id-4 div.sk-parallel-item:last-child::after {align-self: flex-start;width: 50%;}#sk-container-id-4 div.sk-parallel-item:only-child::after {width: 0;}#sk-container-id-4 div.sk-dashed-wrapped {border: 1px dashed gray;margin: 0 0.4em 0.5em 0.4em;box-sizing: border-box;padding-bottom: 0.4em;background-color: white;}#sk-container-id-4 div.sk-label label {font-family: monospace;font-weight: bold;display: inline-block;line-height: 1.2em;}#sk-container-id-4 div.sk-label-container {text-align: center;}#sk-container-id-4 div.sk-container {/* jupyter's `normalize.less` sets `[hidden] { display: none; }` but bootstrap.min.css set `[hidden] { display: none !important; }` so we also need the `!important` here to be able to override the default hidden behavior on the sphinx rendered scikit-learn.org. See: https://github.com/scikit-learn/scikit-learn/issues/21755 */display: inline-block !important;position: relative;}#sk-container-id-4 div.sk-text-repr-fallback {display: none;}</style><div id=\"sk-container-id-4\" class=\"sk-top-container\"><div class=\"sk-text-repr-fallback\"><pre>LogisticRegression(max_iter=500, random_state=0)</pre><b>In a Jupyter environment, please rerun this cell to show the HTML representation or trust the notebook. <br />On GitHub, the HTML representation is unable to render, please try loading this page with nbviewer.org.</b></div><div class=\"sk-container\" hidden><div class=\"sk-item\"><div class=\"sk-estimator sk-toggleable\"><input class=\"sk-toggleable__control sk-hidden--visually\" id=\"sk-estimator-id-4\" type=\"checkbox\" checked><label for=\"sk-estimator-id-4\" class=\"sk-toggleable__label sk-toggleable__label-arrow\">LogisticRegression</label><div class=\"sk-toggleable__content\"><pre>LogisticRegression(max_iter=500, random_state=0)</pre></div></div></div></div></div>"
      ],
      "text/plain": [
       "LogisticRegression(max_iter=500, random_state=0)"
      ]
     },
     "execution_count": 41,
     "metadata": {},
     "output_type": "execute_result"
    }
   ],
   "source": [
    "classifier.fit(X3_train,y3_train)"
   ]
  },
  {
   "cell_type": "code",
   "execution_count": 42,
   "id": "6c6434eb-3d1e-4170-b1d7-94938decb58b",
   "metadata": {
    "tags": []
   },
   "outputs": [],
   "source": [
    "# Predicting the Test set results\n",
    "y3_pred = classifier.predict(X3_test)\n",
    "\n",
    "# Predict probabilities\n",
    "probs_y3=classifier.predict_proba(X3_test)"
   ]
  },
  {
   "cell_type": "code",
   "execution_count": 43,
   "id": "2e857342-979a-47a8-b79e-420d6af00515",
   "metadata": {
    "tags": []
   },
   "outputs": [
    {
     "data": {
      "text/html": [
       "<div>\n",
       "<style scoped>\n",
       "    .dataframe tbody tr th:only-of-type {\n",
       "        vertical-align: middle;\n",
       "    }\n",
       "\n",
       "    .dataframe tbody tr th {\n",
       "        vertical-align: top;\n",
       "    }\n",
       "\n",
       "    .dataframe thead th {\n",
       "        text-align: right;\n",
       "    }\n",
       "</style>\n",
       "<table border=\"1\" class=\"dataframe\">\n",
       "  <thead>\n",
       "    <tr style=\"text-align: right;\">\n",
       "      <th></th>\n",
       "      <th>Correct label</th>\n",
       "      <th>Predicted label</th>\n",
       "      <th>Probability Not Safe</th>\n",
       "      <th>Probability Safe</th>\n",
       "    </tr>\n",
       "  </thead>\n",
       "  <tbody>\n",
       "    <tr>\n",
       "      <th>0</th>\n",
       "      <td>Not Safe</td>\n",
       "      <td>Not Safe</td>\n",
       "      <td>0.802039</td>\n",
       "      <td>0.197961</td>\n",
       "    </tr>\n",
       "    <tr>\n",
       "      <th>1</th>\n",
       "      <td>Not Safe</td>\n",
       "      <td>Not Safe</td>\n",
       "      <td>0.816054</td>\n",
       "      <td>0.183946</td>\n",
       "    </tr>\n",
       "    <tr>\n",
       "      <th>2</th>\n",
       "      <td>Not Safe</td>\n",
       "      <td>Not Safe</td>\n",
       "      <td>0.615852</td>\n",
       "      <td>0.384148</td>\n",
       "    </tr>\n",
       "    <tr>\n",
       "      <th>3</th>\n",
       "      <td>Not Safe</td>\n",
       "      <td>Not Safe</td>\n",
       "      <td>0.855394</td>\n",
       "      <td>0.144606</td>\n",
       "    </tr>\n",
       "    <tr>\n",
       "      <th>4</th>\n",
       "      <td>Safe</td>\n",
       "      <td>Not Safe</td>\n",
       "      <td>0.752235</td>\n",
       "      <td>0.247765</td>\n",
       "    </tr>\n",
       "    <tr>\n",
       "      <th>...</th>\n",
       "      <td>...</td>\n",
       "      <td>...</td>\n",
       "      <td>...</td>\n",
       "      <td>...</td>\n",
       "    </tr>\n",
       "    <tr>\n",
       "      <th>371</th>\n",
       "      <td>Not Safe</td>\n",
       "      <td>Not Safe</td>\n",
       "      <td>0.767226</td>\n",
       "      <td>0.232774</td>\n",
       "    </tr>\n",
       "    <tr>\n",
       "      <th>372</th>\n",
       "      <td>Not Safe</td>\n",
       "      <td>Not Safe</td>\n",
       "      <td>0.864611</td>\n",
       "      <td>0.135389</td>\n",
       "    </tr>\n",
       "    <tr>\n",
       "      <th>373</th>\n",
       "      <td>Not Safe</td>\n",
       "      <td>Not Safe</td>\n",
       "      <td>0.683553</td>\n",
       "      <td>0.316447</td>\n",
       "    </tr>\n",
       "    <tr>\n",
       "      <th>374</th>\n",
       "      <td>Not Safe</td>\n",
       "      <td>Not Safe</td>\n",
       "      <td>0.855394</td>\n",
       "      <td>0.144606</td>\n",
       "    </tr>\n",
       "    <tr>\n",
       "      <th>375</th>\n",
       "      <td>Not Safe</td>\n",
       "      <td>Not Safe</td>\n",
       "      <td>0.769189</td>\n",
       "      <td>0.230811</td>\n",
       "    </tr>\n",
       "  </tbody>\n",
       "</table>\n",
       "<p>376 rows × 4 columns</p>\n",
       "</div>"
      ],
      "text/plain": [
       "    Correct label Predicted label  Probability Not Safe  Probability Safe\n",
       "0        Not Safe        Not Safe              0.802039          0.197961\n",
       "1        Not Safe        Not Safe              0.816054          0.183946\n",
       "2        Not Safe        Not Safe              0.615852          0.384148\n",
       "3        Not Safe        Not Safe              0.855394          0.144606\n",
       "4            Safe        Not Safe              0.752235          0.247765\n",
       "..            ...             ...                   ...               ...\n",
       "371      Not Safe        Not Safe              0.767226          0.232774\n",
       "372      Not Safe        Not Safe              0.864611          0.135389\n",
       "373      Not Safe        Not Safe              0.683553          0.316447\n",
       "374      Not Safe        Not Safe              0.855394          0.144606\n",
       "375      Not Safe        Not Safe              0.769189          0.230811\n",
       "\n",
       "[376 rows x 4 columns]"
      ]
     },
     "execution_count": 43,
     "metadata": {},
     "output_type": "execute_result"
    }
   ],
   "source": [
    "data3 = {'Correct label':y3_test, 'Predicted label':y3_pred, 'Probability Not Safe':probs_y3[:,0],\n",
    "       'Probability Safe':probs_y3[:,1]}\n",
    "# Create DataFrame\n",
    "df3 = pd.DataFrame(data3)\n",
    " \n",
    "# Print the output.\n",
    "df3"
   ]
  },
  {
   "cell_type": "code",
   "execution_count": 44,
   "id": "666299c9-d953-42ea-a492-57ff96862a42",
   "metadata": {
    "tags": []
   },
   "outputs": [
    {
     "name": "stdout",
     "output_type": "stream",
     "text": [
      "[[298   0]\n",
      " [ 78   0]]\n"
     ]
    }
   ],
   "source": [
    "cm = confusion_matrix(y3_test, y3_pred)\n",
    "print(cm)"
   ]
  },
  {
   "cell_type": "code",
   "execution_count": 45,
   "id": "5b9577ae-bd1e-400e-822b-e45ff34723dd",
   "metadata": {
    "tags": []
   },
   "outputs": [
    {
     "data": {
      "image/png": "[encoded data removed]",
      "text/plain": [
       "<Figure size 640x480 with 2 Axes>"
      ]
     },
     "metadata": {},
     "output_type": "display_data"
    }
   ],
   "source": [
    "ax = plt.axes()\n",
    "df_cm = cm\n",
    "sns.heatmap(df_cm, annot=True, annot_kws={\"size\": 30}, fmt='d',cmap=\"Blues\", ax = ax )\n",
    "ax.set_title('Confusion Matrix')\n",
    "plt.show()"
   ]
  },
  {
   "cell_type": "code",
   "execution_count": 46,
   "id": "edaeb6aa-1315-4dfe-956c-9f4f72345777",
   "metadata": {
    "tags": []
   },
   "outputs": [],
   "source": [
    "sss.get_n_splits(X3, y3);"
   ]
  },
  {
   "cell_type": "code",
   "execution_count": 47,
   "id": "cf64e50c-0dff-4316-8a7e-9876706e7af1",
   "metadata": {
    "tags": []
   },
   "outputs": [
    {
     "name": "stdout",
     "output_type": "stream",
     "text": [
      "[0.7606382978723404, 0.7526595744680851, 0.7526595744680851, 0.7606382978723404, 0.7606382978723404]\n"
     ]
    }
   ],
   "source": [
    "scores3 = []\n",
    "\n",
    "for train_index, test_index in sss.split(X3, y3):\n",
    "    X_train, X_test = X3[train_index], X3[test_index]\n",
    "    y_train, y_test = y3[train_index], y3[test_index]\n",
    "    model.fit(X_train, y_train)\n",
    "    pred = model.predict(X_test)\n",
    "    scores3.append(accuracy_score(y_test, pred))\n",
    " \n",
    "# get accuracy of each prediction\n",
    "print(scores3)"
   ]
  },
  {
   "cell_type": "markdown",
   "id": "8638db93-e539-4b12-b718-5dab1bf816cd",
   "metadata": {},
   "source": [
    "This is the worst set of accuracy scores so far.\n",
    "\n",
    "It should also be noted that the model just assumed everything was Not Safe. That's not good."
   ]
  },
  {
   "cell_type": "markdown",
   "id": "1a1c2971-0ade-4c2f-a5d9-3405d7a71ea3",
   "metadata": {
    "tags": []
   },
   "source": [
    "#### Not using chord length"
   ]
  },
  {
   "cell_type": "code",
   "execution_count": 48,
   "id": "d90e5f80-969d-4408-9d23-3de32e8a6b3b",
   "metadata": {
    "tags": []
   },
   "outputs": [
    {
     "data": {
      "text/html": [
       "<style>#sk-container-id-5 {color: black;background-color: white;}#sk-container-id-5 pre{padding: 0;}#sk-container-id-5 div.sk-toggleable {background-color: white;}#sk-container-id-5 label.sk-toggleable__label {cursor: pointer;display: block;width: 100%;margin-bottom: 0;padding: 0.3em;box-sizing: border-box;text-align: center;}#sk-container-id-5 label.sk-toggleable__label-arrow:before {content: \"▸\";float: left;margin-right: 0.25em;color: #696969;}#sk-container-id-5 label.sk-toggleable__label-arrow:hover:before {color: black;}#sk-container-id-5 div.sk-estimator:hover label.sk-toggleable__label-arrow:before {color: black;}#sk-container-id-5 div.sk-toggleable__content {max-height: 0;max-width: 0;overflow: hidden;text-align: left;background-color: #f0f8ff;}#sk-container-id-5 div.sk-toggleable__content pre {margin: 0.2em;color: black;border-radius: 0.25em;background-color: #f0f8ff;}#sk-container-id-5 input.sk-toggleable__control:checked~div.sk-toggleable__content {max-height: 200px;max-width: 100%;overflow: auto;}#sk-container-id-5 input.sk-toggleable__control:checked~label.sk-toggleable__label-arrow:before {content: \"▾\";}#sk-container-id-5 div.sk-estimator input.sk-toggleable__control:checked~label.sk-toggleable__label {background-color: #d4ebff;}#sk-container-id-5 div.sk-label input.sk-toggleable__control:checked~label.sk-toggleable__label {background-color: #d4ebff;}#sk-container-id-5 input.sk-hidden--visually {border: 0;clip: rect(1px 1px 1px 1px);clip: rect(1px, 1px, 1px, 1px);height: 1px;margin: -1px;overflow: hidden;padding: 0;position: absolute;width: 1px;}#sk-container-id-5 div.sk-estimator {font-family: monospace;background-color: #f0f8ff;border: 1px dotted black;border-radius: 0.25em;box-sizing: border-box;margin-bottom: 0.5em;}#sk-container-id-5 div.sk-estimator:hover {background-color: #d4ebff;}#sk-container-id-5 div.sk-parallel-item::after {content: \"\";width: 100%;border-bottom: 1px solid gray;flex-grow: 1;}#sk-container-id-5 div.sk-label:hover label.sk-toggleable__label {background-color: #d4ebff;}#sk-container-id-5 div.sk-serial::before {content: \"\";position: absolute;border-left: 1px solid gray;box-sizing: border-box;top: 0;bottom: 0;left: 50%;z-index: 0;}#sk-container-id-5 div.sk-serial {display: flex;flex-direction: column;align-items: center;background-color: white;padding-right: 0.2em;padding-left: 0.2em;position: relative;}#sk-container-id-5 div.sk-item {position: relative;z-index: 1;}#sk-container-id-5 div.sk-parallel {display: flex;align-items: stretch;justify-content: center;background-color: white;position: relative;}#sk-container-id-5 div.sk-item::before, #sk-container-id-5 div.sk-parallel-item::before {content: \"\";position: absolute;border-left: 1px solid gray;box-sizing: border-box;top: 0;bottom: 0;left: 50%;z-index: -1;}#sk-container-id-5 div.sk-parallel-item {display: flex;flex-direction: column;z-index: 1;position: relative;background-color: white;}#sk-container-id-5 div.sk-parallel-item:first-child::after {align-self: flex-end;width: 50%;}#sk-container-id-5 div.sk-parallel-item:last-child::after {align-self: flex-start;width: 50%;}#sk-container-id-5 div.sk-parallel-item:only-child::after {width: 0;}#sk-container-id-5 div.sk-dashed-wrapped {border: 1px dashed gray;margin: 0 0.4em 0.5em 0.4em;box-sizing: border-box;padding-bottom: 0.4em;background-color: white;}#sk-container-id-5 div.sk-label label {font-family: monospace;font-weight: bold;display: inline-block;line-height: 1.2em;}#sk-container-id-5 div.sk-label-container {text-align: center;}#sk-container-id-5 div.sk-container {/* jupyter's `normalize.less` sets `[hidden] { display: none; }` but bootstrap.min.css set `[hidden] { display: none !important; }` so we also need the `!important` here to be able to override the default hidden behavior on the sphinx rendered scikit-learn.org. See: https://github.com/scikit-learn/scikit-learn/issues/21755 */display: inline-block !important;position: relative;}#sk-container-id-5 div.sk-text-repr-fallback {display: none;}</style><div id=\"sk-container-id-5\" class=\"sk-top-container\"><div class=\"sk-text-repr-fallback\"><pre>LogisticRegression(max_iter=500, random_state=0)</pre><b>In a Jupyter environment, please rerun this cell to show the HTML representation or trust the notebook. <br />On GitHub, the HTML representation is unable to render, please try loading this page with nbviewer.org.</b></div><div class=\"sk-container\" hidden><div class=\"sk-item\"><div class=\"sk-estimator sk-toggleable\"><input class=\"sk-toggleable__control sk-hidden--visually\" id=\"sk-estimator-id-5\" type=\"checkbox\" checked><label for=\"sk-estimator-id-5\" class=\"sk-toggleable__label sk-toggleable__label-arrow\">LogisticRegression</label><div class=\"sk-toggleable__content\"><pre>LogisticRegression(max_iter=500, random_state=0)</pre></div></div></div></div></div>"
      ],
      "text/plain": [
       "LogisticRegression(max_iter=500, random_state=0)"
      ]
     },
     "execution_count": 48,
     "metadata": {},
     "output_type": "execute_result"
    }
   ],
   "source": [
    "X4 = af_data.iloc[:, [0, 1, 3, 4]].values\n",
    "y4 = af_data.iloc[:, 6].values\n",
    "X4_train, X4_test, y4_train, y4_test = train_test_split(X4, y4, test_size = 0.25, random_state = 3)\n",
    "\n",
    "classifier.fit(X4_train,y4_train)"
   ]
  },
  {
   "cell_type": "code",
   "execution_count": 49,
   "id": "7e0384a9-631c-453f-bc73-f45f8913ebb5",
   "metadata": {
    "tags": []
   },
   "outputs": [
    {
     "data": {
      "text/html": [
       "<div>\n",
       "<style scoped>\n",
       "    .dataframe tbody tr th:only-of-type {\n",
       "        vertical-align: middle;\n",
       "    }\n",
       "\n",
       "    .dataframe tbody tr th {\n",
       "        vertical-align: top;\n",
       "    }\n",
       "\n",
       "    .dataframe thead th {\n",
       "        text-align: right;\n",
       "    }\n",
       "</style>\n",
       "<table border=\"1\" class=\"dataframe\">\n",
       "  <thead>\n",
       "    <tr style=\"text-align: right;\">\n",
       "      <th></th>\n",
       "      <th>Correct label</th>\n",
       "      <th>Predicted label</th>\n",
       "      <th>Probability Not Safe</th>\n",
       "      <th>Probability Safe</th>\n",
       "    </tr>\n",
       "  </thead>\n",
       "  <tbody>\n",
       "    <tr>\n",
       "      <th>0</th>\n",
       "      <td>Not Safe</td>\n",
       "      <td>Not Safe</td>\n",
       "      <td>0.856324</td>\n",
       "      <td>0.143676</td>\n",
       "    </tr>\n",
       "    <tr>\n",
       "      <th>1</th>\n",
       "      <td>Not Safe</td>\n",
       "      <td>Not Safe</td>\n",
       "      <td>0.772939</td>\n",
       "      <td>0.227061</td>\n",
       "    </tr>\n",
       "    <tr>\n",
       "      <th>2</th>\n",
       "      <td>Not Safe</td>\n",
       "      <td>Not Safe</td>\n",
       "      <td>0.667508</td>\n",
       "      <td>0.332492</td>\n",
       "    </tr>\n",
       "    <tr>\n",
       "      <th>3</th>\n",
       "      <td>Not Safe</td>\n",
       "      <td>Safe</td>\n",
       "      <td>0.324300</td>\n",
       "      <td>0.675700</td>\n",
       "    </tr>\n",
       "    <tr>\n",
       "      <th>4</th>\n",
       "      <td>Safe</td>\n",
       "      <td>Safe</td>\n",
       "      <td>0.468623</td>\n",
       "      <td>0.531377</td>\n",
       "    </tr>\n",
       "    <tr>\n",
       "      <th>...</th>\n",
       "      <td>...</td>\n",
       "      <td>...</td>\n",
       "      <td>...</td>\n",
       "      <td>...</td>\n",
       "    </tr>\n",
       "    <tr>\n",
       "      <th>371</th>\n",
       "      <td>Not Safe</td>\n",
       "      <td>Not Safe</td>\n",
       "      <td>0.724062</td>\n",
       "      <td>0.275938</td>\n",
       "    </tr>\n",
       "    <tr>\n",
       "      <th>372</th>\n",
       "      <td>Not Safe</td>\n",
       "      <td>Not Safe</td>\n",
       "      <td>0.886327</td>\n",
       "      <td>0.113673</td>\n",
       "    </tr>\n",
       "    <tr>\n",
       "      <th>373</th>\n",
       "      <td>Not Safe</td>\n",
       "      <td>Not Safe</td>\n",
       "      <td>0.624609</td>\n",
       "      <td>0.375391</td>\n",
       "    </tr>\n",
       "    <tr>\n",
       "      <th>374</th>\n",
       "      <td>Not Safe</td>\n",
       "      <td>Safe</td>\n",
       "      <td>0.489637</td>\n",
       "      <td>0.510363</td>\n",
       "    </tr>\n",
       "    <tr>\n",
       "      <th>375</th>\n",
       "      <td>Not Safe</td>\n",
       "      <td>Not Safe</td>\n",
       "      <td>0.785811</td>\n",
       "      <td>0.214189</td>\n",
       "    </tr>\n",
       "  </tbody>\n",
       "</table>\n",
       "<p>376 rows × 4 columns</p>\n",
       "</div>"
      ],
      "text/plain": [
       "    Correct label Predicted label  Probability Not Safe  Probability Safe\n",
       "0        Not Safe        Not Safe              0.856324          0.143676\n",
       "1        Not Safe        Not Safe              0.772939          0.227061\n",
       "2        Not Safe        Not Safe              0.667508          0.332492\n",
       "3        Not Safe            Safe              0.324300          0.675700\n",
       "4            Safe            Safe              0.468623          0.531377\n",
       "..            ...             ...                   ...               ...\n",
       "371      Not Safe        Not Safe              0.724062          0.275938\n",
       "372      Not Safe        Not Safe              0.886327          0.113673\n",
       "373      Not Safe        Not Safe              0.624609          0.375391\n",
       "374      Not Safe            Safe              0.489637          0.510363\n",
       "375      Not Safe        Not Safe              0.785811          0.214189\n",
       "\n",
       "[376 rows x 4 columns]"
      ]
     },
     "execution_count": 49,
     "metadata": {},
     "output_type": "execute_result"
    }
   ],
   "source": [
    "# Predicting the Test set results\n",
    "y4_pred = classifier.predict(X4_test)\n",
    "\n",
    "# Predict probabilities\n",
    "probs_y4=classifier.predict_proba(X4_test)\n",
    "\n",
    "data4 = {'Correct label':y4_test, 'Predicted label':y4_pred, 'Probability Not Safe':probs_y4[:,0],\n",
    "       'Probability Safe':probs_y4[:,1]}\n",
    "# Create DataFrame\n",
    "df4 = pd.DataFrame(data4)\n",
    " \n",
    "# Print the output.\n",
    "df4"
   ]
  },
  {
   "cell_type": "code",
   "execution_count": 50,
   "id": "f7163cac-13c3-4822-af12-7fd2768dc84f",
   "metadata": {
    "tags": []
   },
   "outputs": [
    {
     "name": "stdout",
     "output_type": "stream",
     "text": [
      "[[270  28]\n",
      " [ 51  27]]\n"
     ]
    }
   ],
   "source": [
    "cm = confusion_matrix(y4_test, y4_pred)\n",
    "print(cm)"
   ]
  },
  {
   "cell_type": "code",
   "execution_count": 51,
   "id": "7fd00ab8-e7a0-444b-b4cb-71bd66feba59",
   "metadata": {
    "tags": []
   },
   "outputs": [
    {
     "name": "stdout",
     "output_type": "stream",
     "text": [
      "[0.7978723404255319, 0.7898936170212766, 0.773936170212766, 0.7779255319148937, 0.7845744680851063]\n"
     ]
    }
   ],
   "source": [
    "sss.get_n_splits(X4, y4);\n",
    "\n",
    "scores4 = []\n",
    "\n",
    "for train_index, test_index in sss.split(X4, y4):\n",
    "    X_train, X_test = X4[train_index], X4[test_index]\n",
    "    y_train, y_test = y4[train_index], y4[test_index]\n",
    "    model.fit(X_train, y_train)\n",
    "    pred = model.predict(X_test)\n",
    "    scores4.append(accuracy_score(y_test, pred))\n",
    " \n",
    "# get accuracy of each prediction\n",
    "print(scores4)"
   ]
  },
  {
   "cell_type": "markdown",
   "id": "53f7e9db-cfb4-4622-9bbc-3692f2747a74",
   "metadata": {},
   "source": [
    "#### Not using free-stream velocity"
   ]
  },
  {
   "cell_type": "code",
   "execution_count": 52,
   "id": "8542c522-c13b-4edf-a269-cdb1f1adf247",
   "metadata": {
    "tags": []
   },
   "outputs": [
    {
     "data": {
      "text/html": [
       "<style>#sk-container-id-6 {color: black;background-color: white;}#sk-container-id-6 pre{padding: 0;}#sk-container-id-6 div.sk-toggleable {background-color: white;}#sk-container-id-6 label.sk-toggleable__label {cursor: pointer;display: block;width: 100%;margin-bottom: 0;padding: 0.3em;box-sizing: border-box;text-align: center;}#sk-container-id-6 label.sk-toggleable__label-arrow:before {content: \"▸\";float: left;margin-right: 0.25em;color: #696969;}#sk-container-id-6 label.sk-toggleable__label-arrow:hover:before {color: black;}#sk-container-id-6 div.sk-estimator:hover label.sk-toggleable__label-arrow:before {color: black;}#sk-container-id-6 div.sk-toggleable__content {max-height: 0;max-width: 0;overflow: hidden;text-align: left;background-color: #f0f8ff;}#sk-container-id-6 div.sk-toggleable__content pre {margin: 0.2em;color: black;border-radius: 0.25em;background-color: #f0f8ff;}#sk-container-id-6 input.sk-toggleable__control:checked~div.sk-toggleable__content {max-height: 200px;max-width: 100%;overflow: auto;}#sk-container-id-6 input.sk-toggleable__control:checked~label.sk-toggleable__label-arrow:before {content: \"▾\";}#sk-container-id-6 div.sk-estimator input.sk-toggleable__control:checked~label.sk-toggleable__label {background-color: #d4ebff;}#sk-container-id-6 div.sk-label input.sk-toggleable__control:checked~label.sk-toggleable__label {background-color: #d4ebff;}#sk-container-id-6 input.sk-hidden--visually {border: 0;clip: rect(1px 1px 1px 1px);clip: rect(1px, 1px, 1px, 1px);height: 1px;margin: -1px;overflow: hidden;padding: 0;position: absolute;width: 1px;}#sk-container-id-6 div.sk-estimator {font-family: monospace;background-color: #f0f8ff;border: 1px dotted black;border-radius: 0.25em;box-sizing: border-box;margin-bottom: 0.5em;}#sk-container-id-6 div.sk-estimator:hover {background-color: #d4ebff;}#sk-container-id-6 div.sk-parallel-item::after {content: \"\";width: 100%;border-bottom: 1px solid gray;flex-grow: 1;}#sk-container-id-6 div.sk-label:hover label.sk-toggleable__label {background-color: #d4ebff;}#sk-container-id-6 div.sk-serial::before {content: \"\";position: absolute;border-left: 1px solid gray;box-sizing: border-box;top: 0;bottom: 0;left: 50%;z-index: 0;}#sk-container-id-6 div.sk-serial {display: flex;flex-direction: column;align-items: center;background-color: white;padding-right: 0.2em;padding-left: 0.2em;position: relative;}#sk-container-id-6 div.sk-item {position: relative;z-index: 1;}#sk-container-id-6 div.sk-parallel {display: flex;align-items: stretch;justify-content: center;background-color: white;position: relative;}#sk-container-id-6 div.sk-item::before, #sk-container-id-6 div.sk-parallel-item::before {content: \"\";position: absolute;border-left: 1px solid gray;box-sizing: border-box;top: 0;bottom: 0;left: 50%;z-index: -1;}#sk-container-id-6 div.sk-parallel-item {display: flex;flex-direction: column;z-index: 1;position: relative;background-color: white;}#sk-container-id-6 div.sk-parallel-item:first-child::after {align-self: flex-end;width: 50%;}#sk-container-id-6 div.sk-parallel-item:last-child::after {align-self: flex-start;width: 50%;}#sk-container-id-6 div.sk-parallel-item:only-child::after {width: 0;}#sk-container-id-6 div.sk-dashed-wrapped {border: 1px dashed gray;margin: 0 0.4em 0.5em 0.4em;box-sizing: border-box;padding-bottom: 0.4em;background-color: white;}#sk-container-id-6 div.sk-label label {font-family: monospace;font-weight: bold;display: inline-block;line-height: 1.2em;}#sk-container-id-6 div.sk-label-container {text-align: center;}#sk-container-id-6 div.sk-container {/* jupyter's `normalize.less` sets `[hidden] { display: none; }` but bootstrap.min.css set `[hidden] { display: none !important; }` so we also need the `!important` here to be able to override the default hidden behavior on the sphinx rendered scikit-learn.org. See: https://github.com/scikit-learn/scikit-learn/issues/21755 */display: inline-block !important;position: relative;}#sk-container-id-6 div.sk-text-repr-fallback {display: none;}</style><div id=\"sk-container-id-6\" class=\"sk-top-container\"><div class=\"sk-text-repr-fallback\"><pre>LogisticRegression(max_iter=500, random_state=0)</pre><b>In a Jupyter environment, please rerun this cell to show the HTML representation or trust the notebook. <br />On GitHub, the HTML representation is unable to render, please try loading this page with nbviewer.org.</b></div><div class=\"sk-container\" hidden><div class=\"sk-item\"><div class=\"sk-estimator sk-toggleable\"><input class=\"sk-toggleable__control sk-hidden--visually\" id=\"sk-estimator-id-6\" type=\"checkbox\" checked><label for=\"sk-estimator-id-6\" class=\"sk-toggleable__label sk-toggleable__label-arrow\">LogisticRegression</label><div class=\"sk-toggleable__content\"><pre>LogisticRegression(max_iter=500, random_state=0)</pre></div></div></div></div></div>"
      ],
      "text/plain": [
       "LogisticRegression(max_iter=500, random_state=0)"
      ]
     },
     "execution_count": 52,
     "metadata": {},
     "output_type": "execute_result"
    }
   ],
   "source": [
    "X5 = af_data.iloc[:, [0, 1, 2, 4]].values\n",
    "y5 = af_data.iloc[:, 6].values\n",
    "X5_train, X5_test, y5_train, y5_test = train_test_split(X5, y5, test_size = 0.25, random_state = 3)\n",
    "\n",
    "classifier.fit(X5_train,y5_train)"
   ]
  },
  {
   "cell_type": "code",
   "execution_count": 53,
   "id": "eabe3e7a-a480-418b-93b6-6249bd3d1bd7",
   "metadata": {
    "tags": []
   },
   "outputs": [
    {
     "data": {
      "text/html": [
       "<div>\n",
       "<style scoped>\n",
       "    .dataframe tbody tr th:only-of-type {\n",
       "        vertical-align: middle;\n",
       "    }\n",
       "\n",
       "    .dataframe tbody tr th {\n",
       "        vertical-align: top;\n",
       "    }\n",
       "\n",
       "    .dataframe thead th {\n",
       "        text-align: right;\n",
       "    }\n",
       "</style>\n",
       "<table border=\"1\" class=\"dataframe\">\n",
       "  <thead>\n",
       "    <tr style=\"text-align: right;\">\n",
       "      <th></th>\n",
       "      <th>Correct label</th>\n",
       "      <th>Predicted label</th>\n",
       "      <th>Probability Not Safe</th>\n",
       "      <th>Probability Safe</th>\n",
       "    </tr>\n",
       "  </thead>\n",
       "  <tbody>\n",
       "    <tr>\n",
       "      <th>0</th>\n",
       "      <td>Not Safe</td>\n",
       "      <td>Not Safe</td>\n",
       "      <td>0.745713</td>\n",
       "      <td>0.254287</td>\n",
       "    </tr>\n",
       "    <tr>\n",
       "      <th>1</th>\n",
       "      <td>Not Safe</td>\n",
       "      <td>Not Safe</td>\n",
       "      <td>0.731873</td>\n",
       "      <td>0.268127</td>\n",
       "    </tr>\n",
       "    <tr>\n",
       "      <th>2</th>\n",
       "      <td>Not Safe</td>\n",
       "      <td>Not Safe</td>\n",
       "      <td>0.767186</td>\n",
       "      <td>0.232814</td>\n",
       "    </tr>\n",
       "    <tr>\n",
       "      <th>3</th>\n",
       "      <td>Not Safe</td>\n",
       "      <td>Safe</td>\n",
       "      <td>0.420765</td>\n",
       "      <td>0.579235</td>\n",
       "    </tr>\n",
       "    <tr>\n",
       "      <th>4</th>\n",
       "      <td>Safe</td>\n",
       "      <td>Not Safe</td>\n",
       "      <td>0.567737</td>\n",
       "      <td>0.432263</td>\n",
       "    </tr>\n",
       "    <tr>\n",
       "      <th>...</th>\n",
       "      <td>...</td>\n",
       "      <td>...</td>\n",
       "      <td>...</td>\n",
       "      <td>...</td>\n",
       "    </tr>\n",
       "    <tr>\n",
       "      <th>371</th>\n",
       "      <td>Not Safe</td>\n",
       "      <td>Not Safe</td>\n",
       "      <td>0.805454</td>\n",
       "      <td>0.194546</td>\n",
       "    </tr>\n",
       "    <tr>\n",
       "      <th>372</th>\n",
       "      <td>Not Safe</td>\n",
       "      <td>Not Safe</td>\n",
       "      <td>0.854539</td>\n",
       "      <td>0.145461</td>\n",
       "    </tr>\n",
       "    <tr>\n",
       "      <th>373</th>\n",
       "      <td>Not Safe</td>\n",
       "      <td>Not Safe</td>\n",
       "      <td>0.593254</td>\n",
       "      <td>0.406746</td>\n",
       "    </tr>\n",
       "    <tr>\n",
       "      <th>374</th>\n",
       "      <td>Not Safe</td>\n",
       "      <td>Not Safe</td>\n",
       "      <td>0.573516</td>\n",
       "      <td>0.426484</td>\n",
       "    </tr>\n",
       "    <tr>\n",
       "      <th>375</th>\n",
       "      <td>Not Safe</td>\n",
       "      <td>Not Safe</td>\n",
       "      <td>0.846836</td>\n",
       "      <td>0.153164</td>\n",
       "    </tr>\n",
       "  </tbody>\n",
       "</table>\n",
       "<p>376 rows × 4 columns</p>\n",
       "</div>"
      ],
      "text/plain": [
       "    Correct label Predicted label  Probability Not Safe  Probability Safe\n",
       "0        Not Safe        Not Safe              0.745713          0.254287\n",
       "1        Not Safe        Not Safe              0.731873          0.268127\n",
       "2        Not Safe        Not Safe              0.767186          0.232814\n",
       "3        Not Safe            Safe              0.420765          0.579235\n",
       "4            Safe        Not Safe              0.567737          0.432263\n",
       "..            ...             ...                   ...               ...\n",
       "371      Not Safe        Not Safe              0.805454          0.194546\n",
       "372      Not Safe        Not Safe              0.854539          0.145461\n",
       "373      Not Safe        Not Safe              0.593254          0.406746\n",
       "374      Not Safe        Not Safe              0.573516          0.426484\n",
       "375      Not Safe        Not Safe              0.846836          0.153164\n",
       "\n",
       "[376 rows x 4 columns]"
      ]
     },
     "execution_count": 53,
     "metadata": {},
     "output_type": "execute_result"
    }
   ],
   "source": [
    "# Predicting the Test set results\n",
    "y5_pred = classifier.predict(X5_test)\n",
    "\n",
    "# Predict probabilities\n",
    "probs_y5=classifier.predict_proba(X5_test)\n",
    "\n",
    "data5 = {'Correct label':y5_test, 'Predicted label':y5_pred, 'Probability Not Safe':probs_y5[:,0],\n",
    "       'Probability Safe':probs_y5[:,1]}\n",
    "# Create DataFrame\n",
    "df5 = pd.DataFrame(data5)\n",
    " \n",
    "# Print the output.\n",
    "df5"
   ]
  },
  {
   "cell_type": "code",
   "execution_count": 54,
   "id": "50a5fb85-2dec-42e9-8519-2ba7d20396f0",
   "metadata": {
    "tags": []
   },
   "outputs": [
    {
     "name": "stdout",
     "output_type": "stream",
     "text": [
      "[[278  20]\n",
      " [ 52  26]]\n"
     ]
    }
   ],
   "source": [
    "cm = confusion_matrix(y5_test, y5_pred)\n",
    "print(cm)"
   ]
  },
  {
   "cell_type": "code",
   "execution_count": 55,
   "id": "5641c4dd-cb05-4603-8d28-a488e0fa7203",
   "metadata": {
    "tags": []
   },
   "outputs": [
    {
     "name": "stdout",
     "output_type": "stream",
     "text": [
      "[0.7792553191489362, 0.8271276595744681, 0.7965425531914894, 0.7925531914893617, 0.7699468085106383]\n"
     ]
    }
   ],
   "source": [
    "sss.get_n_splits(X5, y5);\n",
    "\n",
    "scores5 = []\n",
    "\n",
    "for train_index, test_index in sss.split(X5, y5):\n",
    "    X_train, X_test = X5[train_index], X5[test_index]\n",
    "    y_train, y_test = y5[train_index], y5[test_index]\n",
    "    model.fit(X_train, y_train)\n",
    "    pred = model.predict(X_test)\n",
    "    scores5.append(accuracy_score(y_test, pred))\n",
    " \n",
    "# get accuracy of each prediction\n",
    "print(scores5)"
   ]
  },
  {
   "cell_type": "markdown",
   "id": "e7fff4d9-8f15-4de2-9d77-23177ede7a56",
   "metadata": {},
   "source": [
    "This looks a little promising.\n",
    "\n",
    "These accuracy scores seem almost as good as the accuracy scores when removing suction side displacement. I'm going to compare them."
   ]
  },
  {
   "cell_type": "code",
   "execution_count": 56,
   "id": "c8dbe46a-efb6-4a42-8870-c09f4179a901",
   "metadata": {},
   "outputs": [
    {
     "data": {
      "text/plain": [
       "array([ 0.01861702, -0.02792553, -0.01994681,  0.03723404,  0.04654255])"
      ]
     },
     "execution_count": 56,
     "metadata": {},
     "output_type": "execute_result"
    }
   ],
   "source": [
    "a = np.array(scores2)\n",
    "b = np.array(scores5)\n",
    "a-b"
   ]
  },
  {
   "cell_type": "markdown",
   "id": "2928b945-5249-4605-9835-37c8d183f3af",
   "metadata": {},
   "source": [
    "The accuracy scores of the model without suction side displacement are the best, so I will look a little deeper with that model and then also look at models with less variables as well to see if there is any possible improvement when using less variables.\n",
    "\n",
    "Looking at coefficients of the fitited model for all variables except suction side displacement."
   ]
  },
  {
   "cell_type": "code",
   "execution_count": 57,
   "id": "fa07f860-39bc-48e1-b32a-b0e3859298c8",
   "metadata": {},
   "outputs": [
    {
     "name": "stdout",
     "output_type": "stream",
     "text": [
      "[[ 4.33757313e-04  2.03695207e-01  5.69216641e+00 -2.76703683e-02]]\n",
      "[-3.51898132]\n"
     ]
    }
   ],
   "source": [
    "for train_index, test_index in sss.split(X2, y2):\n",
    "    X_train, X_test = X2[train_index], X2[test_index]\n",
    "    y_train, y_test = y2[train_index], y2[test_index]\n",
    "    \n",
    "    regress_4vars = model.fit(X_train, y_train)\n",
    "\n",
    "print(regress_4vars.coef_)\n",
    "print(regress_4vars.intercept_)"
   ]
  },
  {
   "cell_type": "markdown",
   "id": "d1a4300f-f108-4b4d-b086-417178e84c6c",
   "metadata": {},
   "source": [
    "We can clearly see that in this model, the variable with the largest coefficient is chord length. That may not mean that it is the most important, but could be something to keep in mind (similarly, frequency looks least important)."
   ]
  },
  {
   "cell_type": "markdown",
   "id": "fa063e77-0d6d-488e-94bf-04e66016622b",
   "metadata": {},
   "source": [
    "#### Dropping Frequency and Suction Side Displacement Thickness"
   ]
  },
  {
   "cell_type": "code",
   "execution_count": 58,
   "id": "26cbb244-c2cf-4e94-adaf-446e1a8c2923",
   "metadata": {},
   "outputs": [
    {
     "data": {
      "text/html": [
       "<style>#sk-container-id-7 {color: black;background-color: white;}#sk-container-id-7 pre{padding: 0;}#sk-container-id-7 div.sk-toggleable {background-color: white;}#sk-container-id-7 label.sk-toggleable__label {cursor: pointer;display: block;width: 100%;margin-bottom: 0;padding: 0.3em;box-sizing: border-box;text-align: center;}#sk-container-id-7 label.sk-toggleable__label-arrow:before {content: \"▸\";float: left;margin-right: 0.25em;color: #696969;}#sk-container-id-7 label.sk-toggleable__label-arrow:hover:before {color: black;}#sk-container-id-7 div.sk-estimator:hover label.sk-toggleable__label-arrow:before {color: black;}#sk-container-id-7 div.sk-toggleable__content {max-height: 0;max-width: 0;overflow: hidden;text-align: left;background-color: #f0f8ff;}#sk-container-id-7 div.sk-toggleable__content pre {margin: 0.2em;color: black;border-radius: 0.25em;background-color: #f0f8ff;}#sk-container-id-7 input.sk-toggleable__control:checked~div.sk-toggleable__content {max-height: 200px;max-width: 100%;overflow: auto;}#sk-container-id-7 input.sk-toggleable__control:checked~label.sk-toggleable__label-arrow:before {content: \"▾\";}#sk-container-id-7 div.sk-estimator input.sk-toggleable__control:checked~label.sk-toggleable__label {background-color: #d4ebff;}#sk-container-id-7 div.sk-label input.sk-toggleable__control:checked~label.sk-toggleable__label {background-color: #d4ebff;}#sk-container-id-7 input.sk-hidden--visually {border: 0;clip: rect(1px 1px 1px 1px);clip: rect(1px, 1px, 1px, 1px);height: 1px;margin: -1px;overflow: hidden;padding: 0;position: absolute;width: 1px;}#sk-container-id-7 div.sk-estimator {font-family: monospace;background-color: #f0f8ff;border: 1px dotted black;border-radius: 0.25em;box-sizing: border-box;margin-bottom: 0.5em;}#sk-container-id-7 div.sk-estimator:hover {background-color: #d4ebff;}#sk-container-id-7 div.sk-parallel-item::after {content: \"\";width: 100%;border-bottom: 1px solid gray;flex-grow: 1;}#sk-container-id-7 div.sk-label:hover label.sk-toggleable__label {background-color: #d4ebff;}#sk-container-id-7 div.sk-serial::before {content: \"\";position: absolute;border-left: 1px solid gray;box-sizing: border-box;top: 0;bottom: 0;left: 50%;z-index: 0;}#sk-container-id-7 div.sk-serial {display: flex;flex-direction: column;align-items: center;background-color: white;padding-right: 0.2em;padding-left: 0.2em;position: relative;}#sk-container-id-7 div.sk-item {position: relative;z-index: 1;}#sk-container-id-7 div.sk-parallel {display: flex;align-items: stretch;justify-content: center;background-color: white;position: relative;}#sk-container-id-7 div.sk-item::before, #sk-container-id-7 div.sk-parallel-item::before {content: \"\";position: absolute;border-left: 1px solid gray;box-sizing: border-box;top: 0;bottom: 0;left: 50%;z-index: -1;}#sk-container-id-7 div.sk-parallel-item {display: flex;flex-direction: column;z-index: 1;position: relative;background-color: white;}#sk-container-id-7 div.sk-parallel-item:first-child::after {align-self: flex-end;width: 50%;}#sk-container-id-7 div.sk-parallel-item:last-child::after {align-self: flex-start;width: 50%;}#sk-container-id-7 div.sk-parallel-item:only-child::after {width: 0;}#sk-container-id-7 div.sk-dashed-wrapped {border: 1px dashed gray;margin: 0 0.4em 0.5em 0.4em;box-sizing: border-box;padding-bottom: 0.4em;background-color: white;}#sk-container-id-7 div.sk-label label {font-family: monospace;font-weight: bold;display: inline-block;line-height: 1.2em;}#sk-container-id-7 div.sk-label-container {text-align: center;}#sk-container-id-7 div.sk-container {/* jupyter's `normalize.less` sets `[hidden] { display: none; }` but bootstrap.min.css set `[hidden] { display: none !important; }` so we also need the `!important` here to be able to override the default hidden behavior on the sphinx rendered scikit-learn.org. See: https://github.com/scikit-learn/scikit-learn/issues/21755 */display: inline-block !important;position: relative;}#sk-container-id-7 div.sk-text-repr-fallback {display: none;}</style><div id=\"sk-container-id-7\" class=\"sk-top-container\"><div class=\"sk-text-repr-fallback\"><pre>LogisticRegression(max_iter=500, random_state=0)</pre><b>In a Jupyter environment, please rerun this cell to show the HTML representation or trust the notebook. <br />On GitHub, the HTML representation is unable to render, please try loading this page with nbviewer.org.</b></div><div class=\"sk-container\" hidden><div class=\"sk-item\"><div class=\"sk-estimator sk-toggleable\"><input class=\"sk-toggleable__control sk-hidden--visually\" id=\"sk-estimator-id-7\" type=\"checkbox\" checked><label for=\"sk-estimator-id-7\" class=\"sk-toggleable__label sk-toggleable__label-arrow\">LogisticRegression</label><div class=\"sk-toggleable__content\"><pre>LogisticRegression(max_iter=500, random_state=0)</pre></div></div></div></div></div>"
      ],
      "text/plain": [
       "LogisticRegression(max_iter=500, random_state=0)"
      ]
     },
     "execution_count": 58,
     "metadata": {},
     "output_type": "execute_result"
    }
   ],
   "source": [
    "X6 = af_data.iloc[:, [1, 2, 3]].values\n",
    "y6 = af_data.iloc[:, 6].values\n",
    "X6_train, X6_test, y6_train, y6_test = train_test_split(X6, y6, test_size = 0.25, random_state = 3)\n",
    "\n",
    "classifier.fit(X6_train,y6_train)"
   ]
  },
  {
   "cell_type": "code",
   "execution_count": 59,
   "id": "e7d0974b-849f-40c8-a853-ed0a0ea3ac52",
   "metadata": {},
   "outputs": [
    {
     "data": {
      "text/html": [
       "<div>\n",
       "<style scoped>\n",
       "    .dataframe tbody tr th:only-of-type {\n",
       "        vertical-align: middle;\n",
       "    }\n",
       "\n",
       "    .dataframe tbody tr th {\n",
       "        vertical-align: top;\n",
       "    }\n",
       "\n",
       "    .dataframe thead th {\n",
       "        text-align: right;\n",
       "    }\n",
       "</style>\n",
       "<table border=\"1\" class=\"dataframe\">\n",
       "  <thead>\n",
       "    <tr style=\"text-align: right;\">\n",
       "      <th></th>\n",
       "      <th>Correct label</th>\n",
       "      <th>Predicted label</th>\n",
       "      <th>Probability Not Safe</th>\n",
       "      <th>Probability Safe</th>\n",
       "    </tr>\n",
       "  </thead>\n",
       "  <tbody>\n",
       "    <tr>\n",
       "      <th>0</th>\n",
       "      <td>Not Safe</td>\n",
       "      <td>Not Safe</td>\n",
       "      <td>0.801724</td>\n",
       "      <td>0.198276</td>\n",
       "    </tr>\n",
       "    <tr>\n",
       "      <th>1</th>\n",
       "      <td>Not Safe</td>\n",
       "      <td>Not Safe</td>\n",
       "      <td>0.815294</td>\n",
       "      <td>0.184706</td>\n",
       "    </tr>\n",
       "    <tr>\n",
       "      <th>2</th>\n",
       "      <td>Not Safe</td>\n",
       "      <td>Not Safe</td>\n",
       "      <td>0.616125</td>\n",
       "      <td>0.383875</td>\n",
       "    </tr>\n",
       "    <tr>\n",
       "      <th>3</th>\n",
       "      <td>Not Safe</td>\n",
       "      <td>Not Safe</td>\n",
       "      <td>0.854943</td>\n",
       "      <td>0.145057</td>\n",
       "    </tr>\n",
       "    <tr>\n",
       "      <th>4</th>\n",
       "      <td>Safe</td>\n",
       "      <td>Not Safe</td>\n",
       "      <td>0.751580</td>\n",
       "      <td>0.248420</td>\n",
       "    </tr>\n",
       "    <tr>\n",
       "      <th>...</th>\n",
       "      <td>...</td>\n",
       "      <td>...</td>\n",
       "      <td>...</td>\n",
       "      <td>...</td>\n",
       "    </tr>\n",
       "    <tr>\n",
       "      <th>371</th>\n",
       "      <td>Not Safe</td>\n",
       "      <td>Not Safe</td>\n",
       "      <td>0.766173</td>\n",
       "      <td>0.233827</td>\n",
       "    </tr>\n",
       "    <tr>\n",
       "      <th>372</th>\n",
       "      <td>Not Safe</td>\n",
       "      <td>Not Safe</td>\n",
       "      <td>0.864909</td>\n",
       "      <td>0.135091</td>\n",
       "    </tr>\n",
       "    <tr>\n",
       "      <th>373</th>\n",
       "      <td>Not Safe</td>\n",
       "      <td>Not Safe</td>\n",
       "      <td>0.683756</td>\n",
       "      <td>0.316244</td>\n",
       "    </tr>\n",
       "    <tr>\n",
       "      <th>374</th>\n",
       "      <td>Not Safe</td>\n",
       "      <td>Not Safe</td>\n",
       "      <td>0.854943</td>\n",
       "      <td>0.145057</td>\n",
       "    </tr>\n",
       "    <tr>\n",
       "      <th>375</th>\n",
       "      <td>Not Safe</td>\n",
       "      <td>Not Safe</td>\n",
       "      <td>0.767779</td>\n",
       "      <td>0.232221</td>\n",
       "    </tr>\n",
       "  </tbody>\n",
       "</table>\n",
       "<p>376 rows × 4 columns</p>\n",
       "</div>"
      ],
      "text/plain": [
       "    Correct label Predicted label  Probability Not Safe  Probability Safe\n",
       "0        Not Safe        Not Safe              0.801724          0.198276\n",
       "1        Not Safe        Not Safe              0.815294          0.184706\n",
       "2        Not Safe        Not Safe              0.616125          0.383875\n",
       "3        Not Safe        Not Safe              0.854943          0.145057\n",
       "4            Safe        Not Safe              0.751580          0.248420\n",
       "..            ...             ...                   ...               ...\n",
       "371      Not Safe        Not Safe              0.766173          0.233827\n",
       "372      Not Safe        Not Safe              0.864909          0.135091\n",
       "373      Not Safe        Not Safe              0.683756          0.316244\n",
       "374      Not Safe        Not Safe              0.854943          0.145057\n",
       "375      Not Safe        Not Safe              0.767779          0.232221\n",
       "\n",
       "[376 rows x 4 columns]"
      ]
     },
     "execution_count": 59,
     "metadata": {},
     "output_type": "execute_result"
    }
   ],
   "source": [
    "y6_pred = classifier.predict(X6_test)\n",
    "\n",
    "# Predict probabilities\n",
    "probs_y6=classifier.predict_proba(X6_test)\n",
    "\n",
    "data6 = {'Correct label':y6_test, 'Predicted label':y6_pred, 'Probability Not Safe':probs_y6[:,0],\n",
    "       'Probability Safe':probs_y6[:,1]}\n",
    "# Create DataFrame\n",
    "df6 = pd.DataFrame(data6)\n",
    " \n",
    "# Print the output.\n",
    "df6"
   ]
  },
  {
   "cell_type": "code",
   "execution_count": 60,
   "id": "ffd09da8-f422-461f-97a2-0d413b8241b3",
   "metadata": {},
   "outputs": [
    {
     "name": "stdout",
     "output_type": "stream",
     "text": [
      "[[294   4]\n",
      " [ 76   2]]\n"
     ]
    }
   ],
   "source": [
    "cm = confusion_matrix(y6_test, y6_pred)\n",
    "print(cm)"
   ]
  },
  {
   "cell_type": "code",
   "execution_count": 61,
   "id": "6e974baa-9e35-48a8-a34f-c47e8434b4d9",
   "metadata": {},
   "outputs": [
    {
     "name": "stdout",
     "output_type": "stream",
     "text": [
      "[0.7606382978723404, 0.7526595744680851, 0.7526595744680851, 0.7606382978723404, 0.7606382978723404]\n"
     ]
    }
   ],
   "source": [
    "sss.get_n_splits(X6, y6);\n",
    "\n",
    "scores6 = []\n",
    "\n",
    "for train_index, test_index in sss.split(X6, y6):\n",
    "    X_train, X_test = X6[train_index], X6[test_index]\n",
    "    y_train, y_test = y6[train_index], y6[test_index]\n",
    "    model.fit(X_train, y_train)\n",
    "    pred = model.predict(X_test)\n",
    "    scores6.append(accuracy_score(y_test, pred))\n",
    " \n",
    "# get accuracy of each prediction\n",
    "print(scores6)"
   ]
  },
  {
   "cell_type": "markdown",
   "id": "08269e18-482f-4b81-9bdb-1afcdbf9f8c6",
   "metadata": {},
   "source": [
    "#### Dropping angle of attack and suction side displacement"
   ]
  },
  {
   "cell_type": "code",
   "execution_count": 62,
   "id": "daa8ec99-02a0-4e08-8a92-f91cf8c900a2",
   "metadata": {},
   "outputs": [
    {
     "data": {
      "text/html": [
       "<style>#sk-container-id-8 {color: black;background-color: white;}#sk-container-id-8 pre{padding: 0;}#sk-container-id-8 div.sk-toggleable {background-color: white;}#sk-container-id-8 label.sk-toggleable__label {cursor: pointer;display: block;width: 100%;margin-bottom: 0;padding: 0.3em;box-sizing: border-box;text-align: center;}#sk-container-id-8 label.sk-toggleable__label-arrow:before {content: \"▸\";float: left;margin-right: 0.25em;color: #696969;}#sk-container-id-8 label.sk-toggleable__label-arrow:hover:before {color: black;}#sk-container-id-8 div.sk-estimator:hover label.sk-toggleable__label-arrow:before {color: black;}#sk-container-id-8 div.sk-toggleable__content {max-height: 0;max-width: 0;overflow: hidden;text-align: left;background-color: #f0f8ff;}#sk-container-id-8 div.sk-toggleable__content pre {margin: 0.2em;color: black;border-radius: 0.25em;background-color: #f0f8ff;}#sk-container-id-8 input.sk-toggleable__control:checked~div.sk-toggleable__content {max-height: 200px;max-width: 100%;overflow: auto;}#sk-container-id-8 input.sk-toggleable__control:checked~label.sk-toggleable__label-arrow:before {content: \"▾\";}#sk-container-id-8 div.sk-estimator input.sk-toggleable__control:checked~label.sk-toggleable__label {background-color: #d4ebff;}#sk-container-id-8 div.sk-label input.sk-toggleable__control:checked~label.sk-toggleable__label {background-color: #d4ebff;}#sk-container-id-8 input.sk-hidden--visually {border: 0;clip: rect(1px 1px 1px 1px);clip: rect(1px, 1px, 1px, 1px);height: 1px;margin: -1px;overflow: hidden;padding: 0;position: absolute;width: 1px;}#sk-container-id-8 div.sk-estimator {font-family: monospace;background-color: #f0f8ff;border: 1px dotted black;border-radius: 0.25em;box-sizing: border-box;margin-bottom: 0.5em;}#sk-container-id-8 div.sk-estimator:hover {background-color: #d4ebff;}#sk-container-id-8 div.sk-parallel-item::after {content: \"\";width: 100%;border-bottom: 1px solid gray;flex-grow: 1;}#sk-container-id-8 div.sk-label:hover label.sk-toggleable__label {background-color: #d4ebff;}#sk-container-id-8 div.sk-serial::before {content: \"\";position: absolute;border-left: 1px solid gray;box-sizing: border-box;top: 0;bottom: 0;left: 50%;z-index: 0;}#sk-container-id-8 div.sk-serial {display: flex;flex-direction: column;align-items: center;background-color: white;padding-right: 0.2em;padding-left: 0.2em;position: relative;}#sk-container-id-8 div.sk-item {position: relative;z-index: 1;}#sk-container-id-8 div.sk-parallel {display: flex;align-items: stretch;justify-content: center;background-color: white;position: relative;}#sk-container-id-8 div.sk-item::before, #sk-container-id-8 div.sk-parallel-item::before {content: \"\";position: absolute;border-left: 1px solid gray;box-sizing: border-box;top: 0;bottom: 0;left: 50%;z-index: -1;}#sk-container-id-8 div.sk-parallel-item {display: flex;flex-direction: column;z-index: 1;position: relative;background-color: white;}#sk-container-id-8 div.sk-parallel-item:first-child::after {align-self: flex-end;width: 50%;}#sk-container-id-8 div.sk-parallel-item:last-child::after {align-self: flex-start;width: 50%;}#sk-container-id-8 div.sk-parallel-item:only-child::after {width: 0;}#sk-container-id-8 div.sk-dashed-wrapped {border: 1px dashed gray;margin: 0 0.4em 0.5em 0.4em;box-sizing: border-box;padding-bottom: 0.4em;background-color: white;}#sk-container-id-8 div.sk-label label {font-family: monospace;font-weight: bold;display: inline-block;line-height: 1.2em;}#sk-container-id-8 div.sk-label-container {text-align: center;}#sk-container-id-8 div.sk-container {/* jupyter's `normalize.less` sets `[hidden] { display: none; }` but bootstrap.min.css set `[hidden] { display: none !important; }` so we also need the `!important` here to be able to override the default hidden behavior on the sphinx rendered scikit-learn.org. See: https://github.com/scikit-learn/scikit-learn/issues/21755 */display: inline-block !important;position: relative;}#sk-container-id-8 div.sk-text-repr-fallback {display: none;}</style><div id=\"sk-container-id-8\" class=\"sk-top-container\"><div class=\"sk-text-repr-fallback\"><pre>LogisticRegression(max_iter=500, random_state=0)</pre><b>In a Jupyter environment, please rerun this cell to show the HTML representation or trust the notebook. <br />On GitHub, the HTML representation is unable to render, please try loading this page with nbviewer.org.</b></div><div class=\"sk-container\" hidden><div class=\"sk-item\"><div class=\"sk-estimator sk-toggleable\"><input class=\"sk-toggleable__control sk-hidden--visually\" id=\"sk-estimator-id-8\" type=\"checkbox\" checked><label for=\"sk-estimator-id-8\" class=\"sk-toggleable__label sk-toggleable__label-arrow\">LogisticRegression</label><div class=\"sk-toggleable__content\"><pre>LogisticRegression(max_iter=500, random_state=0)</pre></div></div></div></div></div>"
      ],
      "text/plain": [
       "LogisticRegression(max_iter=500, random_state=0)"
      ]
     },
     "execution_count": 62,
     "metadata": {},
     "output_type": "execute_result"
    }
   ],
   "source": [
    "X7 = af_data.iloc[:, [0, 2, 3]].values\n",
    "y7 = af_data.iloc[:, 6].values\n",
    "X7_train, X7_test, y7_train, y7_test = train_test_split(X7, y7, test_size = 0.25, random_state = 3)\n",
    "\n",
    "classifier.fit(X7_train,y7_train)"
   ]
  },
  {
   "cell_type": "code",
   "execution_count": 63,
   "id": "ab79b1ee-58d9-4a1f-9798-8aaa0104ba12",
   "metadata": {},
   "outputs": [
    {
     "data": {
      "text/html": [
       "<div>\n",
       "<style scoped>\n",
       "    .dataframe tbody tr th:only-of-type {\n",
       "        vertical-align: middle;\n",
       "    }\n",
       "\n",
       "    .dataframe tbody tr th {\n",
       "        vertical-align: top;\n",
       "    }\n",
       "\n",
       "    .dataframe thead th {\n",
       "        text-align: right;\n",
       "    }\n",
       "</style>\n",
       "<table border=\"1\" class=\"dataframe\">\n",
       "  <thead>\n",
       "    <tr style=\"text-align: right;\">\n",
       "      <th></th>\n",
       "      <th>Correct label</th>\n",
       "      <th>Predicted label</th>\n",
       "      <th>Probability Not Safe</th>\n",
       "      <th>Probability Safe</th>\n",
       "    </tr>\n",
       "  </thead>\n",
       "  <tbody>\n",
       "    <tr>\n",
       "      <th>0</th>\n",
       "      <td>Not Safe</td>\n",
       "      <td>Not Safe</td>\n",
       "      <td>0.904057</td>\n",
       "      <td>0.095943</td>\n",
       "    </tr>\n",
       "    <tr>\n",
       "      <th>1</th>\n",
       "      <td>Not Safe</td>\n",
       "      <td>Not Safe</td>\n",
       "      <td>0.818867</td>\n",
       "      <td>0.181133</td>\n",
       "    </tr>\n",
       "    <tr>\n",
       "      <th>2</th>\n",
       "      <td>Not Safe</td>\n",
       "      <td>Not Safe</td>\n",
       "      <td>0.856517</td>\n",
       "      <td>0.143483</td>\n",
       "    </tr>\n",
       "    <tr>\n",
       "      <th>3</th>\n",
       "      <td>Not Safe</td>\n",
       "      <td>Safe</td>\n",
       "      <td>0.432742</td>\n",
       "      <td>0.567258</td>\n",
       "    </tr>\n",
       "    <tr>\n",
       "      <th>4</th>\n",
       "      <td>Safe</td>\n",
       "      <td>Safe</td>\n",
       "      <td>0.480296</td>\n",
       "      <td>0.519704</td>\n",
       "    </tr>\n",
       "    <tr>\n",
       "      <th>...</th>\n",
       "      <td>...</td>\n",
       "      <td>...</td>\n",
       "      <td>...</td>\n",
       "      <td>...</td>\n",
       "    </tr>\n",
       "    <tr>\n",
       "      <th>371</th>\n",
       "      <td>Not Safe</td>\n",
       "      <td>Not Safe</td>\n",
       "      <td>0.779662</td>\n",
       "      <td>0.220338</td>\n",
       "    </tr>\n",
       "    <tr>\n",
       "      <th>372</th>\n",
       "      <td>Not Safe</td>\n",
       "      <td>Not Safe</td>\n",
       "      <td>0.731396</td>\n",
       "      <td>0.268604</td>\n",
       "    </tr>\n",
       "    <tr>\n",
       "      <th>373</th>\n",
       "      <td>Not Safe</td>\n",
       "      <td>Not Safe</td>\n",
       "      <td>0.845917</td>\n",
       "      <td>0.154083</td>\n",
       "    </tr>\n",
       "    <tr>\n",
       "      <th>374</th>\n",
       "      <td>Not Safe</td>\n",
       "      <td>Not Safe</td>\n",
       "      <td>0.559059</td>\n",
       "      <td>0.440941</td>\n",
       "    </tr>\n",
       "    <tr>\n",
       "      <th>375</th>\n",
       "      <td>Not Safe</td>\n",
       "      <td>Not Safe</td>\n",
       "      <td>0.843637</td>\n",
       "      <td>0.156363</td>\n",
       "    </tr>\n",
       "  </tbody>\n",
       "</table>\n",
       "<p>376 rows × 4 columns</p>\n",
       "</div>"
      ],
      "text/plain": [
       "    Correct label Predicted label  Probability Not Safe  Probability Safe\n",
       "0        Not Safe        Not Safe              0.904057          0.095943\n",
       "1        Not Safe        Not Safe              0.818867          0.181133\n",
       "2        Not Safe        Not Safe              0.856517          0.143483\n",
       "3        Not Safe            Safe              0.432742          0.567258\n",
       "4            Safe            Safe              0.480296          0.519704\n",
       "..            ...             ...                   ...               ...\n",
       "371      Not Safe        Not Safe              0.779662          0.220338\n",
       "372      Not Safe        Not Safe              0.731396          0.268604\n",
       "373      Not Safe        Not Safe              0.845917          0.154083\n",
       "374      Not Safe        Not Safe              0.559059          0.440941\n",
       "375      Not Safe        Not Safe              0.843637          0.156363\n",
       "\n",
       "[376 rows x 4 columns]"
      ]
     },
     "execution_count": 63,
     "metadata": {},
     "output_type": "execute_result"
    }
   ],
   "source": [
    "y7_pred = classifier.predict(X7_test)\n",
    "\n",
    "# Predict probabilities\n",
    "probs_y7=classifier.predict_proba(X7_test)\n",
    "\n",
    "data7 = {'Correct label':y7_test, 'Predicted label':y7_pred, 'Probability Not Safe':probs_y7[:,0],\n",
    "       'Probability Safe':probs_y7[:,1]}\n",
    "# Create DataFrame\n",
    "df7 = pd.DataFrame(data7)\n",
    " \n",
    "# Print the output.\n",
    "df7"
   ]
  },
  {
   "cell_type": "code",
   "execution_count": 64,
   "id": "4ec71089-cf1d-4965-ad6f-89e27936daa6",
   "metadata": {},
   "outputs": [
    {
     "name": "stdout",
     "output_type": "stream",
     "text": [
      "[[280  18]\n",
      " [ 54  24]]\n"
     ]
    }
   ],
   "source": [
    "cm = confusion_matrix(y7_test, y7_pred)\n",
    "print(cm)"
   ]
  },
  {
   "cell_type": "code",
   "execution_count": 65,
   "id": "135d5c73-01a2-40fa-babc-90148720491f",
   "metadata": {},
   "outputs": [
    {
     "name": "stdout",
     "output_type": "stream",
     "text": [
      "[0.7845744680851063, 0.8098404255319149, 0.7792553191489362, 0.776595744680851, 0.7898936170212766]\n"
     ]
    }
   ],
   "source": [
    "sss.get_n_splits(X7, y7);\n",
    "\n",
    "scores7 = []\n",
    "\n",
    "for train_index, test_index in sss.split(X7, y7):\n",
    "    X_train, X_test = X7[train_index], X7[test_index]\n",
    "    y_train, y_test = y7[train_index], y7[test_index]\n",
    "    model.fit(X_train, y_train)\n",
    "    pred = model.predict(X_test)\n",
    "    scores7.append(accuracy_score(y_test, pred))\n",
    " \n",
    "# get accuracy of each prediction\n",
    "print(scores7)"
   ]
  },
  {
   "cell_type": "markdown",
   "id": "1f5daf91-1eb5-4d65-a74d-9aa662c94eae",
   "metadata": {},
   "source": [
    "#### Dropping chord length and suction side displacement"
   ]
  },
  {
   "cell_type": "code",
   "execution_count": 66,
   "id": "fe2ffc79-a126-4dc4-bf99-28b3558d3b1d",
   "metadata": {},
   "outputs": [
    {
     "data": {
      "text/html": [
       "<style>#sk-container-id-9 {color: black;background-color: white;}#sk-container-id-9 pre{padding: 0;}#sk-container-id-9 div.sk-toggleable {background-color: white;}#sk-container-id-9 label.sk-toggleable__label {cursor: pointer;display: block;width: 100%;margin-bottom: 0;padding: 0.3em;box-sizing: border-box;text-align: center;}#sk-container-id-9 label.sk-toggleable__label-arrow:before {content: \"▸\";float: left;margin-right: 0.25em;color: #696969;}#sk-container-id-9 label.sk-toggleable__label-arrow:hover:before {color: black;}#sk-container-id-9 div.sk-estimator:hover label.sk-toggleable__label-arrow:before {color: black;}#sk-container-id-9 div.sk-toggleable__content {max-height: 0;max-width: 0;overflow: hidden;text-align: left;background-color: #f0f8ff;}#sk-container-id-9 div.sk-toggleable__content pre {margin: 0.2em;color: black;border-radius: 0.25em;background-color: #f0f8ff;}#sk-container-id-9 input.sk-toggleable__control:checked~div.sk-toggleable__content {max-height: 200px;max-width: 100%;overflow: auto;}#sk-container-id-9 input.sk-toggleable__control:checked~label.sk-toggleable__label-arrow:before {content: \"▾\";}#sk-container-id-9 div.sk-estimator input.sk-toggleable__control:checked~label.sk-toggleable__label {background-color: #d4ebff;}#sk-container-id-9 div.sk-label input.sk-toggleable__control:checked~label.sk-toggleable__label {background-color: #d4ebff;}#sk-container-id-9 input.sk-hidden--visually {border: 0;clip: rect(1px 1px 1px 1px);clip: rect(1px, 1px, 1px, 1px);height: 1px;margin: -1px;overflow: hidden;padding: 0;position: absolute;width: 1px;}#sk-container-id-9 div.sk-estimator {font-family: monospace;background-color: #f0f8ff;border: 1px dotted black;border-radius: 0.25em;box-sizing: border-box;margin-bottom: 0.5em;}#sk-container-id-9 div.sk-estimator:hover {background-color: #d4ebff;}#sk-container-id-9 div.sk-parallel-item::after {content: \"\";width: 100%;border-bottom: 1px solid gray;flex-grow: 1;}#sk-container-id-9 div.sk-label:hover label.sk-toggleable__label {background-color: #d4ebff;}#sk-container-id-9 div.sk-serial::before {content: \"\";position: absolute;border-left: 1px solid gray;box-sizing: border-box;top: 0;bottom: 0;left: 50%;z-index: 0;}#sk-container-id-9 div.sk-serial {display: flex;flex-direction: column;align-items: center;background-color: white;padding-right: 0.2em;padding-left: 0.2em;position: relative;}#sk-container-id-9 div.sk-item {position: relative;z-index: 1;}#sk-container-id-9 div.sk-parallel {display: flex;align-items: stretch;justify-content: center;background-color: white;position: relative;}#sk-container-id-9 div.sk-item::before, #sk-container-id-9 div.sk-parallel-item::before {content: \"\";position: absolute;border-left: 1px solid gray;box-sizing: border-box;top: 0;bottom: 0;left: 50%;z-index: -1;}#sk-container-id-9 div.sk-parallel-item {display: flex;flex-direction: column;z-index: 1;position: relative;background-color: white;}#sk-container-id-9 div.sk-parallel-item:first-child::after {align-self: flex-end;width: 50%;}#sk-container-id-9 div.sk-parallel-item:last-child::after {align-self: flex-start;width: 50%;}#sk-container-id-9 div.sk-parallel-item:only-child::after {width: 0;}#sk-container-id-9 div.sk-dashed-wrapped {border: 1px dashed gray;margin: 0 0.4em 0.5em 0.4em;box-sizing: border-box;padding-bottom: 0.4em;background-color: white;}#sk-container-id-9 div.sk-label label {font-family: monospace;font-weight: bold;display: inline-block;line-height: 1.2em;}#sk-container-id-9 div.sk-label-container {text-align: center;}#sk-container-id-9 div.sk-container {/* jupyter's `normalize.less` sets `[hidden] { display: none; }` but bootstrap.min.css set `[hidden] { display: none !important; }` so we also need the `!important` here to be able to override the default hidden behavior on the sphinx rendered scikit-learn.org. See: https://github.com/scikit-learn/scikit-learn/issues/21755 */display: inline-block !important;position: relative;}#sk-container-id-9 div.sk-text-repr-fallback {display: none;}</style><div id=\"sk-container-id-9\" class=\"sk-top-container\"><div class=\"sk-text-repr-fallback\"><pre>LogisticRegression(max_iter=500, random_state=0)</pre><b>In a Jupyter environment, please rerun this cell to show the HTML representation or trust the notebook. <br />On GitHub, the HTML representation is unable to render, please try loading this page with nbviewer.org.</b></div><div class=\"sk-container\" hidden><div class=\"sk-item\"><div class=\"sk-estimator sk-toggleable\"><input class=\"sk-toggleable__control sk-hidden--visually\" id=\"sk-estimator-id-9\" type=\"checkbox\" checked><label for=\"sk-estimator-id-9\" class=\"sk-toggleable__label sk-toggleable__label-arrow\">LogisticRegression</label><div class=\"sk-toggleable__content\"><pre>LogisticRegression(max_iter=500, random_state=0)</pre></div></div></div></div></div>"
      ],
      "text/plain": [
       "LogisticRegression(max_iter=500, random_state=0)"
      ]
     },
     "execution_count": 66,
     "metadata": {},
     "output_type": "execute_result"
    }
   ],
   "source": [
    "X8 = af_data.iloc[:, [0, 1, 3]].values\n",
    "y8 = af_data.iloc[:, 6].values\n",
    "X8_train, X8_test, y8_train, y8_test = train_test_split(X8, y8, test_size = 0.25, random_state = 3)\n",
    "\n",
    "classifier.fit(X8_train,y8_train)"
   ]
  },
  {
   "cell_type": "code",
   "execution_count": 67,
   "id": "6047f3d9-58f1-4aaf-9954-f2514b6891c6",
   "metadata": {},
   "outputs": [
    {
     "data": {
      "text/html": [
       "<div>\n",
       "<style scoped>\n",
       "    .dataframe tbody tr th:only-of-type {\n",
       "        vertical-align: middle;\n",
       "    }\n",
       "\n",
       "    .dataframe tbody tr th {\n",
       "        vertical-align: top;\n",
       "    }\n",
       "\n",
       "    .dataframe thead th {\n",
       "        text-align: right;\n",
       "    }\n",
       "</style>\n",
       "<table border=\"1\" class=\"dataframe\">\n",
       "  <thead>\n",
       "    <tr style=\"text-align: right;\">\n",
       "      <th></th>\n",
       "      <th>Correct label</th>\n",
       "      <th>Predicted label</th>\n",
       "      <th>Probability Not Safe</th>\n",
       "      <th>Probability Safe</th>\n",
       "    </tr>\n",
       "  </thead>\n",
       "  <tbody>\n",
       "    <tr>\n",
       "      <th>0</th>\n",
       "      <td>Not Safe</td>\n",
       "      <td>Not Safe</td>\n",
       "      <td>0.856393</td>\n",
       "      <td>0.143607</td>\n",
       "    </tr>\n",
       "    <tr>\n",
       "      <th>1</th>\n",
       "      <td>Not Safe</td>\n",
       "      <td>Not Safe</td>\n",
       "      <td>0.772840</td>\n",
       "      <td>0.227160</td>\n",
       "    </tr>\n",
       "    <tr>\n",
       "      <th>2</th>\n",
       "      <td>Not Safe</td>\n",
       "      <td>Not Safe</td>\n",
       "      <td>0.667364</td>\n",
       "      <td>0.332636</td>\n",
       "    </tr>\n",
       "    <tr>\n",
       "      <th>3</th>\n",
       "      <td>Not Safe</td>\n",
       "      <td>Safe</td>\n",
       "      <td>0.324092</td>\n",
       "      <td>0.675908</td>\n",
       "    </tr>\n",
       "    <tr>\n",
       "      <th>4</th>\n",
       "      <td>Safe</td>\n",
       "      <td>Safe</td>\n",
       "      <td>0.468408</td>\n",
       "      <td>0.531592</td>\n",
       "    </tr>\n",
       "    <tr>\n",
       "      <th>...</th>\n",
       "      <td>...</td>\n",
       "      <td>...</td>\n",
       "      <td>...</td>\n",
       "      <td>...</td>\n",
       "    </tr>\n",
       "    <tr>\n",
       "      <th>371</th>\n",
       "      <td>Not Safe</td>\n",
       "      <td>Not Safe</td>\n",
       "      <td>0.723702</td>\n",
       "      <td>0.276298</td>\n",
       "    </tr>\n",
       "    <tr>\n",
       "      <th>372</th>\n",
       "      <td>Not Safe</td>\n",
       "      <td>Not Safe</td>\n",
       "      <td>0.886301</td>\n",
       "      <td>0.113699</td>\n",
       "    </tr>\n",
       "    <tr>\n",
       "      <th>373</th>\n",
       "      <td>Not Safe</td>\n",
       "      <td>Not Safe</td>\n",
       "      <td>0.624749</td>\n",
       "      <td>0.375251</td>\n",
       "    </tr>\n",
       "    <tr>\n",
       "      <th>374</th>\n",
       "      <td>Not Safe</td>\n",
       "      <td>Safe</td>\n",
       "      <td>0.489355</td>\n",
       "      <td>0.510645</td>\n",
       "    </tr>\n",
       "    <tr>\n",
       "      <th>375</th>\n",
       "      <td>Not Safe</td>\n",
       "      <td>Not Safe</td>\n",
       "      <td>0.785460</td>\n",
       "      <td>0.214540</td>\n",
       "    </tr>\n",
       "  </tbody>\n",
       "</table>\n",
       "<p>376 rows × 4 columns</p>\n",
       "</div>"
      ],
      "text/plain": [
       "    Correct label Predicted label  Probability Not Safe  Probability Safe\n",
       "0        Not Safe        Not Safe              0.856393          0.143607\n",
       "1        Not Safe        Not Safe              0.772840          0.227160\n",
       "2        Not Safe        Not Safe              0.667364          0.332636\n",
       "3        Not Safe            Safe              0.324092          0.675908\n",
       "4            Safe            Safe              0.468408          0.531592\n",
       "..            ...             ...                   ...               ...\n",
       "371      Not Safe        Not Safe              0.723702          0.276298\n",
       "372      Not Safe        Not Safe              0.886301          0.113699\n",
       "373      Not Safe        Not Safe              0.624749          0.375251\n",
       "374      Not Safe            Safe              0.489355          0.510645\n",
       "375      Not Safe        Not Safe              0.785460          0.214540\n",
       "\n",
       "[376 rows x 4 columns]"
      ]
     },
     "execution_count": 67,
     "metadata": {},
     "output_type": "execute_result"
    }
   ],
   "source": [
    "y8_pred = classifier.predict(X8_test)\n",
    "\n",
    "# Predict probabilities\n",
    "probs_y8=classifier.predict_proba(X8_test)\n",
    "\n",
    "data8 = {'Correct label':y8_test, 'Predicted label':y8_pred, 'Probability Not Safe':probs_y8[:,0],\n",
    "       'Probability Safe':probs_y8[:,1]}\n",
    "# Create DataFrame\n",
    "df8 = pd.DataFrame(data8)\n",
    " \n",
    "# Print the output.\n",
    "df8"
   ]
  },
  {
   "cell_type": "code",
   "execution_count": 68,
   "id": "94c3df13-12bc-4504-a2ed-a21096e387f2",
   "metadata": {
    "tags": []
   },
   "outputs": [
    {
     "name": "stdout",
     "output_type": "stream",
     "text": [
      "[[270  28]\n",
      " [ 51  27]]\n"
     ]
    }
   ],
   "source": [
    "cm = confusion_matrix(y8_test, y8_pred)\n",
    "print(cm)"
   ]
  },
  {
   "cell_type": "code",
   "execution_count": 69,
   "id": "5ef370fc-bae1-4068-8f85-1c0446e9566a",
   "metadata": {
    "tags": []
   },
   "outputs": [
    {
     "name": "stdout",
     "output_type": "stream",
     "text": [
      "[0.7978723404255319, 0.7898936170212766, 0.7752659574468085, 0.7779255319148937, 0.7845744680851063]\n"
     ]
    }
   ],
   "source": [
    "sss.get_n_splits(X8, y8);\n",
    "\n",
    "scores8 = []\n",
    "\n",
    "for train_index, test_index in sss.split(X8, y8):\n",
    "    X_train, X_test = X8[train_index], X8[test_index]\n",
    "    y_train, y_test = y8[train_index], y8[test_index]\n",
    "    model.fit(X_train, y_train)\n",
    "    pred = model.predict(X_test)\n",
    "    scores8.append(accuracy_score(y_test, pred))\n",
    " \n",
    "# get accuracy of each prediction\n",
    "print(scores8)"
   ]
  },
  {
   "cell_type": "markdown",
   "id": "b1863263-b9d1-426e-8f85-5a94e76a7301",
   "metadata": {},
   "source": [
    "#### Dropping free-stream velocity and suction side displacement"
   ]
  },
  {
   "cell_type": "code",
   "execution_count": 70,
   "id": "40ca4455-ae25-41f4-8ef3-81b602d6ce4e",
   "metadata": {
    "tags": []
   },
   "outputs": [
    {
     "data": {
      "text/html": [
       "<style>#sk-container-id-10 {color: black;background-color: white;}#sk-container-id-10 pre{padding: 0;}#sk-container-id-10 div.sk-toggleable {background-color: white;}#sk-container-id-10 label.sk-toggleable__label {cursor: pointer;display: block;width: 100%;margin-bottom: 0;padding: 0.3em;box-sizing: border-box;text-align: center;}#sk-container-id-10 label.sk-toggleable__label-arrow:before {content: \"▸\";float: left;margin-right: 0.25em;color: #696969;}#sk-container-id-10 label.sk-toggleable__label-arrow:hover:before {color: black;}#sk-container-id-10 div.sk-estimator:hover label.sk-toggleable__label-arrow:before {color: black;}#sk-container-id-10 div.sk-toggleable__content {max-height: 0;max-width: 0;overflow: hidden;text-align: left;background-color: #f0f8ff;}#sk-container-id-10 div.sk-toggleable__content pre {margin: 0.2em;color: black;border-radius: 0.25em;background-color: #f0f8ff;}#sk-container-id-10 input.sk-toggleable__control:checked~div.sk-toggleable__content {max-height: 200px;max-width: 100%;overflow: auto;}#sk-container-id-10 input.sk-toggleable__control:checked~label.sk-toggleable__label-arrow:before {content: \"▾\";}#sk-container-id-10 div.sk-estimator input.sk-toggleable__control:checked~label.sk-toggleable__label {background-color: #d4ebff;}#sk-container-id-10 div.sk-label input.sk-toggleable__control:checked~label.sk-toggleable__label {background-color: #d4ebff;}#sk-container-id-10 input.sk-hidden--visually {border: 0;clip: rect(1px 1px 1px 1px);clip: rect(1px, 1px, 1px, 1px);height: 1px;margin: -1px;overflow: hidden;padding: 0;position: absolute;width: 1px;}#sk-container-id-10 div.sk-estimator {font-family: monospace;background-color: #f0f8ff;border: 1px dotted black;border-radius: 0.25em;box-sizing: border-box;margin-bottom: 0.5em;}#sk-container-id-10 div.sk-estimator:hover {background-color: #d4ebff;}#sk-container-id-10 div.sk-parallel-item::after {content: \"\";width: 100%;border-bottom: 1px solid gray;flex-grow: 1;}#sk-container-id-10 div.sk-label:hover label.sk-toggleable__label {background-color: #d4ebff;}#sk-container-id-10 div.sk-serial::before {content: \"\";position: absolute;border-left: 1px solid gray;box-sizing: border-box;top: 0;bottom: 0;left: 50%;z-index: 0;}#sk-container-id-10 div.sk-serial {display: flex;flex-direction: column;align-items: center;background-color: white;padding-right: 0.2em;padding-left: 0.2em;position: relative;}#sk-container-id-10 div.sk-item {position: relative;z-index: 1;}#sk-container-id-10 div.sk-parallel {display: flex;align-items: stretch;justify-content: center;background-color: white;position: relative;}#sk-container-id-10 div.sk-item::before, #sk-container-id-10 div.sk-parallel-item::before {content: \"\";position: absolute;border-left: 1px solid gray;box-sizing: border-box;top: 0;bottom: 0;left: 50%;z-index: -1;}#sk-container-id-10 div.sk-parallel-item {display: flex;flex-direction: column;z-index: 1;position: relative;background-color: white;}#sk-container-id-10 div.sk-parallel-item:first-child::after {align-self: flex-end;width: 50%;}#sk-container-id-10 div.sk-parallel-item:last-child::after {align-self: flex-start;width: 50%;}#sk-container-id-10 div.sk-parallel-item:only-child::after {width: 0;}#sk-container-id-10 div.sk-dashed-wrapped {border: 1px dashed gray;margin: 0 0.4em 0.5em 0.4em;box-sizing: border-box;padding-bottom: 0.4em;background-color: white;}#sk-container-id-10 div.sk-label label {font-family: monospace;font-weight: bold;display: inline-block;line-height: 1.2em;}#sk-container-id-10 div.sk-label-container {text-align: center;}#sk-container-id-10 div.sk-container {/* jupyter's `normalize.less` sets `[hidden] { display: none; }` but bootstrap.min.css set `[hidden] { display: none !important; }` so we also need the `!important` here to be able to override the default hidden behavior on the sphinx rendered scikit-learn.org. See: https://github.com/scikit-learn/scikit-learn/issues/21755 */display: inline-block !important;position: relative;}#sk-container-id-10 div.sk-text-repr-fallback {display: none;}</style><div id=\"sk-container-id-10\" class=\"sk-top-container\"><div class=\"sk-text-repr-fallback\"><pre>LogisticRegression(max_iter=500, random_state=0)</pre><b>In a Jupyter environment, please rerun this cell to show the HTML representation or trust the notebook. <br />On GitHub, the HTML representation is unable to render, please try loading this page with nbviewer.org.</b></div><div class=\"sk-container\" hidden><div class=\"sk-item\"><div class=\"sk-estimator sk-toggleable\"><input class=\"sk-toggleable__control sk-hidden--visually\" id=\"sk-estimator-id-10\" type=\"checkbox\" checked><label for=\"sk-estimator-id-10\" class=\"sk-toggleable__label sk-toggleable__label-arrow\">LogisticRegression</label><div class=\"sk-toggleable__content\"><pre>LogisticRegression(max_iter=500, random_state=0)</pre></div></div></div></div></div>"
      ],
      "text/plain": [
       "LogisticRegression(max_iter=500, random_state=0)"
      ]
     },
     "execution_count": 70,
     "metadata": {},
     "output_type": "execute_result"
    }
   ],
   "source": [
    "X9 = af_data.iloc[:, [0, 1, 2]].values\n",
    "y9 = af_data.iloc[:, 6].values\n",
    "X9_train, X9_test, y9_train, y9_test = train_test_split(X9, y9, test_size = 0.25, random_state = 3)\n",
    "\n",
    "classifier.fit(X9_train,y9_train)"
   ]
  },
  {
   "cell_type": "code",
   "execution_count": 71,
   "id": "38851a5a-bab4-400f-ba3c-b56210d08a14",
   "metadata": {
    "tags": []
   },
   "outputs": [
    {
     "data": {
      "text/html": [
       "<div>\n",
       "<style scoped>\n",
       "    .dataframe tbody tr th:only-of-type {\n",
       "        vertical-align: middle;\n",
       "    }\n",
       "\n",
       "    .dataframe tbody tr th {\n",
       "        vertical-align: top;\n",
       "    }\n",
       "\n",
       "    .dataframe thead th {\n",
       "        text-align: right;\n",
       "    }\n",
       "</style>\n",
       "<table border=\"1\" class=\"dataframe\">\n",
       "  <thead>\n",
       "    <tr style=\"text-align: right;\">\n",
       "      <th></th>\n",
       "      <th>Correct label</th>\n",
       "      <th>Predicted label</th>\n",
       "      <th>Probability Not Safe</th>\n",
       "      <th>Probability Safe</th>\n",
       "    </tr>\n",
       "  </thead>\n",
       "  <tbody>\n",
       "    <tr>\n",
       "      <th>0</th>\n",
       "      <td>Not Safe</td>\n",
       "      <td>Not Safe</td>\n",
       "      <td>0.745687</td>\n",
       "      <td>0.254313</td>\n",
       "    </tr>\n",
       "    <tr>\n",
       "      <th>1</th>\n",
       "      <td>Not Safe</td>\n",
       "      <td>Not Safe</td>\n",
       "      <td>0.731828</td>\n",
       "      <td>0.268172</td>\n",
       "    </tr>\n",
       "    <tr>\n",
       "      <th>2</th>\n",
       "      <td>Not Safe</td>\n",
       "      <td>Not Safe</td>\n",
       "      <td>0.767193</td>\n",
       "      <td>0.232807</td>\n",
       "    </tr>\n",
       "    <tr>\n",
       "      <th>3</th>\n",
       "      <td>Not Safe</td>\n",
       "      <td>Safe</td>\n",
       "      <td>0.420744</td>\n",
       "      <td>0.579256</td>\n",
       "    </tr>\n",
       "    <tr>\n",
       "      <th>4</th>\n",
       "      <td>Safe</td>\n",
       "      <td>Not Safe</td>\n",
       "      <td>0.567718</td>\n",
       "      <td>0.432282</td>\n",
       "    </tr>\n",
       "    <tr>\n",
       "      <th>...</th>\n",
       "      <td>...</td>\n",
       "      <td>...</td>\n",
       "      <td>...</td>\n",
       "      <td>...</td>\n",
       "    </tr>\n",
       "    <tr>\n",
       "      <th>371</th>\n",
       "      <td>Not Safe</td>\n",
       "      <td>Not Safe</td>\n",
       "      <td>0.805414</td>\n",
       "      <td>0.194586</td>\n",
       "    </tr>\n",
       "    <tr>\n",
       "      <th>372</th>\n",
       "      <td>Not Safe</td>\n",
       "      <td>Not Safe</td>\n",
       "      <td>0.854524</td>\n",
       "      <td>0.145476</td>\n",
       "    </tr>\n",
       "    <tr>\n",
       "      <th>373</th>\n",
       "      <td>Not Safe</td>\n",
       "      <td>Not Safe</td>\n",
       "      <td>0.593274</td>\n",
       "      <td>0.406726</td>\n",
       "    </tr>\n",
       "    <tr>\n",
       "      <th>374</th>\n",
       "      <td>Not Safe</td>\n",
       "      <td>Not Safe</td>\n",
       "      <td>0.573481</td>\n",
       "      <td>0.426519</td>\n",
       "    </tr>\n",
       "    <tr>\n",
       "      <th>375</th>\n",
       "      <td>Not Safe</td>\n",
       "      <td>Not Safe</td>\n",
       "      <td>0.846791</td>\n",
       "      <td>0.153209</td>\n",
       "    </tr>\n",
       "  </tbody>\n",
       "</table>\n",
       "<p>376 rows × 4 columns</p>\n",
       "</div>"
      ],
      "text/plain": [
       "    Correct label Predicted label  Probability Not Safe  Probability Safe\n",
       "0        Not Safe        Not Safe              0.745687          0.254313\n",
       "1        Not Safe        Not Safe              0.731828          0.268172\n",
       "2        Not Safe        Not Safe              0.767193          0.232807\n",
       "3        Not Safe            Safe              0.420744          0.579256\n",
       "4            Safe        Not Safe              0.567718          0.432282\n",
       "..            ...             ...                   ...               ...\n",
       "371      Not Safe        Not Safe              0.805414          0.194586\n",
       "372      Not Safe        Not Safe              0.854524          0.145476\n",
       "373      Not Safe        Not Safe              0.593274          0.406726\n",
       "374      Not Safe        Not Safe              0.573481          0.426519\n",
       "375      Not Safe        Not Safe              0.846791          0.153209\n",
       "\n",
       "[376 rows x 4 columns]"
      ]
     },
     "execution_count": 71,
     "metadata": {},
     "output_type": "execute_result"
    }
   ],
   "source": [
    "y9_pred = classifier.predict(X9_test)\n",
    "\n",
    "# Predict probabilities\n",
    "probs_y9=classifier.predict_proba(X9_test)\n",
    "\n",
    "data9 = {'Correct label':y9_test, 'Predicted label':y9_pred, 'Probability Not Safe':probs_y9[:,0],\n",
    "       'Probability Safe':probs_y9[:,1]}\n",
    "# Create DataFrame\n",
    "df9 = pd.DataFrame(data9)\n",
    " \n",
    "# Print the output.\n",
    "df9"
   ]
  },
  {
   "cell_type": "code",
   "execution_count": 72,
   "id": "0523ef80-b1f1-4f07-ad54-90013f44da66",
   "metadata": {
    "tags": []
   },
   "outputs": [
    {
     "name": "stdout",
     "output_type": "stream",
     "text": [
      "[[278  20]\n",
      " [ 52  26]]\n"
     ]
    }
   ],
   "source": [
    "cm = confusion_matrix(y9_test, y9_pred)\n",
    "print(cm)"
   ]
  },
  {
   "cell_type": "code",
   "execution_count": 73,
   "id": "ee44cc83-692a-402b-82b4-d7da474d3c2a",
   "metadata": {
    "tags": []
   },
   "outputs": [
    {
     "name": "stdout",
     "output_type": "stream",
     "text": [
      "[0.7792553191489362, 0.8271276595744681, 0.7965425531914894, 0.7925531914893617, 0.7699468085106383]\n"
     ]
    }
   ],
   "source": [
    "sss.get_n_splits(X9, y9);\n",
    "\n",
    "scores9 = []\n",
    "\n",
    "for train_index, test_index in sss.split(X9, y9):\n",
    "    X_train, X_test = X9[train_index], X9[test_index]\n",
    "    y_train, y_test = y9[train_index], y9[test_index]\n",
    "    model.fit(X_train, y_train)\n",
    "    pred = model.predict(X_test)\n",
    "    scores9.append(accuracy_score(y_test, pred))\n",
    " \n",
    "# get accuracy of each prediction\n",
    "print(scores9)"
   ]
  },
  {
   "cell_type": "markdown",
   "id": "1acbed00-23a7-4adf-9525-506e4f7003f7",
   "metadata": {},
   "source": [
    "These accuracy scores look pretty satisfying so far. Out of all the three variable models, this one looks the best."
   ]
  },
  {
   "cell_type": "code",
   "execution_count": 74,
   "id": "a29288c9-2655-4d2a-8b4d-df309980290f",
   "metadata": {
    "tags": []
   },
   "outputs": [
    {
     "data": {
      "text/plain": [
       "array([ 0.01861702, -0.02792553, -0.01994681,  0.03723404,  0.04654255])"
      ]
     },
     "execution_count": 74,
     "metadata": {},
     "output_type": "execute_result"
    }
   ],
   "source": [
    "c = np.array(scores9)\n",
    "a - c"
   ]
  },
  {
   "cell_type": "markdown",
   "id": "c91438f5-3d9a-448b-84e6-4c6146ff6526",
   "metadata": {},
   "source": [
    "It appears that the model only missing suction side displacement is still better. However, I'll keep this model in mind later.\n",
    "Since this one did the best of all three variable models, when I check two variable models, I'll make sure free-stream velocity and suction side displacement is always removed.\n",
    "\n",
    "#### Dropping frequency, free-stream velocity, and suction side displacement."
   ]
  },
  {
   "cell_type": "code",
   "execution_count": 75,
   "id": "5f76c7f9-b3ce-480f-b176-8cde0d8956ff",
   "metadata": {
    "tags": []
   },
   "outputs": [
    {
     "data": {
      "text/html": [
       "<style>#sk-container-id-11 {color: black;background-color: white;}#sk-container-id-11 pre{padding: 0;}#sk-container-id-11 div.sk-toggleable {background-color: white;}#sk-container-id-11 label.sk-toggleable__label {cursor: pointer;display: block;width: 100%;margin-bottom: 0;padding: 0.3em;box-sizing: border-box;text-align: center;}#sk-container-id-11 label.sk-toggleable__label-arrow:before {content: \"▸\";float: left;margin-right: 0.25em;color: #696969;}#sk-container-id-11 label.sk-toggleable__label-arrow:hover:before {color: black;}#sk-container-id-11 div.sk-estimator:hover label.sk-toggleable__label-arrow:before {color: black;}#sk-container-id-11 div.sk-toggleable__content {max-height: 0;max-width: 0;overflow: hidden;text-align: left;background-color: #f0f8ff;}#sk-container-id-11 div.sk-toggleable__content pre {margin: 0.2em;color: black;border-radius: 0.25em;background-color: #f0f8ff;}#sk-container-id-11 input.sk-toggleable__control:checked~div.sk-toggleable__content {max-height: 200px;max-width: 100%;overflow: auto;}#sk-container-id-11 input.sk-toggleable__control:checked~label.sk-toggleable__label-arrow:before {content: \"▾\";}#sk-container-id-11 div.sk-estimator input.sk-toggleable__control:checked~label.sk-toggleable__label {background-color: #d4ebff;}#sk-container-id-11 div.sk-label input.sk-toggleable__control:checked~label.sk-toggleable__label {background-color: #d4ebff;}#sk-container-id-11 input.sk-hidden--visually {border: 0;clip: rect(1px 1px 1px 1px);clip: rect(1px, 1px, 1px, 1px);height: 1px;margin: -1px;overflow: hidden;padding: 0;position: absolute;width: 1px;}#sk-container-id-11 div.sk-estimator {font-family: monospace;background-color: #f0f8ff;border: 1px dotted black;border-radius: 0.25em;box-sizing: border-box;margin-bottom: 0.5em;}#sk-container-id-11 div.sk-estimator:hover {background-color: #d4ebff;}#sk-container-id-11 div.sk-parallel-item::after {content: \"\";width: 100%;border-bottom: 1px solid gray;flex-grow: 1;}#sk-container-id-11 div.sk-label:hover label.sk-toggleable__label {background-color: #d4ebff;}#sk-container-id-11 div.sk-serial::before {content: \"\";position: absolute;border-left: 1px solid gray;box-sizing: border-box;top: 0;bottom: 0;left: 50%;z-index: 0;}#sk-container-id-11 div.sk-serial {display: flex;flex-direction: column;align-items: center;background-color: white;padding-right: 0.2em;padding-left: 0.2em;position: relative;}#sk-container-id-11 div.sk-item {position: relative;z-index: 1;}#sk-container-id-11 div.sk-parallel {display: flex;align-items: stretch;justify-content: center;background-color: white;position: relative;}#sk-container-id-11 div.sk-item::before, #sk-container-id-11 div.sk-parallel-item::before {content: \"\";position: absolute;border-left: 1px solid gray;box-sizing: border-box;top: 0;bottom: 0;left: 50%;z-index: -1;}#sk-container-id-11 div.sk-parallel-item {display: flex;flex-direction: column;z-index: 1;position: relative;background-color: white;}#sk-container-id-11 div.sk-parallel-item:first-child::after {align-self: flex-end;width: 50%;}#sk-container-id-11 div.sk-parallel-item:last-child::after {align-self: flex-start;width: 50%;}#sk-container-id-11 div.sk-parallel-item:only-child::after {width: 0;}#sk-container-id-11 div.sk-dashed-wrapped {border: 1px dashed gray;margin: 0 0.4em 0.5em 0.4em;box-sizing: border-box;padding-bottom: 0.4em;background-color: white;}#sk-container-id-11 div.sk-label label {font-family: monospace;font-weight: bold;display: inline-block;line-height: 1.2em;}#sk-container-id-11 div.sk-label-container {text-align: center;}#sk-container-id-11 div.sk-container {/* jupyter's `normalize.less` sets `[hidden] { display: none; }` but bootstrap.min.css set `[hidden] { display: none !important; }` so we also need the `!important` here to be able to override the default hidden behavior on the sphinx rendered scikit-learn.org. See: https://github.com/scikit-learn/scikit-learn/issues/21755 */display: inline-block !important;position: relative;}#sk-container-id-11 div.sk-text-repr-fallback {display: none;}</style><div id=\"sk-container-id-11\" class=\"sk-top-container\"><div class=\"sk-text-repr-fallback\"><pre>LogisticRegression(max_iter=500, random_state=0)</pre><b>In a Jupyter environment, please rerun this cell to show the HTML representation or trust the notebook. <br />On GitHub, the HTML representation is unable to render, please try loading this page with nbviewer.org.</b></div><div class=\"sk-container\" hidden><div class=\"sk-item\"><div class=\"sk-estimator sk-toggleable\"><input class=\"sk-toggleable__control sk-hidden--visually\" id=\"sk-estimator-id-11\" type=\"checkbox\" checked><label for=\"sk-estimator-id-11\" class=\"sk-toggleable__label sk-toggleable__label-arrow\">LogisticRegression</label><div class=\"sk-toggleable__content\"><pre>LogisticRegression(max_iter=500, random_state=0)</pre></div></div></div></div></div>"
      ],
      "text/plain": [
       "LogisticRegression(max_iter=500, random_state=0)"
      ]
     },
     "execution_count": 75,
     "metadata": {},
     "output_type": "execute_result"
    }
   ],
   "source": [
    "X10 = af_data.iloc[:, [1, 2]].values\n",
    "y10 = af_data.iloc[:, 6].values\n",
    "X10_train, X10_test, y10_train, y10_test = train_test_split(X10, y10, test_size = 0.25, random_state = 3)\n",
    "\n",
    "classifier.fit(X10_train,y10_train)"
   ]
  },
  {
   "cell_type": "code",
   "execution_count": 76,
   "id": "7da6924d-e848-4e63-b679-e3b0a78b4ffc",
   "metadata": {
    "tags": []
   },
   "outputs": [
    {
     "data": {
      "text/html": [
       "<div>\n",
       "<style scoped>\n",
       "    .dataframe tbody tr th:only-of-type {\n",
       "        vertical-align: middle;\n",
       "    }\n",
       "\n",
       "    .dataframe tbody tr th {\n",
       "        vertical-align: top;\n",
       "    }\n",
       "\n",
       "    .dataframe thead th {\n",
       "        text-align: right;\n",
       "    }\n",
       "</style>\n",
       "<table border=\"1\" class=\"dataframe\">\n",
       "  <thead>\n",
       "    <tr style=\"text-align: right;\">\n",
       "      <th></th>\n",
       "      <th>Correct label</th>\n",
       "      <th>Predicted label</th>\n",
       "      <th>Probability Not Safe</th>\n",
       "      <th>Probability Safe</th>\n",
       "    </tr>\n",
       "  </thead>\n",
       "  <tbody>\n",
       "    <tr>\n",
       "      <th>0</th>\n",
       "      <td>Not Safe</td>\n",
       "      <td>Not Safe</td>\n",
       "      <td>0.756588</td>\n",
       "      <td>0.243412</td>\n",
       "    </tr>\n",
       "    <tr>\n",
       "      <th>1</th>\n",
       "      <td>Not Safe</td>\n",
       "      <td>Not Safe</td>\n",
       "      <td>0.804303</td>\n",
       "      <td>0.195697</td>\n",
       "    </tr>\n",
       "    <tr>\n",
       "      <th>2</th>\n",
       "      <td>Not Safe</td>\n",
       "      <td>Not Safe</td>\n",
       "      <td>0.671514</td>\n",
       "      <td>0.328486</td>\n",
       "    </tr>\n",
       "    <tr>\n",
       "      <th>3</th>\n",
       "      <td>Not Safe</td>\n",
       "      <td>Not Safe</td>\n",
       "      <td>0.868975</td>\n",
       "      <td>0.131025</td>\n",
       "    </tr>\n",
       "    <tr>\n",
       "      <th>4</th>\n",
       "      <td>Safe</td>\n",
       "      <td>Not Safe</td>\n",
       "      <td>0.774741</td>\n",
       "      <td>0.225259</td>\n",
       "    </tr>\n",
       "    <tr>\n",
       "      <th>...</th>\n",
       "      <td>...</td>\n",
       "      <td>...</td>\n",
       "      <td>...</td>\n",
       "      <td>...</td>\n",
       "    </tr>\n",
       "    <tr>\n",
       "      <th>371</th>\n",
       "      <td>Not Safe</td>\n",
       "      <td>Not Safe</td>\n",
       "      <td>0.804303</td>\n",
       "      <td>0.195697</td>\n",
       "    </tr>\n",
       "    <tr>\n",
       "      <th>372</th>\n",
       "      <td>Not Safe</td>\n",
       "      <td>Not Safe</td>\n",
       "      <td>0.854957</td>\n",
       "      <td>0.145043</td>\n",
       "    </tr>\n",
       "    <tr>\n",
       "      <th>373</th>\n",
       "      <td>Not Safe</td>\n",
       "      <td>Not Safe</td>\n",
       "      <td>0.671514</td>\n",
       "      <td>0.328486</td>\n",
       "    </tr>\n",
       "    <tr>\n",
       "      <th>374</th>\n",
       "      <td>Not Safe</td>\n",
       "      <td>Not Safe</td>\n",
       "      <td>0.868975</td>\n",
       "      <td>0.131025</td>\n",
       "    </tr>\n",
       "    <tr>\n",
       "      <th>375</th>\n",
       "      <td>Not Safe</td>\n",
       "      <td>Not Safe</td>\n",
       "      <td>0.805812</td>\n",
       "      <td>0.194188</td>\n",
       "    </tr>\n",
       "  </tbody>\n",
       "</table>\n",
       "<p>376 rows × 4 columns</p>\n",
       "</div>"
      ],
      "text/plain": [
       "    Correct label Predicted label  Probability Not Safe  Probability Safe\n",
       "0        Not Safe        Not Safe              0.756588          0.243412\n",
       "1        Not Safe        Not Safe              0.804303          0.195697\n",
       "2        Not Safe        Not Safe              0.671514          0.328486\n",
       "3        Not Safe        Not Safe              0.868975          0.131025\n",
       "4            Safe        Not Safe              0.774741          0.225259\n",
       "..            ...             ...                   ...               ...\n",
       "371      Not Safe        Not Safe              0.804303          0.195697\n",
       "372      Not Safe        Not Safe              0.854957          0.145043\n",
       "373      Not Safe        Not Safe              0.671514          0.328486\n",
       "374      Not Safe        Not Safe              0.868975          0.131025\n",
       "375      Not Safe        Not Safe              0.805812          0.194188\n",
       "\n",
       "[376 rows x 4 columns]"
      ]
     },
     "execution_count": 76,
     "metadata": {},
     "output_type": "execute_result"
    }
   ],
   "source": [
    "y10_pred = classifier.predict(X10_test)\n",
    "\n",
    "# Predict probabilities\n",
    "probs_y10=classifier.predict_proba(X10_test)\n",
    "\n",
    "data10 = {'Correct label':y10_test, 'Predicted label':y10_pred, 'Probability Not Safe':probs_y10[:,0],\n",
    "       'Probability Safe':probs_y10[:,1]}\n",
    "# Create DataFrame\n",
    "df10 = pd.DataFrame(data10)\n",
    " \n",
    "# Print the output.\n",
    "df10"
   ]
  },
  {
   "cell_type": "code",
   "execution_count": 77,
   "id": "b9d9b1c6-2727-43fc-9819-7e8f81f87422",
   "metadata": {
    "tags": []
   },
   "outputs": [
    {
     "name": "stdout",
     "output_type": "stream",
     "text": [
      "[[298   0]\n",
      " [ 78   0]]\n"
     ]
    }
   ],
   "source": [
    "cm = confusion_matrix(y10_test, y10_pred)\n",
    "print(cm)"
   ]
  },
  {
   "cell_type": "code",
   "execution_count": 78,
   "id": "0f24cc20-cd5c-45f5-af6d-8914fa8dbbfe",
   "metadata": {
    "tags": []
   },
   "outputs": [
    {
     "name": "stdout",
     "output_type": "stream",
     "text": [
      "[0.7606382978723404, 0.7606382978723404, 0.7606382978723404, 0.7606382978723404, 0.7606382978723404]\n"
     ]
    }
   ],
   "source": [
    "sss.get_n_splits(X10, y10);\n",
    "\n",
    "scores10 = []\n",
    "\n",
    "for train_index, test_index in sss.split(X10, y10):\n",
    "    X_train, X_test = X10[train_index], X10[test_index]\n",
    "    y_train, y_test = y10[train_index], y10[test_index]\n",
    "    model.fit(X_train, y_train)\n",
    "    pred = model.predict(X_test)\n",
    "    scores10.append(accuracy_score(y_test, pred))\n",
    " \n",
    "# get accuracy of each prediction\n",
    "print(scores10)"
   ]
  },
  {
   "cell_type": "markdown",
   "id": "16b4f259-5211-4d8b-ad56-b5f1c68cd7a8",
   "metadata": {},
   "source": [
    "Note that this selection also just assumed everything was Not Safe. That's not a good thing."
   ]
  },
  {
   "cell_type": "markdown",
   "id": "aed5ceb5-9bd9-4b9f-b76a-fdd49b1fdeb6",
   "metadata": {},
   "source": [
    "#### Dropping angle of attack, free-stream velocity, and suction side displacement"
   ]
  },
  {
   "cell_type": "code",
   "execution_count": 79,
   "id": "ee6f97f7-2419-4335-9a20-373b50a6efa7",
   "metadata": {
    "tags": []
   },
   "outputs": [
    {
     "data": {
      "text/html": [
       "<style>#sk-container-id-12 {color: black;background-color: white;}#sk-container-id-12 pre{padding: 0;}#sk-container-id-12 div.sk-toggleable {background-color: white;}#sk-container-id-12 label.sk-toggleable__label {cursor: pointer;display: block;width: 100%;margin-bottom: 0;padding: 0.3em;box-sizing: border-box;text-align: center;}#sk-container-id-12 label.sk-toggleable__label-arrow:before {content: \"▸\";float: left;margin-right: 0.25em;color: #696969;}#sk-container-id-12 label.sk-toggleable__label-arrow:hover:before {color: black;}#sk-container-id-12 div.sk-estimator:hover label.sk-toggleable__label-arrow:before {color: black;}#sk-container-id-12 div.sk-toggleable__content {max-height: 0;max-width: 0;overflow: hidden;text-align: left;background-color: #f0f8ff;}#sk-container-id-12 div.sk-toggleable__content pre {margin: 0.2em;color: black;border-radius: 0.25em;background-color: #f0f8ff;}#sk-container-id-12 input.sk-toggleable__control:checked~div.sk-toggleable__content {max-height: 200px;max-width: 100%;overflow: auto;}#sk-container-id-12 input.sk-toggleable__control:checked~label.sk-toggleable__label-arrow:before {content: \"▾\";}#sk-container-id-12 div.sk-estimator input.sk-toggleable__control:checked~label.sk-toggleable__label {background-color: #d4ebff;}#sk-container-id-12 div.sk-label input.sk-toggleable__control:checked~label.sk-toggleable__label {background-color: #d4ebff;}#sk-container-id-12 input.sk-hidden--visually {border: 0;clip: rect(1px 1px 1px 1px);clip: rect(1px, 1px, 1px, 1px);height: 1px;margin: -1px;overflow: hidden;padding: 0;position: absolute;width: 1px;}#sk-container-id-12 div.sk-estimator {font-family: monospace;background-color: #f0f8ff;border: 1px dotted black;border-radius: 0.25em;box-sizing: border-box;margin-bottom: 0.5em;}#sk-container-id-12 div.sk-estimator:hover {background-color: #d4ebff;}#sk-container-id-12 div.sk-parallel-item::after {content: \"\";width: 100%;border-bottom: 1px solid gray;flex-grow: 1;}#sk-container-id-12 div.sk-label:hover label.sk-toggleable__label {background-color: #d4ebff;}#sk-container-id-12 div.sk-serial::before {content: \"\";position: absolute;border-left: 1px solid gray;box-sizing: border-box;top: 0;bottom: 0;left: 50%;z-index: 0;}#sk-container-id-12 div.sk-serial {display: flex;flex-direction: column;align-items: center;background-color: white;padding-right: 0.2em;padding-left: 0.2em;position: relative;}#sk-container-id-12 div.sk-item {position: relative;z-index: 1;}#sk-container-id-12 div.sk-parallel {display: flex;align-items: stretch;justify-content: center;background-color: white;position: relative;}#sk-container-id-12 div.sk-item::before, #sk-container-id-12 div.sk-parallel-item::before {content: \"\";position: absolute;border-left: 1px solid gray;box-sizing: border-box;top: 0;bottom: 0;left: 50%;z-index: -1;}#sk-container-id-12 div.sk-parallel-item {display: flex;flex-direction: column;z-index: 1;position: relative;background-color: white;}#sk-container-id-12 div.sk-parallel-item:first-child::after {align-self: flex-end;width: 50%;}#sk-container-id-12 div.sk-parallel-item:last-child::after {align-self: flex-start;width: 50%;}#sk-container-id-12 div.sk-parallel-item:only-child::after {width: 0;}#sk-container-id-12 div.sk-dashed-wrapped {border: 1px dashed gray;margin: 0 0.4em 0.5em 0.4em;box-sizing: border-box;padding-bottom: 0.4em;background-color: white;}#sk-container-id-12 div.sk-label label {font-family: monospace;font-weight: bold;display: inline-block;line-height: 1.2em;}#sk-container-id-12 div.sk-label-container {text-align: center;}#sk-container-id-12 div.sk-container {/* jupyter's `normalize.less` sets `[hidden] { display: none; }` but bootstrap.min.css set `[hidden] { display: none !important; }` so we also need the `!important` here to be able to override the default hidden behavior on the sphinx rendered scikit-learn.org. See: https://github.com/scikit-learn/scikit-learn/issues/21755 */display: inline-block !important;position: relative;}#sk-container-id-12 div.sk-text-repr-fallback {display: none;}</style><div id=\"sk-container-id-12\" class=\"sk-top-container\"><div class=\"sk-text-repr-fallback\"><pre>LogisticRegression(max_iter=500, random_state=0)</pre><b>In a Jupyter environment, please rerun this cell to show the HTML representation or trust the notebook. <br />On GitHub, the HTML representation is unable to render, please try loading this page with nbviewer.org.</b></div><div class=\"sk-container\" hidden><div class=\"sk-item\"><div class=\"sk-estimator sk-toggleable\"><input class=\"sk-toggleable__control sk-hidden--visually\" id=\"sk-estimator-id-12\" type=\"checkbox\" checked><label for=\"sk-estimator-id-12\" class=\"sk-toggleable__label sk-toggleable__label-arrow\">LogisticRegression</label><div class=\"sk-toggleable__content\"><pre>LogisticRegression(max_iter=500, random_state=0)</pre></div></div></div></div></div>"
      ],
      "text/plain": [
       "LogisticRegression(max_iter=500, random_state=0)"
      ]
     },
     "execution_count": 79,
     "metadata": {},
     "output_type": "execute_result"
    }
   ],
   "source": [
    "X11 = af_data.iloc[:, [0, 2]].values\n",
    "y11 = af_data.iloc[:, 6].values\n",
    "X11_train, X11_test, y11_train, y11_test = train_test_split(X11, y11, test_size = 0.25, random_state = 3)\n",
    "\n",
    "classifier.fit(X11_train,y11_train)"
   ]
  },
  {
   "cell_type": "code",
   "execution_count": 80,
   "id": "9683e758-6df7-4dc6-aab0-be9bb9974f4b",
   "metadata": {
    "tags": []
   },
   "outputs": [
    {
     "data": {
      "text/html": [
       "<div>\n",
       "<style scoped>\n",
       "    .dataframe tbody tr th:only-of-type {\n",
       "        vertical-align: middle;\n",
       "    }\n",
       "\n",
       "    .dataframe tbody tr th {\n",
       "        vertical-align: top;\n",
       "    }\n",
       "\n",
       "    .dataframe thead th {\n",
       "        text-align: right;\n",
       "    }\n",
       "</style>\n",
       "<table border=\"1\" class=\"dataframe\">\n",
       "  <thead>\n",
       "    <tr style=\"text-align: right;\">\n",
       "      <th></th>\n",
       "      <th>Correct label</th>\n",
       "      <th>Predicted label</th>\n",
       "      <th>Probability Not Safe</th>\n",
       "      <th>Probability Safe</th>\n",
       "    </tr>\n",
       "  </thead>\n",
       "  <tbody>\n",
       "    <tr>\n",
       "      <th>0</th>\n",
       "      <td>Not Safe</td>\n",
       "      <td>Not Safe</td>\n",
       "      <td>0.805958</td>\n",
       "      <td>0.194042</td>\n",
       "    </tr>\n",
       "    <tr>\n",
       "      <th>1</th>\n",
       "      <td>Not Safe</td>\n",
       "      <td>Not Safe</td>\n",
       "      <td>0.752267</td>\n",
       "      <td>0.247733</td>\n",
       "    </tr>\n",
       "    <tr>\n",
       "      <th>2</th>\n",
       "      <td>Not Safe</td>\n",
       "      <td>Not Safe</td>\n",
       "      <td>0.869959</td>\n",
       "      <td>0.130041</td>\n",
       "    </tr>\n",
       "    <tr>\n",
       "      <th>3</th>\n",
       "      <td>Not Safe</td>\n",
       "      <td>Safe</td>\n",
       "      <td>0.446306</td>\n",
       "      <td>0.553694</td>\n",
       "    </tr>\n",
       "    <tr>\n",
       "      <th>4</th>\n",
       "      <td>Safe</td>\n",
       "      <td>Not Safe</td>\n",
       "      <td>0.568157</td>\n",
       "      <td>0.431843</td>\n",
       "    </tr>\n",
       "    <tr>\n",
       "      <th>...</th>\n",
       "      <td>...</td>\n",
       "      <td>...</td>\n",
       "      <td>...</td>\n",
       "      <td>...</td>\n",
       "    </tr>\n",
       "    <tr>\n",
       "      <th>371</th>\n",
       "      <td>Not Safe</td>\n",
       "      <td>Not Safe</td>\n",
       "      <td>0.805958</td>\n",
       "      <td>0.194042</td>\n",
       "    </tr>\n",
       "    <tr>\n",
       "      <th>372</th>\n",
       "      <td>Not Safe</td>\n",
       "      <td>Not Safe</td>\n",
       "      <td>0.711108</td>\n",
       "      <td>0.288892</td>\n",
       "    </tr>\n",
       "    <tr>\n",
       "      <th>373</th>\n",
       "      <td>Not Safe</td>\n",
       "      <td>Not Safe</td>\n",
       "      <td>0.783770</td>\n",
       "      <td>0.216230</td>\n",
       "    </tr>\n",
       "    <tr>\n",
       "      <th>374</th>\n",
       "      <td>Not Safe</td>\n",
       "      <td>Not Safe</td>\n",
       "      <td>0.561539</td>\n",
       "      <td>0.438461</td>\n",
       "    </tr>\n",
       "    <tr>\n",
       "      <th>375</th>\n",
       "      <td>Not Safe</td>\n",
       "      <td>Not Safe</td>\n",
       "      <td>0.851373</td>\n",
       "      <td>0.148627</td>\n",
       "    </tr>\n",
       "  </tbody>\n",
       "</table>\n",
       "<p>376 rows × 4 columns</p>\n",
       "</div>"
      ],
      "text/plain": [
       "    Correct label Predicted label  Probability Not Safe  Probability Safe\n",
       "0        Not Safe        Not Safe              0.805958          0.194042\n",
       "1        Not Safe        Not Safe              0.752267          0.247733\n",
       "2        Not Safe        Not Safe              0.869959          0.130041\n",
       "3        Not Safe            Safe              0.446306          0.553694\n",
       "4            Safe        Not Safe              0.568157          0.431843\n",
       "..            ...             ...                   ...               ...\n",
       "371      Not Safe        Not Safe              0.805958          0.194042\n",
       "372      Not Safe        Not Safe              0.711108          0.288892\n",
       "373      Not Safe        Not Safe              0.783770          0.216230\n",
       "374      Not Safe        Not Safe              0.561539          0.438461\n",
       "375      Not Safe        Not Safe              0.851373          0.148627\n",
       "\n",
       "[376 rows x 4 columns]"
      ]
     },
     "execution_count": 80,
     "metadata": {},
     "output_type": "execute_result"
    }
   ],
   "source": [
    "y11_pred = classifier.predict(X11_test)\n",
    "\n",
    "# Predict probabilities\n",
    "probs_y11=classifier.predict_proba(X11_test)\n",
    "\n",
    "data11 = {'Correct label':y11_test, 'Predicted label':y11_pred, 'Probability Not Safe':probs_y11[:,0],\n",
    "       'Probability Safe':probs_y11[:,1]}\n",
    "# Create DataFrame\n",
    "df11 = pd.DataFrame(data11)\n",
    " \n",
    "# Print the output.\n",
    "df11"
   ]
  },
  {
   "cell_type": "code",
   "execution_count": 81,
   "id": "a6520b8d-795e-4ac4-a5ff-6c7f54ad36f4",
   "metadata": {
    "tags": []
   },
   "outputs": [
    {
     "name": "stdout",
     "output_type": "stream",
     "text": [
      "[[277  21]\n",
      " [ 63  15]]\n"
     ]
    }
   ],
   "source": [
    "cm = confusion_matrix(y11_test, y11_pred)\n",
    "print(cm)"
   ]
  },
  {
   "cell_type": "code",
   "execution_count": 82,
   "id": "61e074b7-b70f-4deb-93c7-fbbb0313da0c",
   "metadata": {
    "tags": []
   },
   "outputs": [
    {
     "name": "stdout",
     "output_type": "stream",
     "text": [
      "[0.761968085106383, 0.7805851063829787, 0.776595744680851, 0.7805851063829787, 0.7712765957446809]\n"
     ]
    }
   ],
   "source": [
    "sss.get_n_splits(X11, y11);\n",
    "\n",
    "scores11 = []\n",
    "\n",
    "for train_index, test_index in sss.split(X11, y11):\n",
    "    X_train, X_test = X11[train_index], X11[test_index]\n",
    "    y_train, y_test = y11[train_index], y11[test_index]\n",
    "    model.fit(X_train, y_train)\n",
    "    pred = model.predict(X_test)\n",
    "    scores11.append(accuracy_score(y_test, pred))\n",
    " \n",
    "# get accuracy of each prediction\n",
    "print(scores11)"
   ]
  },
  {
   "cell_type": "markdown",
   "id": "54a3ae7c-1a3e-4119-b141-5e772c6a295f",
   "metadata": {},
   "source": [
    "#### Dropping chord length, free-stream velocity, and suction side displacement"
   ]
  },
  {
   "cell_type": "code",
   "execution_count": 83,
   "id": "6ccbfcaa-9025-4854-845b-848e67fabcf3",
   "metadata": {
    "tags": []
   },
   "outputs": [
    {
     "data": {
      "text/html": [
       "<style>#sk-container-id-13 {color: black;background-color: white;}#sk-container-id-13 pre{padding: 0;}#sk-container-id-13 div.sk-toggleable {background-color: white;}#sk-container-id-13 label.sk-toggleable__label {cursor: pointer;display: block;width: 100%;margin-bottom: 0;padding: 0.3em;box-sizing: border-box;text-align: center;}#sk-container-id-13 label.sk-toggleable__label-arrow:before {content: \"▸\";float: left;margin-right: 0.25em;color: #696969;}#sk-container-id-13 label.sk-toggleable__label-arrow:hover:before {color: black;}#sk-container-id-13 div.sk-estimator:hover label.sk-toggleable__label-arrow:before {color: black;}#sk-container-id-13 div.sk-toggleable__content {max-height: 0;max-width: 0;overflow: hidden;text-align: left;background-color: #f0f8ff;}#sk-container-id-13 div.sk-toggleable__content pre {margin: 0.2em;color: black;border-radius: 0.25em;background-color: #f0f8ff;}#sk-container-id-13 input.sk-toggleable__control:checked~div.sk-toggleable__content {max-height: 200px;max-width: 100%;overflow: auto;}#sk-container-id-13 input.sk-toggleable__control:checked~label.sk-toggleable__label-arrow:before {content: \"▾\";}#sk-container-id-13 div.sk-estimator input.sk-toggleable__control:checked~label.sk-toggleable__label {background-color: #d4ebff;}#sk-container-id-13 div.sk-label input.sk-toggleable__control:checked~label.sk-toggleable__label {background-color: #d4ebff;}#sk-container-id-13 input.sk-hidden--visually {border: 0;clip: rect(1px 1px 1px 1px);clip: rect(1px, 1px, 1px, 1px);height: 1px;margin: -1px;overflow: hidden;padding: 0;position: absolute;width: 1px;}#sk-container-id-13 div.sk-estimator {font-family: monospace;background-color: #f0f8ff;border: 1px dotted black;border-radius: 0.25em;box-sizing: border-box;margin-bottom: 0.5em;}#sk-container-id-13 div.sk-estimator:hover {background-color: #d4ebff;}#sk-container-id-13 div.sk-parallel-item::after {content: \"\";width: 100%;border-bottom: 1px solid gray;flex-grow: 1;}#sk-container-id-13 div.sk-label:hover label.sk-toggleable__label {background-color: #d4ebff;}#sk-container-id-13 div.sk-serial::before {content: \"\";position: absolute;border-left: 1px solid gray;box-sizing: border-box;top: 0;bottom: 0;left: 50%;z-index: 0;}#sk-container-id-13 div.sk-serial {display: flex;flex-direction: column;align-items: center;background-color: white;padding-right: 0.2em;padding-left: 0.2em;position: relative;}#sk-container-id-13 div.sk-item {position: relative;z-index: 1;}#sk-container-id-13 div.sk-parallel {display: flex;align-items: stretch;justify-content: center;background-color: white;position: relative;}#sk-container-id-13 div.sk-item::before, #sk-container-id-13 div.sk-parallel-item::before {content: \"\";position: absolute;border-left: 1px solid gray;box-sizing: border-box;top: 0;bottom: 0;left: 50%;z-index: -1;}#sk-container-id-13 div.sk-parallel-item {display: flex;flex-direction: column;z-index: 1;position: relative;background-color: white;}#sk-container-id-13 div.sk-parallel-item:first-child::after {align-self: flex-end;width: 50%;}#sk-container-id-13 div.sk-parallel-item:last-child::after {align-self: flex-start;width: 50%;}#sk-container-id-13 div.sk-parallel-item:only-child::after {width: 0;}#sk-container-id-13 div.sk-dashed-wrapped {border: 1px dashed gray;margin: 0 0.4em 0.5em 0.4em;box-sizing: border-box;padding-bottom: 0.4em;background-color: white;}#sk-container-id-13 div.sk-label label {font-family: monospace;font-weight: bold;display: inline-block;line-height: 1.2em;}#sk-container-id-13 div.sk-label-container {text-align: center;}#sk-container-id-13 div.sk-container {/* jupyter's `normalize.less` sets `[hidden] { display: none; }` but bootstrap.min.css set `[hidden] { display: none !important; }` so we also need the `!important` here to be able to override the default hidden behavior on the sphinx rendered scikit-learn.org. See: https://github.com/scikit-learn/scikit-learn/issues/21755 */display: inline-block !important;position: relative;}#sk-container-id-13 div.sk-text-repr-fallback {display: none;}</style><div id=\"sk-container-id-13\" class=\"sk-top-container\"><div class=\"sk-text-repr-fallback\"><pre>LogisticRegression(max_iter=500, random_state=0)</pre><b>In a Jupyter environment, please rerun this cell to show the HTML representation or trust the notebook. <br />On GitHub, the HTML representation is unable to render, please try loading this page with nbviewer.org.</b></div><div class=\"sk-container\" hidden><div class=\"sk-item\"><div class=\"sk-estimator sk-toggleable\"><input class=\"sk-toggleable__control sk-hidden--visually\" id=\"sk-estimator-id-13\" type=\"checkbox\" checked><label for=\"sk-estimator-id-13\" class=\"sk-toggleable__label sk-toggleable__label-arrow\">LogisticRegression</label><div class=\"sk-toggleable__content\"><pre>LogisticRegression(max_iter=500, random_state=0)</pre></div></div></div></div></div>"
      ],
      "text/plain": [
       "LogisticRegression(max_iter=500, random_state=0)"
      ]
     },
     "execution_count": 83,
     "metadata": {},
     "output_type": "execute_result"
    }
   ],
   "source": [
    "X12 = af_data.iloc[:, [0, 1]].values\n",
    "y12 = af_data.iloc[:, 6].values\n",
    "X12_train, X12_test, y12_train, y12_test = train_test_split(X12, y12, test_size = 0.25, random_state = 3)\n",
    "\n",
    "classifier.fit(X12_train,y12_train)"
   ]
  },
  {
   "cell_type": "code",
   "execution_count": 84,
   "id": "8c301031-d2a6-4998-a83b-b388cdcec772",
   "metadata": {
    "tags": []
   },
   "outputs": [
    {
     "data": {
      "text/html": [
       "<div>\n",
       "<style scoped>\n",
       "    .dataframe tbody tr th:only-of-type {\n",
       "        vertical-align: middle;\n",
       "    }\n",
       "\n",
       "    .dataframe tbody tr th {\n",
       "        vertical-align: top;\n",
       "    }\n",
       "\n",
       "    .dataframe thead th {\n",
       "        text-align: right;\n",
       "    }\n",
       "</style>\n",
       "<table border=\"1\" class=\"dataframe\">\n",
       "  <thead>\n",
       "    <tr style=\"text-align: right;\">\n",
       "      <th></th>\n",
       "      <th>Correct label</th>\n",
       "      <th>Predicted label</th>\n",
       "      <th>Probability Not Safe</th>\n",
       "      <th>Probability Safe</th>\n",
       "    </tr>\n",
       "  </thead>\n",
       "  <tbody>\n",
       "    <tr>\n",
       "      <th>0</th>\n",
       "      <td>Not Safe</td>\n",
       "      <td>Not Safe</td>\n",
       "      <td>0.751091</td>\n",
       "      <td>0.248909</td>\n",
       "    </tr>\n",
       "    <tr>\n",
       "      <th>1</th>\n",
       "      <td>Not Safe</td>\n",
       "      <td>Not Safe</td>\n",
       "      <td>0.739379</td>\n",
       "      <td>0.260621</td>\n",
       "    </tr>\n",
       "    <tr>\n",
       "      <th>2</th>\n",
       "      <td>Not Safe</td>\n",
       "      <td>Not Safe</td>\n",
       "      <td>0.769633</td>\n",
       "      <td>0.230367</td>\n",
       "    </tr>\n",
       "    <tr>\n",
       "      <th>3</th>\n",
       "      <td>Not Safe</td>\n",
       "      <td>Safe</td>\n",
       "      <td>0.429052</td>\n",
       "      <td>0.570948</td>\n",
       "    </tr>\n",
       "    <tr>\n",
       "      <th>4</th>\n",
       "      <td>Safe</td>\n",
       "      <td>Not Safe</td>\n",
       "      <td>0.566126</td>\n",
       "      <td>0.433874</td>\n",
       "    </tr>\n",
       "    <tr>\n",
       "      <th>...</th>\n",
       "      <td>...</td>\n",
       "      <td>...</td>\n",
       "      <td>...</td>\n",
       "      <td>...</td>\n",
       "    </tr>\n",
       "    <tr>\n",
       "      <th>371</th>\n",
       "      <td>Not Safe</td>\n",
       "      <td>Not Safe</td>\n",
       "      <td>0.812880</td>\n",
       "      <td>0.187120</td>\n",
       "    </tr>\n",
       "    <tr>\n",
       "      <th>372</th>\n",
       "      <td>Not Safe</td>\n",
       "      <td>Not Safe</td>\n",
       "      <td>0.860685</td>\n",
       "      <td>0.139315</td>\n",
       "    </tr>\n",
       "    <tr>\n",
       "      <th>373</th>\n",
       "      <td>Not Safe</td>\n",
       "      <td>Not Safe</td>\n",
       "      <td>0.592086</td>\n",
       "      <td>0.407914</td>\n",
       "    </tr>\n",
       "    <tr>\n",
       "      <th>374</th>\n",
       "      <td>Not Safe</td>\n",
       "      <td>Not Safe</td>\n",
       "      <td>0.585197</td>\n",
       "      <td>0.414803</td>\n",
       "    </tr>\n",
       "    <tr>\n",
       "      <th>375</th>\n",
       "      <td>Not Safe</td>\n",
       "      <td>Not Safe</td>\n",
       "      <td>0.854493</td>\n",
       "      <td>0.145507</td>\n",
       "    </tr>\n",
       "  </tbody>\n",
       "</table>\n",
       "<p>376 rows × 4 columns</p>\n",
       "</div>"
      ],
      "text/plain": [
       "    Correct label Predicted label  Probability Not Safe  Probability Safe\n",
       "0        Not Safe        Not Safe              0.751091          0.248909\n",
       "1        Not Safe        Not Safe              0.739379          0.260621\n",
       "2        Not Safe        Not Safe              0.769633          0.230367\n",
       "3        Not Safe            Safe              0.429052          0.570948\n",
       "4            Safe        Not Safe              0.566126          0.433874\n",
       "..            ...             ...                   ...               ...\n",
       "371      Not Safe        Not Safe              0.812880          0.187120\n",
       "372      Not Safe        Not Safe              0.860685          0.139315\n",
       "373      Not Safe        Not Safe              0.592086          0.407914\n",
       "374      Not Safe        Not Safe              0.585197          0.414803\n",
       "375      Not Safe        Not Safe              0.854493          0.145507\n",
       "\n",
       "[376 rows x 4 columns]"
      ]
     },
     "execution_count": 84,
     "metadata": {},
     "output_type": "execute_result"
    }
   ],
   "source": [
    "y12_pred = classifier.predict(X12_test)\n",
    "\n",
    "# Predict probabilities\n",
    "probs_y12=classifier.predict_proba(X12_test)\n",
    "\n",
    "data12 = {'Correct label':y12_test, 'Predicted label':y12_pred, 'Probability Not Safe':probs_y12[:,0],\n",
    "       'Probability Safe':probs_y12[:,1]}\n",
    "# Create DataFrame\n",
    "df12 = pd.DataFrame(data12)\n",
    " \n",
    "# Print the output.\n",
    "df12"
   ]
  },
  {
   "cell_type": "code",
   "execution_count": 85,
   "id": "de616692-ec9e-4728-88c2-e326c0e18683",
   "metadata": {
    "tags": []
   },
   "outputs": [
    {
     "name": "stdout",
     "output_type": "stream",
     "text": [
      "[[278  20]\n",
      " [ 52  26]]\n"
     ]
    }
   ],
   "source": [
    "cm = confusion_matrix(y12_test, y12_pred)\n",
    "print(cm)"
   ]
  },
  {
   "cell_type": "code",
   "execution_count": 86,
   "id": "6f0ab32d-120c-40ad-8987-3991c54c9133",
   "metadata": {
    "tags": []
   },
   "outputs": [
    {
     "name": "stdout",
     "output_type": "stream",
     "text": [
      "[0.7845744680851063, 0.7925531914893617, 0.7726063829787234, 0.7925531914893617, 0.7712765957446809]\n"
     ]
    }
   ],
   "source": [
    "sss.get_n_splits(X12, y12);\n",
    "\n",
    "scores12 = []\n",
    "\n",
    "for train_index, test_index in sss.split(X12, y12):\n",
    "    X_train, X_test = X12[train_index], X12[test_index]\n",
    "    y_train, y_test = y12[train_index], y12[test_index]\n",
    "    model.fit(X_train, y_train)\n",
    "    pred = model.predict(X_test)\n",
    "    scores12.append(accuracy_score(y_test, pred))\n",
    " \n",
    "# get accuracy of each prediction\n",
    "print(scores12)"
   ]
  },
  {
   "cell_type": "code",
   "execution_count": 87,
   "id": "a55e394e-818c-40c7-b8dd-a4836c763676",
   "metadata": {
    "tags": []
   },
   "outputs": [
    {
     "data": {
      "text/plain": [
       "(array([-0.00132979, -0.01994681, -0.01595745, -0.01994681, -0.0106383 ]),\n",
       " array([-0.02393617, -0.03191489, -0.01196809, -0.03191489, -0.0106383 ]),\n",
       " array([-0.02260638, -0.01196809,  0.00398936, -0.01196809,  0.        ]))"
      ]
     },
     "execution_count": 87,
     "metadata": {},
     "output_type": "execute_result"
    }
   ],
   "source": [
    "d = np.array(scores10)\n",
    "e = np.array(scores11)\n",
    "f = np.array(scores12)\n",
    "\n",
    "d - e, d - f, e-f"
   ]
  },
  {
   "cell_type": "markdown",
   "id": "62aa62ab-0424-4503-9423-85f2eecdd65e",
   "metadata": {},
   "source": [
    "It appears that the model without chord length, free-stream velocity, and suction side displacement is the best out of the 2 variable models. I will compare that with the best 3 variable and the best 4 variable model as well."
   ]
  },
  {
   "cell_type": "markdown",
   "id": "3ec26ad6-16d8-466a-af80-04b91187c4c0",
   "metadata": {
    "tags": []
   },
   "source": [
    "I'm going to redo the splitting except with more tests. I want to feel like I've done a little more tests to make sure I really know which model seems to do better.\n",
    "\n",
    "## Further testing\n",
    "\n",
    "### Four variables"
   ]
  },
  {
   "cell_type": "code",
   "execution_count": 88,
   "id": "bbd46b9f-882d-4eaf-b402-e267a0c6b6d3",
   "metadata": {
    "tags": []
   },
   "outputs": [],
   "source": [
    "sss2 = StratifiedShuffleSplit(n_splits=15, test_size=0.25, random_state=37)"
   ]
  },
  {
   "cell_type": "code",
   "execution_count": 89,
   "id": "f031d683-b6c3-416e-8bc4-1306b4bbbb2f",
   "metadata": {
    "tags": []
   },
   "outputs": [
    {
     "data": {
      "text/html": [
       "<style>#sk-container-id-14 {color: black;background-color: white;}#sk-container-id-14 pre{padding: 0;}#sk-container-id-14 div.sk-toggleable {background-color: white;}#sk-container-id-14 label.sk-toggleable__label {cursor: pointer;display: block;width: 100%;margin-bottom: 0;padding: 0.3em;box-sizing: border-box;text-align: center;}#sk-container-id-14 label.sk-toggleable__label-arrow:before {content: \"▸\";float: left;margin-right: 0.25em;color: #696969;}#sk-container-id-14 label.sk-toggleable__label-arrow:hover:before {color: black;}#sk-container-id-14 div.sk-estimator:hover label.sk-toggleable__label-arrow:before {color: black;}#sk-container-id-14 div.sk-toggleable__content {max-height: 0;max-width: 0;overflow: hidden;text-align: left;background-color: #f0f8ff;}#sk-container-id-14 div.sk-toggleable__content pre {margin: 0.2em;color: black;border-radius: 0.25em;background-color: #f0f8ff;}#sk-container-id-14 input.sk-toggleable__control:checked~div.sk-toggleable__content {max-height: 200px;max-width: 100%;overflow: auto;}#sk-container-id-14 input.sk-toggleable__control:checked~label.sk-toggleable__label-arrow:before {content: \"▾\";}#sk-container-id-14 div.sk-estimator input.sk-toggleable__control:checked~label.sk-toggleable__label {background-color: #d4ebff;}#sk-container-id-14 div.sk-label input.sk-toggleable__control:checked~label.sk-toggleable__label {background-color: #d4ebff;}#sk-container-id-14 input.sk-hidden--visually {border: 0;clip: rect(1px 1px 1px 1px);clip: rect(1px, 1px, 1px, 1px);height: 1px;margin: -1px;overflow: hidden;padding: 0;position: absolute;width: 1px;}#sk-container-id-14 div.sk-estimator {font-family: monospace;background-color: #f0f8ff;border: 1px dotted black;border-radius: 0.25em;box-sizing: border-box;margin-bottom: 0.5em;}#sk-container-id-14 div.sk-estimator:hover {background-color: #d4ebff;}#sk-container-id-14 div.sk-parallel-item::after {content: \"\";width: 100%;border-bottom: 1px solid gray;flex-grow: 1;}#sk-container-id-14 div.sk-label:hover label.sk-toggleable__label {background-color: #d4ebff;}#sk-container-id-14 div.sk-serial::before {content: \"\";position: absolute;border-left: 1px solid gray;box-sizing: border-box;top: 0;bottom: 0;left: 50%;z-index: 0;}#sk-container-id-14 div.sk-serial {display: flex;flex-direction: column;align-items: center;background-color: white;padding-right: 0.2em;padding-left: 0.2em;position: relative;}#sk-container-id-14 div.sk-item {position: relative;z-index: 1;}#sk-container-id-14 div.sk-parallel {display: flex;align-items: stretch;justify-content: center;background-color: white;position: relative;}#sk-container-id-14 div.sk-item::before, #sk-container-id-14 div.sk-parallel-item::before {content: \"\";position: absolute;border-left: 1px solid gray;box-sizing: border-box;top: 0;bottom: 0;left: 50%;z-index: -1;}#sk-container-id-14 div.sk-parallel-item {display: flex;flex-direction: column;z-index: 1;position: relative;background-color: white;}#sk-container-id-14 div.sk-parallel-item:first-child::after {align-self: flex-end;width: 50%;}#sk-container-id-14 div.sk-parallel-item:last-child::after {align-self: flex-start;width: 50%;}#sk-container-id-14 div.sk-parallel-item:only-child::after {width: 0;}#sk-container-id-14 div.sk-dashed-wrapped {border: 1px dashed gray;margin: 0 0.4em 0.5em 0.4em;box-sizing: border-box;padding-bottom: 0.4em;background-color: white;}#sk-container-id-14 div.sk-label label {font-family: monospace;font-weight: bold;display: inline-block;line-height: 1.2em;}#sk-container-id-14 div.sk-label-container {text-align: center;}#sk-container-id-14 div.sk-container {/* jupyter's `normalize.less` sets `[hidden] { display: none; }` but bootstrap.min.css set `[hidden] { display: none !important; }` so we also need the `!important` here to be able to override the default hidden behavior on the sphinx rendered scikit-learn.org. See: https://github.com/scikit-learn/scikit-learn/issues/21755 */display: inline-block !important;position: relative;}#sk-container-id-14 div.sk-text-repr-fallback {display: none;}</style><div id=\"sk-container-id-14\" class=\"sk-top-container\"><div class=\"sk-text-repr-fallback\"><pre>LogisticRegression(max_iter=500, random_state=0)</pre><b>In a Jupyter environment, please rerun this cell to show the HTML representation or trust the notebook. <br />On GitHub, the HTML representation is unable to render, please try loading this page with nbviewer.org.</b></div><div class=\"sk-container\" hidden><div class=\"sk-item\"><div class=\"sk-estimator sk-toggleable\"><input class=\"sk-toggleable__control sk-hidden--visually\" id=\"sk-estimator-id-14\" type=\"checkbox\" checked><label for=\"sk-estimator-id-14\" class=\"sk-toggleable__label sk-toggleable__label-arrow\">LogisticRegression</label><div class=\"sk-toggleable__content\"><pre>LogisticRegression(max_iter=500, random_state=0)</pre></div></div></div></div></div>"
      ],
      "text/plain": [
       "LogisticRegression(max_iter=500, random_state=0)"
      ]
     },
     "execution_count": 89,
     "metadata": {},
     "output_type": "execute_result"
    }
   ],
   "source": [
    "X_4vars = af_data.iloc[:, [0, 1, 2, 3]].values\n",
    "y_4vars = af_data.iloc[:, 6].values\n",
    "X_train_4v, X_test_4v, y_train_4v, y_test_4v = train_test_split(X_4vars, y_4vars, test_size = 0.25, random_state = 15)\n",
    "\n",
    "classifier.fit(X_train_4v,y_train_4v)"
   ]
  },
  {
   "cell_type": "code",
   "execution_count": 90,
   "id": "9d09d698-b117-476a-b920-39fcc8f6f06c",
   "metadata": {
    "tags": []
   },
   "outputs": [
    {
     "data": {
      "text/html": [
       "<div>\n",
       "<style scoped>\n",
       "    .dataframe tbody tr th:only-of-type {\n",
       "        vertical-align: middle;\n",
       "    }\n",
       "\n",
       "    .dataframe tbody tr th {\n",
       "        vertical-align: top;\n",
       "    }\n",
       "\n",
       "    .dataframe thead th {\n",
       "        text-align: right;\n",
       "    }\n",
       "</style>\n",
       "<table border=\"1\" class=\"dataframe\">\n",
       "  <thead>\n",
       "    <tr style=\"text-align: right;\">\n",
       "      <th></th>\n",
       "      <th>Correct label</th>\n",
       "      <th>Predicted label</th>\n",
       "      <th>Probability Not Safe</th>\n",
       "      <th>Probability Safe</th>\n",
       "    </tr>\n",
       "  </thead>\n",
       "  <tbody>\n",
       "    <tr>\n",
       "      <th>0</th>\n",
       "      <td>Not Safe</td>\n",
       "      <td>Not Safe</td>\n",
       "      <td>0.954699</td>\n",
       "      <td>0.045301</td>\n",
       "    </tr>\n",
       "    <tr>\n",
       "      <th>1</th>\n",
       "      <td>Not Safe</td>\n",
       "      <td>Not Safe</td>\n",
       "      <td>0.821388</td>\n",
       "      <td>0.178612</td>\n",
       "    </tr>\n",
       "    <tr>\n",
       "      <th>2</th>\n",
       "      <td>Not Safe</td>\n",
       "      <td>Not Safe</td>\n",
       "      <td>0.915714</td>\n",
       "      <td>0.084286</td>\n",
       "    </tr>\n",
       "    <tr>\n",
       "      <th>3</th>\n",
       "      <td>Safe</td>\n",
       "      <td>Safe</td>\n",
       "      <td>0.413972</td>\n",
       "      <td>0.586028</td>\n",
       "    </tr>\n",
       "    <tr>\n",
       "      <th>4</th>\n",
       "      <td>Safe</td>\n",
       "      <td>Not Safe</td>\n",
       "      <td>0.788078</td>\n",
       "      <td>0.211922</td>\n",
       "    </tr>\n",
       "    <tr>\n",
       "      <th>...</th>\n",
       "      <td>...</td>\n",
       "      <td>...</td>\n",
       "      <td>...</td>\n",
       "      <td>...</td>\n",
       "    </tr>\n",
       "    <tr>\n",
       "      <th>371</th>\n",
       "      <td>Not Safe</td>\n",
       "      <td>Not Safe</td>\n",
       "      <td>0.643622</td>\n",
       "      <td>0.356378</td>\n",
       "    </tr>\n",
       "    <tr>\n",
       "      <th>372</th>\n",
       "      <td>Not Safe</td>\n",
       "      <td>Not Safe</td>\n",
       "      <td>0.747375</td>\n",
       "      <td>0.252625</td>\n",
       "    </tr>\n",
       "    <tr>\n",
       "      <th>373</th>\n",
       "      <td>Not Safe</td>\n",
       "      <td>Not Safe</td>\n",
       "      <td>0.911886</td>\n",
       "      <td>0.088114</td>\n",
       "    </tr>\n",
       "    <tr>\n",
       "      <th>374</th>\n",
       "      <td>Not Safe</td>\n",
       "      <td>Not Safe</td>\n",
       "      <td>0.926288</td>\n",
       "      <td>0.073712</td>\n",
       "    </tr>\n",
       "    <tr>\n",
       "      <th>375</th>\n",
       "      <td>Not Safe</td>\n",
       "      <td>Not Safe</td>\n",
       "      <td>0.880379</td>\n",
       "      <td>0.119621</td>\n",
       "    </tr>\n",
       "  </tbody>\n",
       "</table>\n",
       "<p>376 rows × 4 columns</p>\n",
       "</div>"
      ],
      "text/plain": [
       "    Correct label Predicted label  Probability Not Safe  Probability Safe\n",
       "0        Not Safe        Not Safe              0.954699          0.045301\n",
       "1        Not Safe        Not Safe              0.821388          0.178612\n",
       "2        Not Safe        Not Safe              0.915714          0.084286\n",
       "3            Safe            Safe              0.413972          0.586028\n",
       "4            Safe        Not Safe              0.788078          0.211922\n",
       "..            ...             ...                   ...               ...\n",
       "371      Not Safe        Not Safe              0.643622          0.356378\n",
       "372      Not Safe        Not Safe              0.747375          0.252625\n",
       "373      Not Safe        Not Safe              0.911886          0.088114\n",
       "374      Not Safe        Not Safe              0.926288          0.073712\n",
       "375      Not Safe        Not Safe              0.880379          0.119621\n",
       "\n",
       "[376 rows x 4 columns]"
      ]
     },
     "execution_count": 90,
     "metadata": {},
     "output_type": "execute_result"
    }
   ],
   "source": [
    "y_pred_4v = classifier.predict(X_test_4v)\n",
    "\n",
    "# Predict probabilities\n",
    "probs_y_4v=classifier.predict_proba(X_test_4v)\n",
    "\n",
    "data4v = {'Correct label':y_test_4v, 'Predicted label':y_pred_4v, 'Probability Not Safe':probs_y_4v[:,0],\n",
    "       'Probability Safe':probs_y_4v[:,1]}\n",
    "# Create DataFrame\n",
    "df4v = pd.DataFrame(data4v)\n",
    " \n",
    "# Print the output.\n",
    "df4v"
   ]
  },
  {
   "cell_type": "code",
   "execution_count": 91,
   "id": "aaeaaa8a-ed76-4f14-8935-38d70c6fba62",
   "metadata": {
    "tags": []
   },
   "outputs": [
    {
     "data": {
      "image/png": "[encoded data removed]",
      "text/plain": [
       "<Figure size 640x480 with 2 Axes>"
      ]
     },
     "metadata": {},
     "output_type": "display_data"
    }
   ],
   "source": [
    "cm = confusion_matrix(y_test_4v, y_pred_4v)\n",
    "ax = plt.axes()\n",
    "df_cm = cm\n",
    "sns.heatmap(df_cm, annot=True, annot_kws={\"size\": 30}, fmt='d',cmap=\"Blues\", ax = ax )\n",
    "ax.set_title('Confusion Matrix')\n",
    "plt.show()"
   ]
  },
  {
   "cell_type": "code",
   "execution_count": 92,
   "id": "8832314b-6530-454b-aa14-341e4624b86f",
   "metadata": {
    "tags": []
   },
   "outputs": [
    {
     "name": "stdout",
     "output_type": "stream",
     "text": [
      "[0.8696808510638298, 0.7898936170212766, 0.8085106382978723, 0.7978723404255319, 0.7845744680851063, 0.8351063829787234, 0.7898936170212766, 0.7792553191489362, 0.8164893617021277, 0.8377659574468085, 0.8297872340425532, 0.848404255319149, 0.8218085106382979, 0.8111702127659575, 0.8031914893617021]\n"
     ]
    }
   ],
   "source": [
    "sss2.get_n_splits(X_4vars, y_4vars);\n",
    "\n",
    "scores_4vars = []\n",
    "\n",
    "for train_index, test_index in sss2.split(X_4vars, y_4vars):\n",
    "    X_train, X_test = X_4vars[train_index], X_4vars[test_index]\n",
    "    y_train, y_test = y_4vars[train_index], y_4vars[test_index]\n",
    "    model.fit(X_train, y_train)\n",
    "    pred = model.predict(X_test)\n",
    "    scores_4vars.append(accuracy_score(y_test, pred))\n",
    " \n",
    "# get accuracy of each prediction\n",
    "print(scores_4vars)"
   ]
  },
  {
   "cell_type": "markdown",
   "id": "e37570bd-688f-464c-a2df-efbef52f93f4",
   "metadata": {},
   "source": [
    "### Three variables"
   ]
  },
  {
   "cell_type": "code",
   "execution_count": 93,
   "id": "3791ed1d-f8c6-4dff-a5a5-84b64faa26c2",
   "metadata": {
    "tags": []
   },
   "outputs": [
    {
     "data": {
      "text/html": [
       "<style>#sk-container-id-15 {color: black;background-color: white;}#sk-container-id-15 pre{padding: 0;}#sk-container-id-15 div.sk-toggleable {background-color: white;}#sk-container-id-15 label.sk-toggleable__label {cursor: pointer;display: block;width: 100%;margin-bottom: 0;padding: 0.3em;box-sizing: border-box;text-align: center;}#sk-container-id-15 label.sk-toggleable__label-arrow:before {content: \"▸\";float: left;margin-right: 0.25em;color: #696969;}#sk-container-id-15 label.sk-toggleable__label-arrow:hover:before {color: black;}#sk-container-id-15 div.sk-estimator:hover label.sk-toggleable__label-arrow:before {color: black;}#sk-container-id-15 div.sk-toggleable__content {max-height: 0;max-width: 0;overflow: hidden;text-align: left;background-color: #f0f8ff;}#sk-container-id-15 div.sk-toggleable__content pre {margin: 0.2em;color: black;border-radius: 0.25em;background-color: #f0f8ff;}#sk-container-id-15 input.sk-toggleable__control:checked~div.sk-toggleable__content {max-height: 200px;max-width: 100%;overflow: auto;}#sk-container-id-15 input.sk-toggleable__control:checked~label.sk-toggleable__label-arrow:before {content: \"▾\";}#sk-container-id-15 div.sk-estimator input.sk-toggleable__control:checked~label.sk-toggleable__label {background-color: #d4ebff;}#sk-container-id-15 div.sk-label input.sk-toggleable__control:checked~label.sk-toggleable__label {background-color: #d4ebff;}#sk-container-id-15 input.sk-hidden--visually {border: 0;clip: rect(1px 1px 1px 1px);clip: rect(1px, 1px, 1px, 1px);height: 1px;margin: -1px;overflow: hidden;padding: 0;position: absolute;width: 1px;}#sk-container-id-15 div.sk-estimator {font-family: monospace;background-color: #f0f8ff;border: 1px dotted black;border-radius: 0.25em;box-sizing: border-box;margin-bottom: 0.5em;}#sk-container-id-15 div.sk-estimator:hover {background-color: #d4ebff;}#sk-container-id-15 div.sk-parallel-item::after {content: \"\";width: 100%;border-bottom: 1px solid gray;flex-grow: 1;}#sk-container-id-15 div.sk-label:hover label.sk-toggleable__label {background-color: #d4ebff;}#sk-container-id-15 div.sk-serial::before {content: \"\";position: absolute;border-left: 1px solid gray;box-sizing: border-box;top: 0;bottom: 0;left: 50%;z-index: 0;}#sk-container-id-15 div.sk-serial {display: flex;flex-direction: column;align-items: center;background-color: white;padding-right: 0.2em;padding-left: 0.2em;position: relative;}#sk-container-id-15 div.sk-item {position: relative;z-index: 1;}#sk-container-id-15 div.sk-parallel {display: flex;align-items: stretch;justify-content: center;background-color: white;position: relative;}#sk-container-id-15 div.sk-item::before, #sk-container-id-15 div.sk-parallel-item::before {content: \"\";position: absolute;border-left: 1px solid gray;box-sizing: border-box;top: 0;bottom: 0;left: 50%;z-index: -1;}#sk-container-id-15 div.sk-parallel-item {display: flex;flex-direction: column;z-index: 1;position: relative;background-color: white;}#sk-container-id-15 div.sk-parallel-item:first-child::after {align-self: flex-end;width: 50%;}#sk-container-id-15 div.sk-parallel-item:last-child::after {align-self: flex-start;width: 50%;}#sk-container-id-15 div.sk-parallel-item:only-child::after {width: 0;}#sk-container-id-15 div.sk-dashed-wrapped {border: 1px dashed gray;margin: 0 0.4em 0.5em 0.4em;box-sizing: border-box;padding-bottom: 0.4em;background-color: white;}#sk-container-id-15 div.sk-label label {font-family: monospace;font-weight: bold;display: inline-block;line-height: 1.2em;}#sk-container-id-15 div.sk-label-container {text-align: center;}#sk-container-id-15 div.sk-container {/* jupyter's `normalize.less` sets `[hidden] { display: none; }` but bootstrap.min.css set `[hidden] { display: none !important; }` so we also need the `!important` here to be able to override the default hidden behavior on the sphinx rendered scikit-learn.org. See: https://github.com/scikit-learn/scikit-learn/issues/21755 */display: inline-block !important;position: relative;}#sk-container-id-15 div.sk-text-repr-fallback {display: none;}</style><div id=\"sk-container-id-15\" class=\"sk-top-container\"><div class=\"sk-text-repr-fallback\"><pre>LogisticRegression(max_iter=500, random_state=0)</pre><b>In a Jupyter environment, please rerun this cell to show the HTML representation or trust the notebook. <br />On GitHub, the HTML representation is unable to render, please try loading this page with nbviewer.org.</b></div><div class=\"sk-container\" hidden><div class=\"sk-item\"><div class=\"sk-estimator sk-toggleable\"><input class=\"sk-toggleable__control sk-hidden--visually\" id=\"sk-estimator-id-15\" type=\"checkbox\" checked><label for=\"sk-estimator-id-15\" class=\"sk-toggleable__label sk-toggleable__label-arrow\">LogisticRegression</label><div class=\"sk-toggleable__content\"><pre>LogisticRegression(max_iter=500, random_state=0)</pre></div></div></div></div></div>"
      ],
      "text/plain": [
       "LogisticRegression(max_iter=500, random_state=0)"
      ]
     },
     "execution_count": 93,
     "metadata": {},
     "output_type": "execute_result"
    }
   ],
   "source": [
    "X_3vars = af_data.iloc[:, [0, 1, 2]].values\n",
    "y_3vars = af_data.iloc[:, 6].values\n",
    "X_train_3v, X_test_3v, y_train_3v, y_test_3v = train_test_split(X_3vars, y_3vars, test_size = 0.25, random_state = 15)\n",
    "\n",
    "classifier.fit(X_train_3v,y_train_3v)"
   ]
  },
  {
   "cell_type": "code",
   "execution_count": 94,
   "id": "657905e4-bb0e-4a8e-84e3-a41736c198c2",
   "metadata": {
    "tags": []
   },
   "outputs": [
    {
     "data": {
      "text/html": [
       "<div>\n",
       "<style scoped>\n",
       "    .dataframe tbody tr th:only-of-type {\n",
       "        vertical-align: middle;\n",
       "    }\n",
       "\n",
       "    .dataframe tbody tr th {\n",
       "        vertical-align: top;\n",
       "    }\n",
       "\n",
       "    .dataframe thead th {\n",
       "        text-align: right;\n",
       "    }\n",
       "</style>\n",
       "<table border=\"1\" class=\"dataframe\">\n",
       "  <thead>\n",
       "    <tr style=\"text-align: right;\">\n",
       "      <th></th>\n",
       "      <th>Correct label</th>\n",
       "      <th>Predicted label</th>\n",
       "      <th>Probability Not Safe</th>\n",
       "      <th>Probability Safe</th>\n",
       "    </tr>\n",
       "  </thead>\n",
       "  <tbody>\n",
       "    <tr>\n",
       "      <th>0</th>\n",
       "      <td>Not Safe</td>\n",
       "      <td>Not Safe</td>\n",
       "      <td>0.867355</td>\n",
       "      <td>0.132645</td>\n",
       "    </tr>\n",
       "    <tr>\n",
       "      <th>1</th>\n",
       "      <td>Not Safe</td>\n",
       "      <td>Not Safe</td>\n",
       "      <td>0.870025</td>\n",
       "      <td>0.129975</td>\n",
       "    </tr>\n",
       "    <tr>\n",
       "      <th>2</th>\n",
       "      <td>Not Safe</td>\n",
       "      <td>Not Safe</td>\n",
       "      <td>0.915749</td>\n",
       "      <td>0.084251</td>\n",
       "    </tr>\n",
       "    <tr>\n",
       "      <th>3</th>\n",
       "      <td>Safe</td>\n",
       "      <td>Safe</td>\n",
       "      <td>0.416201</td>\n",
       "      <td>0.583799</td>\n",
       "    </tr>\n",
       "    <tr>\n",
       "      <th>4</th>\n",
       "      <td>Safe</td>\n",
       "      <td>Not Safe</td>\n",
       "      <td>0.850295</td>\n",
       "      <td>0.149705</td>\n",
       "    </tr>\n",
       "    <tr>\n",
       "      <th>...</th>\n",
       "      <td>...</td>\n",
       "      <td>...</td>\n",
       "      <td>...</td>\n",
       "      <td>...</td>\n",
       "    </tr>\n",
       "    <tr>\n",
       "      <th>371</th>\n",
       "      <td>Not Safe</td>\n",
       "      <td>Not Safe</td>\n",
       "      <td>0.673237</td>\n",
       "      <td>0.326763</td>\n",
       "    </tr>\n",
       "    <tr>\n",
       "      <th>372</th>\n",
       "      <td>Not Safe</td>\n",
       "      <td>Not Safe</td>\n",
       "      <td>0.763661</td>\n",
       "      <td>0.236339</td>\n",
       "    </tr>\n",
       "    <tr>\n",
       "      <th>373</th>\n",
       "      <td>Not Safe</td>\n",
       "      <td>Not Safe</td>\n",
       "      <td>0.821034</td>\n",
       "      <td>0.178966</td>\n",
       "    </tr>\n",
       "    <tr>\n",
       "      <th>374</th>\n",
       "      <td>Not Safe</td>\n",
       "      <td>Not Safe</td>\n",
       "      <td>0.879603</td>\n",
       "      <td>0.120397</td>\n",
       "    </tr>\n",
       "    <tr>\n",
       "      <th>375</th>\n",
       "      <td>Not Safe</td>\n",
       "      <td>Not Safe</td>\n",
       "      <td>0.870585</td>\n",
       "      <td>0.129415</td>\n",
       "    </tr>\n",
       "  </tbody>\n",
       "</table>\n",
       "<p>376 rows × 4 columns</p>\n",
       "</div>"
      ],
      "text/plain": [
       "    Correct label Predicted label  Probability Not Safe  Probability Safe\n",
       "0        Not Safe        Not Safe              0.867355          0.132645\n",
       "1        Not Safe        Not Safe              0.870025          0.129975\n",
       "2        Not Safe        Not Safe              0.915749          0.084251\n",
       "3            Safe            Safe              0.416201          0.583799\n",
       "4            Safe        Not Safe              0.850295          0.149705\n",
       "..            ...             ...                   ...               ...\n",
       "371      Not Safe        Not Safe              0.673237          0.326763\n",
       "372      Not Safe        Not Safe              0.763661          0.236339\n",
       "373      Not Safe        Not Safe              0.821034          0.178966\n",
       "374      Not Safe        Not Safe              0.879603          0.120397\n",
       "375      Not Safe        Not Safe              0.870585          0.129415\n",
       "\n",
       "[376 rows x 4 columns]"
      ]
     },
     "execution_count": 94,
     "metadata": {},
     "output_type": "execute_result"
    }
   ],
   "source": [
    "y_pred_3v = classifier.predict(X_test_3v)\n",
    "\n",
    "# Predict probabilities\n",
    "probs_y_3v=classifier.predict_proba(X_test_3v)\n",
    "\n",
    "data3v = {'Correct label':y_test_3v, 'Predicted label':y_pred_3v, 'Probability Not Safe':probs_y_3v[:,0],\n",
    "       'Probability Safe':probs_y_3v[:,1]}\n",
    "# Create DataFrame\n",
    "df3v = pd.DataFrame(data3v)\n",
    " \n",
    "# Print the output.\n",
    "df3v"
   ]
  },
  {
   "cell_type": "code",
   "execution_count": 95,
   "id": "f4220ed5-bb0a-4f64-b1f8-ea5cb7066cbf",
   "metadata": {
    "tags": []
   },
   "outputs": [
    {
     "data": {
      "image/png": "[encoded data removed]",
      "text/plain": [
       "<Figure size 640x480 with 2 Axes>"
      ]
     },
     "metadata": {},
     "output_type": "display_data"
    }
   ],
   "source": [
    "cm = confusion_matrix(y_test_3v, y_pred_3v)\n",
    "ax = plt.axes()\n",
    "df_cm = cm\n",
    "sns.heatmap(df_cm, annot=True, annot_kws={\"size\": 30}, fmt='d',cmap=\"Blues\", ax = ax )\n",
    "ax.set_title('Confusion Matrix')\n",
    "plt.show()"
   ]
  },
  {
   "cell_type": "code",
   "execution_count": 96,
   "id": "2977d1fa-c431-43d3-8b27-100fc1c30c5d",
   "metadata": {
    "tags": []
   },
   "outputs": [
    {
     "name": "stdout",
     "output_type": "stream",
     "text": [
      "[0.8590425531914894, 0.7898936170212766, 0.7712765957446809, 0.8351063829787234, 0.7898936170212766, 0.8218085106382979, 0.7925531914893617, 0.7819148936170213, 0.776595744680851, 0.8218085106382979, 0.776595744680851, 0.8457446808510638, 0.773936170212766, 0.8430851063829787, 0.8297872340425532]\n"
     ]
    }
   ],
   "source": [
    "sss2.get_n_splits(X_3vars, y_3vars);\n",
    "\n",
    "scores_3vars = []\n",
    "\n",
    "for train_index, test_index in sss2.split(X_3vars, y_3vars):\n",
    "    X_train, X_test = X_3vars[train_index], X_3vars[test_index]\n",
    "    y_train, y_test = y_3vars[train_index], y_3vars[test_index]\n",
    "    model.fit(X_train, y_train)\n",
    "    pred = model.predict(X_test)\n",
    "    scores_3vars.append(accuracy_score(y_test, pred))\n",
    " \n",
    "# get accuracy of each prediction\n",
    "print(scores_3vars)"
   ]
  },
  {
   "cell_type": "markdown",
   "id": "7ed09f4b-5c99-499a-9da0-a48e897d0afb",
   "metadata": {},
   "source": [
    "### Two variables"
   ]
  },
  {
   "cell_type": "code",
   "execution_count": 97,
   "id": "f337d138-86ca-4b67-984e-4a0d9fd2a241",
   "metadata": {},
   "outputs": [
    {
     "data": {
      "text/html": [
       "<style>#sk-container-id-16 {color: black;background-color: white;}#sk-container-id-16 pre{padding: 0;}#sk-container-id-16 div.sk-toggleable {background-color: white;}#sk-container-id-16 label.sk-toggleable__label {cursor: pointer;display: block;width: 100%;margin-bottom: 0;padding: 0.3em;box-sizing: border-box;text-align: center;}#sk-container-id-16 label.sk-toggleable__label-arrow:before {content: \"▸\";float: left;margin-right: 0.25em;color: #696969;}#sk-container-id-16 label.sk-toggleable__label-arrow:hover:before {color: black;}#sk-container-id-16 div.sk-estimator:hover label.sk-toggleable__label-arrow:before {color: black;}#sk-container-id-16 div.sk-toggleable__content {max-height: 0;max-width: 0;overflow: hidden;text-align: left;background-color: #f0f8ff;}#sk-container-id-16 div.sk-toggleable__content pre {margin: 0.2em;color: black;border-radius: 0.25em;background-color: #f0f8ff;}#sk-container-id-16 input.sk-toggleable__control:checked~div.sk-toggleable__content {max-height: 200px;max-width: 100%;overflow: auto;}#sk-container-id-16 input.sk-toggleable__control:checked~label.sk-toggleable__label-arrow:before {content: \"▾\";}#sk-container-id-16 div.sk-estimator input.sk-toggleable__control:checked~label.sk-toggleable__label {background-color: #d4ebff;}#sk-container-id-16 div.sk-label input.sk-toggleable__control:checked~label.sk-toggleable__label {background-color: #d4ebff;}#sk-container-id-16 input.sk-hidden--visually {border: 0;clip: rect(1px 1px 1px 1px);clip: rect(1px, 1px, 1px, 1px);height: 1px;margin: -1px;overflow: hidden;padding: 0;position: absolute;width: 1px;}#sk-container-id-16 div.sk-estimator {font-family: monospace;background-color: #f0f8ff;border: 1px dotted black;border-radius: 0.25em;box-sizing: border-box;margin-bottom: 0.5em;}#sk-container-id-16 div.sk-estimator:hover {background-color: #d4ebff;}#sk-container-id-16 div.sk-parallel-item::after {content: \"\";width: 100%;border-bottom: 1px solid gray;flex-grow: 1;}#sk-container-id-16 div.sk-label:hover label.sk-toggleable__label {background-color: #d4ebff;}#sk-container-id-16 div.sk-serial::before {content: \"\";position: absolute;border-left: 1px solid gray;box-sizing: border-box;top: 0;bottom: 0;left: 50%;z-index: 0;}#sk-container-id-16 div.sk-serial {display: flex;flex-direction: column;align-items: center;background-color: white;padding-right: 0.2em;padding-left: 0.2em;position: relative;}#sk-container-id-16 div.sk-item {position: relative;z-index: 1;}#sk-container-id-16 div.sk-parallel {display: flex;align-items: stretch;justify-content: center;background-color: white;position: relative;}#sk-container-id-16 div.sk-item::before, #sk-container-id-16 div.sk-parallel-item::before {content: \"\";position: absolute;border-left: 1px solid gray;box-sizing: border-box;top: 0;bottom: 0;left: 50%;z-index: -1;}#sk-container-id-16 div.sk-parallel-item {display: flex;flex-direction: column;z-index: 1;position: relative;background-color: white;}#sk-container-id-16 div.sk-parallel-item:first-child::after {align-self: flex-end;width: 50%;}#sk-container-id-16 div.sk-parallel-item:last-child::after {align-self: flex-start;width: 50%;}#sk-container-id-16 div.sk-parallel-item:only-child::after {width: 0;}#sk-container-id-16 div.sk-dashed-wrapped {border: 1px dashed gray;margin: 0 0.4em 0.5em 0.4em;box-sizing: border-box;padding-bottom: 0.4em;background-color: white;}#sk-container-id-16 div.sk-label label {font-family: monospace;font-weight: bold;display: inline-block;line-height: 1.2em;}#sk-container-id-16 div.sk-label-container {text-align: center;}#sk-container-id-16 div.sk-container {/* jupyter's `normalize.less` sets `[hidden] { display: none; }` but bootstrap.min.css set `[hidden] { display: none !important; }` so we also need the `!important` here to be able to override the default hidden behavior on the sphinx rendered scikit-learn.org. See: https://github.com/scikit-learn/scikit-learn/issues/21755 */display: inline-block !important;position: relative;}#sk-container-id-16 div.sk-text-repr-fallback {display: none;}</style><div id=\"sk-container-id-16\" class=\"sk-top-container\"><div class=\"sk-text-repr-fallback\"><pre>LogisticRegression(max_iter=500, random_state=0)</pre><b>In a Jupyter environment, please rerun this cell to show the HTML representation or trust the notebook. <br />On GitHub, the HTML representation is unable to render, please try loading this page with nbviewer.org.</b></div><div class=\"sk-container\" hidden><div class=\"sk-item\"><div class=\"sk-estimator sk-toggleable\"><input class=\"sk-toggleable__control sk-hidden--visually\" id=\"sk-estimator-id-16\" type=\"checkbox\" checked><label for=\"sk-estimator-id-16\" class=\"sk-toggleable__label sk-toggleable__label-arrow\">LogisticRegression</label><div class=\"sk-toggleable__content\"><pre>LogisticRegression(max_iter=500, random_state=0)</pre></div></div></div></div></div>"
      ],
      "text/plain": [
       "LogisticRegression(max_iter=500, random_state=0)"
      ]
     },
     "execution_count": 97,
     "metadata": {},
     "output_type": "execute_result"
    }
   ],
   "source": [
    "X_2vars = af_data.iloc[:, [0, 1]].values\n",
    "y_2vars = af_data.iloc[:, 6].values\n",
    "X_train_2v, X_test_2v, y_train_2v, y_test_2v = train_test_split(X_2vars, y_2vars, test_size = 0.25, random_state = 15)\n",
    "\n",
    "classifier.fit(X_train_2v,y_train_2v)"
   ]
  },
  {
   "cell_type": "code",
   "execution_count": 98,
   "id": "db7adfca-fdc7-4941-bd3e-6fb5d29c90e7",
   "metadata": {
    "tags": []
   },
   "outputs": [
    {
     "data": {
      "text/html": [
       "<div>\n",
       "<style scoped>\n",
       "    .dataframe tbody tr th:only-of-type {\n",
       "        vertical-align: middle;\n",
       "    }\n",
       "\n",
       "    .dataframe tbody tr th {\n",
       "        vertical-align: top;\n",
       "    }\n",
       "\n",
       "    .dataframe thead th {\n",
       "        text-align: right;\n",
       "    }\n",
       "</style>\n",
       "<table border=\"1\" class=\"dataframe\">\n",
       "  <thead>\n",
       "    <tr style=\"text-align: right;\">\n",
       "      <th></th>\n",
       "      <th>Correct label</th>\n",
       "      <th>Predicted label</th>\n",
       "      <th>Probability Not Safe</th>\n",
       "      <th>Probability Safe</th>\n",
       "    </tr>\n",
       "  </thead>\n",
       "  <tbody>\n",
       "    <tr>\n",
       "      <th>0</th>\n",
       "      <td>Not Safe</td>\n",
       "      <td>Not Safe</td>\n",
       "      <td>0.874994</td>\n",
       "      <td>0.125006</td>\n",
       "    </tr>\n",
       "    <tr>\n",
       "      <th>1</th>\n",
       "      <td>Not Safe</td>\n",
       "      <td>Not Safe</td>\n",
       "      <td>0.873547</td>\n",
       "      <td>0.126453</td>\n",
       "    </tr>\n",
       "    <tr>\n",
       "      <th>2</th>\n",
       "      <td>Not Safe</td>\n",
       "      <td>Not Safe</td>\n",
       "      <td>0.914975</td>\n",
       "      <td>0.085025</td>\n",
       "    </tr>\n",
       "    <tr>\n",
       "      <th>3</th>\n",
       "      <td>Safe</td>\n",
       "      <td>Safe</td>\n",
       "      <td>0.409962</td>\n",
       "      <td>0.590038</td>\n",
       "    </tr>\n",
       "    <tr>\n",
       "      <th>4</th>\n",
       "      <td>Safe</td>\n",
       "      <td>Not Safe</td>\n",
       "      <td>0.853708</td>\n",
       "      <td>0.146292</td>\n",
       "    </tr>\n",
       "    <tr>\n",
       "      <th>...</th>\n",
       "      <td>...</td>\n",
       "      <td>...</td>\n",
       "      <td>...</td>\n",
       "      <td>...</td>\n",
       "    </tr>\n",
       "    <tr>\n",
       "      <th>371</th>\n",
       "      <td>Not Safe</td>\n",
       "      <td>Not Safe</td>\n",
       "      <td>0.674494</td>\n",
       "      <td>0.325506</td>\n",
       "    </tr>\n",
       "    <tr>\n",
       "      <th>372</th>\n",
       "      <td>Not Safe</td>\n",
       "      <td>Not Safe</td>\n",
       "      <td>0.766373</td>\n",
       "      <td>0.233627</td>\n",
       "    </tr>\n",
       "    <tr>\n",
       "      <th>373</th>\n",
       "      <td>Not Safe</td>\n",
       "      <td>Not Safe</td>\n",
       "      <td>0.824143</td>\n",
       "      <td>0.175857</td>\n",
       "    </tr>\n",
       "    <tr>\n",
       "      <th>374</th>\n",
       "      <td>Not Safe</td>\n",
       "      <td>Not Safe</td>\n",
       "      <td>0.886293</td>\n",
       "      <td>0.113707</td>\n",
       "    </tr>\n",
       "    <tr>\n",
       "      <th>375</th>\n",
       "      <td>Not Safe</td>\n",
       "      <td>Not Safe</td>\n",
       "      <td>0.874936</td>\n",
       "      <td>0.125064</td>\n",
       "    </tr>\n",
       "  </tbody>\n",
       "</table>\n",
       "<p>376 rows × 4 columns</p>\n",
       "</div>"
      ],
      "text/plain": [
       "    Correct label Predicted label  Probability Not Safe  Probability Safe\n",
       "0        Not Safe        Not Safe              0.874994          0.125006\n",
       "1        Not Safe        Not Safe              0.873547          0.126453\n",
       "2        Not Safe        Not Safe              0.914975          0.085025\n",
       "3            Safe            Safe              0.409962          0.590038\n",
       "4            Safe        Not Safe              0.853708          0.146292\n",
       "..            ...             ...                   ...               ...\n",
       "371      Not Safe        Not Safe              0.674494          0.325506\n",
       "372      Not Safe        Not Safe              0.766373          0.233627\n",
       "373      Not Safe        Not Safe              0.824143          0.175857\n",
       "374      Not Safe        Not Safe              0.886293          0.113707\n",
       "375      Not Safe        Not Safe              0.874936          0.125064\n",
       "\n",
       "[376 rows x 4 columns]"
      ]
     },
     "execution_count": 98,
     "metadata": {},
     "output_type": "execute_result"
    }
   ],
   "source": [
    "y_pred_2v = classifier.predict(X_test_2v)\n",
    "\n",
    "# Predict probabilities\n",
    "probs_y_2v=classifier.predict_proba(X_test_2v)\n",
    "\n",
    "data2v = {'Correct label':y_test_2v, 'Predicted label':y_pred_2v, 'Probability Not Safe':probs_y_2v[:,0],\n",
    "       'Probability Safe':probs_y_2v[:,1]}\n",
    "# Create DataFrame\n",
    "df2v = pd.DataFrame(data2v)\n",
    " \n",
    "# Print the output.\n",
    "df2v"
   ]
  },
  {
   "cell_type": "code",
   "execution_count": 99,
   "id": "00800cf3-df0f-4bce-87cd-b7c672650a55",
   "metadata": {
    "tags": []
   },
   "outputs": [
    {
     "data": {
      "image/png": "[encoded data removed]",
      "text/plain": [
       "<Figure size 640x480 with 2 Axes>"
      ]
     },
     "metadata": {},
     "output_type": "display_data"
    }
   ],
   "source": [
    "cm = confusion_matrix(y_test_2v, y_pred_2v)\n",
    "ax = plt.axes()\n",
    "df_cm = cm\n",
    "sns.heatmap(df_cm, annot=True, annot_kws={\"size\": 30}, fmt='d',cmap=\"Blues\", ax = ax )\n",
    "ax.set_title('Confusion Matrix')\n",
    "plt.show()"
   ]
  },
  {
   "cell_type": "code",
   "execution_count": 100,
   "id": "0f308b80-db73-4941-a088-a48c8141732c",
   "metadata": {
    "tags": []
   },
   "outputs": [
    {
     "name": "stdout",
     "output_type": "stream",
     "text": [
      "[0.8111702127659575, 0.7925531914893617, 0.773936170212766, 0.800531914893617, 0.7898936170212766, 0.7819148936170213, 0.7925531914893617, 0.7819148936170213, 0.773936170212766, 0.7898936170212766, 0.7712765957446809, 0.8058510638297872, 0.773936170212766, 0.8085106382978723, 0.7952127659574468]\n"
     ]
    }
   ],
   "source": [
    "sss2.get_n_splits(X_2vars, y_2vars);\n",
    "\n",
    "scores_2vars = []\n",
    "\n",
    "for train_index, test_index in sss2.split(X_2vars, y_2vars):\n",
    "    X_train, X_test = X_2vars[train_index], X_2vars[test_index]\n",
    "    y_train, y_test = y_2vars[train_index], y_2vars[test_index]\n",
    "    model.fit(X_train, y_train)\n",
    "    pred = model.predict(X_test)\n",
    "    scores_2vars.append(accuracy_score(y_test, pred))\n",
    " \n",
    "# get accuracy of each prediction\n",
    "print(scores_2vars)"
   ]
  },
  {
   "cell_type": "markdown",
   "id": "909dded1-b55d-4489-bcbd-5f17b7ccf90a",
   "metadata": {},
   "source": [
    "## Start of comparisons"
   ]
  },
  {
   "cell_type": "code",
   "execution_count": 101,
   "id": "628557a0-ae53-4079-be61-5d5ae0335990",
   "metadata": {
    "tags": []
   },
   "outputs": [],
   "source": [
    "x = np.array(scores_4vars)\n",
    "y = np.array(scores_3vars)\n",
    "z = np.array(scores_2vars)"
   ]
  },
  {
   "cell_type": "code",
   "execution_count": 102,
   "id": "4a84a6ae-b7f8-4fa9-ab69-a5719b0f30c2",
   "metadata": {
    "tags": []
   },
   "outputs": [
    {
     "data": {
      "text/plain": [
       "array([ 0.0106383 ,  0.        ,  0.03723404, -0.03723404, -0.00531915,\n",
       "        0.01329787, -0.00265957, -0.00265957,  0.03989362,  0.01595745,\n",
       "        0.05319149,  0.00265957,  0.04787234, -0.03191489, -0.02659574])"
      ]
     },
     "execution_count": 102,
     "metadata": {},
     "output_type": "execute_result"
    }
   ],
   "source": [
    "x - y"
   ]
  },
  {
   "cell_type": "code",
   "execution_count": 103,
   "id": "a3e8eaf7-9027-4099-b4c3-1b5f4a146d7d",
   "metadata": {
    "tags": []
   },
   "outputs": [
    {
     "data": {
      "text/plain": [
       "array([ 0.05851064, -0.00265957,  0.03457447, -0.00265957, -0.00531915,\n",
       "        0.05319149, -0.00265957, -0.00265957,  0.04255319,  0.04787234,\n",
       "        0.05851064,  0.04255319,  0.04787234,  0.00265957,  0.00797872])"
      ]
     },
     "execution_count": 103,
     "metadata": {},
     "output_type": "execute_result"
    }
   ],
   "source": [
    "x - z"
   ]
  },
  {
   "cell_type": "code",
   "execution_count": 104,
   "id": "0cbe3e85-ca4e-44b8-b36c-42c86a4afd8f",
   "metadata": {
    "tags": []
   },
   "outputs": [
    {
     "data": {
      "text/plain": [
       "array([ 0.04787234, -0.00265957, -0.00265957,  0.03457447,  0.        ,\n",
       "        0.03989362,  0.        ,  0.        ,  0.00265957,  0.03191489,\n",
       "        0.00531915,  0.03989362,  0.        ,  0.03457447,  0.03457447])"
      ]
     },
     "execution_count": 104,
     "metadata": {},
     "output_type": "execute_result"
    }
   ],
   "source": [
    "y - z"
   ]
  },
  {
   "cell_type": "markdown",
   "id": "0c473587-6b48-4ba1-b7c3-7837f98ba7fe",
   "metadata": {},
   "source": [
    "Looking at these results, it seems as if the 3 variable model works better than the 2 variable model and the 4 variable model works better than both the 2 and 3 variable models."
   ]
  },
  {
   "cell_type": "code",
   "execution_count": 105,
   "id": "0c22e880-bfb3-4b70-a515-bf6437dba5ce",
   "metadata": {
    "tags": []
   },
   "outputs": [
    {
     "name": "stdout",
     "output_type": "stream",
     "text": [
      "Optimization terminated successfully.\n",
      "         Current function value: 0.548449\n",
      "         Iterations 5\n",
      "                           Logit Regression Results                           \n",
      "==============================================================================\n",
      "Dep. Variable:                      y   No. Observations:                 1127\n",
      "Model:                          Logit   Df Residuals:                     1122\n",
      "Method:                           MLE   Df Model:                            4\n",
      "Date:                Mon, 08 May 2023   Pseudo R-squ.:                0.003885\n",
      "Time:                        03:14:24   Log-Likelihood:                -618.10\n",
      "converged:                       True   LL-Null:                       -620.51\n",
      "Covariance Type:            nonrobust   LLR p-value:                    0.3061\n",
      "==============================================================================\n",
      "                 coef    std err          z      P>|z|      [0.025      0.975]\n",
      "------------------------------------------------------------------------------\n",
      "const         -0.8089      0.299     -2.706      0.007      -1.395      -0.223\n",
      "x1         -1.667e-05    2.3e-05     -0.725      0.468   -6.17e-05    2.84e-05\n",
      "x2            -0.0313      0.015     -2.126      0.033      -0.060      -0.002\n",
      "x3            -0.6650      0.870     -0.765      0.444      -2.370       1.040\n",
      "x4         -6.575e-05      0.005     -0.014      0.989      -0.009       0.009\n",
      "==============================================================================\n"
     ]
    }
   ],
   "source": [
    "logit_model=sm.Logit(y_train == \"Safe\",sm.add_constant(X_train_4v))\n",
    "result=logit_model.fit()\n",
    "print(result.summary())"
   ]
  },
  {
   "cell_type": "code",
   "execution_count": 106,
   "id": "4642bad1-6af8-429c-9e3b-a3a9bb18d175",
   "metadata": {
    "tags": []
   },
   "outputs": [
    {
     "name": "stdout",
     "output_type": "stream",
     "text": [
      "Optimization terminated successfully.\n",
      "         Current function value: 0.548449\n",
      "         Iterations 5\n",
      "                           Logit Regression Results                           \n",
      "==============================================================================\n",
      "Dep. Variable:                      y   No. Observations:                 1127\n",
      "Model:                          Logit   Df Residuals:                     1123\n",
      "Method:                           MLE   Df Model:                            3\n",
      "Date:                Mon, 08 May 2023   Pseudo R-squ.:                0.003885\n",
      "Time:                        03:14:24   Log-Likelihood:                -618.10\n",
      "converged:                       True   LL-Null:                       -620.51\n",
      "Covariance Type:            nonrobust   LLR p-value:                    0.1853\n",
      "==============================================================================\n",
      "                 coef    std err          z      P>|z|      [0.025      0.975]\n",
      "------------------------------------------------------------------------------\n",
      "const         -0.8117      0.225     -3.608      0.000      -1.253      -0.371\n",
      "x1         -1.673e-05   2.26e-05     -0.740      0.459    -6.1e-05    2.76e-05\n",
      "x2            -0.0313      0.015     -2.148      0.032      -0.060      -0.003\n",
      "x3            -0.6660      0.867     -0.768      0.442      -2.365       1.033\n",
      "==============================================================================\n"
     ]
    }
   ],
   "source": [
    "logit_model=sm.Logit(y_train == \"Safe\",sm.add_constant(X_train_3v))\n",
    "result=logit_model.fit()\n",
    "print(result.summary())"
   ]
  },
  {
   "cell_type": "code",
   "execution_count": 107,
   "id": "64cd3867-16fa-48ae-b423-4d5d09b88164",
   "metadata": {
    "tags": []
   },
   "outputs": [
    {
     "name": "stdout",
     "output_type": "stream",
     "text": [
      "Optimization terminated successfully.\n",
      "         Current function value: 0.548712\n",
      "         Iterations 5\n",
      "                           Logit Regression Results                           \n",
      "==============================================================================\n",
      "Dep. Variable:                      y   No. Observations:                 1127\n",
      "Model:                          Logit   Df Residuals:                     1124\n",
      "Method:                           MLE   Df Model:                            2\n",
      "Date:                Mon, 08 May 2023   Pseudo R-squ.:                0.003409\n",
      "Time:                        03:14:24   Log-Likelihood:                -618.40\n",
      "converged:                       True   LL-Null:                       -620.51\n",
      "Covariance Type:            nonrobust   LLR p-value:                    0.1206\n",
      "==============================================================================\n",
      "                 coef    std err          z      P>|z|      [0.025      0.975]\n",
      "------------------------------------------------------------------------------\n",
      "const         -0.9512      0.134     -7.075      0.000      -1.215      -0.688\n",
      "x1         -1.307e-05    2.2e-05     -0.593      0.553   -5.63e-05    3.01e-05\n",
      "x2            -0.0257      0.013     -2.032      0.042      -0.050      -0.001\n",
      "==============================================================================\n"
     ]
    }
   ],
   "source": [
    "logit_model=sm.Logit(y_train == \"Safe\",sm.add_constant(X_train_2v))\n",
    "result=logit_model.fit()\n",
    "print(result.summary())"
   ]
  },
  {
   "cell_type": "markdown",
   "id": "1de196a5-b858-4dd6-a486-ccba8213a143",
   "metadata": {},
   "source": [
    "# Time to start multiple variable linear regression"
   ]
  },
  {
   "cell_type": "markdown",
   "id": "8bf81db9-7892-4784-a369-31cb55cb3ce3",
   "metadata": {},
   "source": [
    "I will use only the variable combinations that seemed decent from the logistic regression portion. Note that the results seemed decent, but the p-values showed that the model is not statistically significant."
   ]
  },
  {
   "cell_type": "code",
   "execution_count": 108,
   "id": "b18ee1ed-c1d8-4760-8588-53a561054a3c",
   "metadata": {},
   "outputs": [],
   "source": [
    "from sklearn import linear_model\n",
    "from sklearn.linear_model import LinearRegression\n",
    "from sklearn.metrics import mean_squared_error, r2_score\n",
    "from scipy import stats"
   ]
  },
  {
   "cell_type": "code",
   "execution_count": 109,
   "id": "5e8f1785-452e-4f82-aa07-8ca21f9ce760",
   "metadata": {},
   "outputs": [
    {
     "name": "stdout",
     "output_type": "stream",
     "text": [
      "                            OLS Regression Results                            \n",
      "==============================================================================\n",
      "Dep. Variable:                      y   R-squared:                       0.516\n",
      "Model:                            OLS   Adj. R-squared:                  0.514\n",
      "Method:                 Least Squares   F-statistic:                     318.8\n",
      "Date:                Mon, 08 May 2023   Prob (F-statistic):          1.15e-232\n",
      "Time:                        03:14:24   Log-Likelihood:                 961.61\n",
      "No. Observations:                1503   AIC:                            -1911.\n",
      "Df Residuals:                    1497   BIC:                            -1879.\n",
      "Df Model:                           5                                         \n",
      "Covariance Type:            nonrobust                                         \n",
      "==============================================================================\n",
      "                 coef    std err          t      P>|t|      [0.025      0.975]\n",
      "------------------------------------------------------------------------------\n",
      "const          0.8349      0.010     79.684      0.000       0.814       0.855\n",
      "x1            -0.6751      0.022    -30.452      0.000      -0.719      -0.632\n",
      "x2            -0.2491      0.023    -10.847      0.000      -0.294      -0.204\n",
      "x3            -0.2651      0.012    -21.889      0.000      -0.289      -0.241\n",
      "x4             0.1051      0.009     12.279      0.000       0.088       0.122\n",
      "x5            -0.2272      0.023     -9.810      0.000      -0.273      -0.182\n",
      "==============================================================================\n",
      "Omnibus:                       12.947   Durbin-Watson:                   0.447\n",
      "Prob(Omnibus):                  0.002   Jarque-Bera (JB):               19.228\n",
      "Skew:                          -0.020   Prob(JB):                     6.68e-05\n",
      "Kurtosis:                       3.553   Cond. No.                         12.2\n",
      "==============================================================================\n",
      "\n",
      "Notes:\n",
      "[1] Standard Errors assume that the covariance matrix of the errors is correctly specified.\n"
     ]
    }
   ],
   "source": [
    "X_5vars = af_data_norm.iloc[:, [0,1,2, 3, 4]].values\n",
    "y = af_data_norm.iloc[:, 5].values\n",
    "\n",
    "X_lin_5vars = sm.add_constant(X_5vars)\n",
    "est_5v = sm.OLS(y, X_lin_5vars)\n",
    "est2_5v = est_5v.fit()\n",
    "print(est2_5v.summary())"
   ]
  },
  {
   "cell_type": "code",
   "execution_count": 110,
   "id": "d1d7335d-4f5e-4e2e-9fc9-c11b053edfcc",
   "metadata": {
    "tags": []
   },
   "outputs": [
    {
     "name": "stdout",
     "output_type": "stream",
     "text": [
      "                            OLS Regression Results                            \n",
      "==============================================================================\n",
      "Dep. Variable:                      y   R-squared:                       0.485\n",
      "Model:                            OLS   Adj. R-squared:                  0.483\n",
      "Method:                 Least Squares   F-statistic:                     352.1\n",
      "Date:                Mon, 08 May 2023   Prob (F-statistic):          9.41e-214\n",
      "Time:                        03:14:24   Log-Likelihood:                 914.78\n",
      "No. Observations:                1503   AIC:                            -1820.\n",
      "Df Residuals:                    1498   BIC:                            -1793.\n",
      "Df Model:                           4                                         \n",
      "Covariance Type:            nonrobust                                         \n",
      "==============================================================================\n",
      "                 coef    std err          t      P>|t|      [0.025      0.975]\n",
      "------------------------------------------------------------------------------\n",
      "const          0.8548      0.011     80.634      0.000       0.834       0.876\n",
      "x1            -0.6804      0.023    -29.769      0.000      -0.725      -0.636\n",
      "x2            -0.4176      0.016    -26.580      0.000      -0.448      -0.387\n",
      "x3            -0.2990      0.012    -24.964      0.000      -0.322      -0.275\n",
      "x4             0.1128      0.009     12.823      0.000       0.096       0.130\n",
      "==============================================================================\n",
      "Omnibus:                        6.008   Durbin-Watson:                   0.416\n",
      "Prob(Omnibus):                  0.050   Jarque-Bera (JB):                7.365\n",
      "Skew:                          -0.025   Prob(JB):                       0.0252\n",
      "Kurtosis:                       3.339   Cond. No.                         9.21\n",
      "==============================================================================\n",
      "\n",
      "Notes:\n",
      "[1] Standard Errors assume that the covariance matrix of the errors is correctly specified.\n"
     ]
    }
   ],
   "source": [
    "Xlr_4vars = af_data_norm.iloc[:, [0, 1, 2, 3]].values\n",
    "\n",
    "X_lin_4vars = sm.add_constant(Xlr_4vars)\n",
    "est_4v = sm.OLS(y, X_lin_4vars)\n",
    "est2_4v = est_4v.fit()\n",
    "print(est2_4v.summary())"
   ]
  },
  {
   "cell_type": "code",
   "execution_count": 111,
   "id": "e300d81e-5904-47bf-82c2-061ca4fe8f02",
   "metadata": {
    "tags": []
   },
   "outputs": [
    {
     "name": "stdout",
     "output_type": "stream",
     "text": [
      "                            OLS Regression Results                            \n",
      "==============================================================================\n",
      "Dep. Variable:                      y   R-squared:                       0.428\n",
      "Model:                            OLS   Adj. R-squared:                  0.427\n",
      "Method:                 Least Squares   F-statistic:                     373.9\n",
      "Date:                Mon, 08 May 2023   Prob (F-statistic):          2.99e-181\n",
      "Time:                        03:14:24   Log-Likelihood:                 836.51\n",
      "No. Observations:                1503   AIC:                            -1665.\n",
      "Df Residuals:                    1499   BIC:                            -1644.\n",
      "Df Model:                           3                                         \n",
      "Covariance Type:            nonrobust                                         \n",
      "==============================================================================\n",
      "                 coef    std err          t      P>|t|      [0.025      0.975]\n",
      "------------------------------------------------------------------------------\n",
      "const          0.8913      0.011     82.885      0.000       0.870       0.912\n",
      "x1            -0.6320      0.024    -26.624      0.000      -0.679      -0.585\n",
      "x2            -0.3934      0.016    -23.951      0.000      -0.426      -0.361\n",
      "x3            -0.2887      0.013    -22.939      0.000      -0.313      -0.264\n",
      "==============================================================================\n",
      "Omnibus:                        5.742   Durbin-Watson:                   0.387\n",
      "Prob(Omnibus):                  0.057   Jarque-Bera (JB):                6.519\n",
      "Skew:                          -0.069   Prob(JB):                       0.0384\n",
      "Kurtosis:                       3.292   Cond. No.                         8.32\n",
      "==============================================================================\n",
      "\n",
      "Notes:\n",
      "[1] Standard Errors assume that the covariance matrix of the errors is correctly specified.\n"
     ]
    }
   ],
   "source": [
    "Xlr_3vars = af_data_norm.iloc[:, [0, 1, 2]].values\n",
    "\n",
    "X_lin_3vars = sm.add_constant(Xlr_3vars)\n",
    "est_3v = sm.OLS(y, X_lin_3vars)\n",
    "est2_3v = est_3v.fit()\n",
    "print(est2_3v.summary())"
   ]
  },
  {
   "cell_type": "code",
   "execution_count": 112,
   "id": "f00ddb97-6a01-4600-b46e-50b787dce9b5",
   "metadata": {
    "tags": []
   },
   "outputs": [
    {
     "name": "stdout",
     "output_type": "stream",
     "text": [
      "                            OLS Regression Results                            \n",
      "==============================================================================\n",
      "Dep. Variable:                      y   R-squared:                       0.227\n",
      "Model:                            OLS   Adj. R-squared:                  0.226\n",
      "Method:                 Least Squares   F-statistic:                     220.5\n",
      "Date:                Mon, 08 May 2023   Prob (F-statistic):           1.12e-84\n",
      "Time:                        03:14:24   Log-Likelihood:                 610.41\n",
      "No. Observations:                1503   AIC:                            -1215.\n",
      "Df Residuals:                    1500   BIC:                            -1199.\n",
      "Df Model:                           2                                         \n",
      "Covariance Type:            nonrobust                                         \n",
      "==============================================================================\n",
      "                 coef    std err          t      P>|t|      [0.025      0.975]\n",
      "------------------------------------------------------------------------------\n",
      "const          0.7034      0.008     86.906      0.000       0.687       0.719\n",
      "x1            -0.5393      0.027    -19.842      0.000      -0.593      -0.486\n",
      "x2            -0.1953      0.016    -12.029      0.000      -0.227      -0.163\n",
      "==============================================================================\n",
      "Omnibus:                        9.081   Durbin-Watson:                   0.277\n",
      "Prob(Omnibus):                  0.011   Jarque-Bera (JB):                7.593\n",
      "Skew:                           0.099   Prob(JB):                       0.0224\n",
      "Kurtosis:                       2.714   Cond. No.                         7.19\n",
      "==============================================================================\n",
      "\n",
      "Notes:\n",
      "[1] Standard Errors assume that the covariance matrix of the errors is correctly specified.\n"
     ]
    }
   ],
   "source": [
    "Xlr_2vars = af_data_norm.iloc[:, [0, 1]].values\n",
    "\n",
    "X_lin_2vars = sm.add_constant(Xlr_2vars)\n",
    "est_2v = sm.OLS(y, X_lin_2vars)\n",
    "est2_2v = est_2v.fit()\n",
    "print(est2_2v.summary())"
   ]
  },
  {
   "cell_type": "code",
   "execution_count": 113,
   "id": "b8725851-0763-4208-b6b6-576dc742b686",
   "metadata": {
    "tags": []
   },
   "outputs": [],
   "source": [
    "predictions_5v = est2_5v.predict(X_lin_5vars)"
   ]
  },
  {
   "cell_type": "code",
   "execution_count": 122,
   "id": "2a57d3fa-4a50-4dbe-9710-84b4604fd37d",
   "metadata": {
    "tags": []
   },
   "outputs": [
    {
     "data": {
      "text/plain": [
       "Text(0.5, 1.0, 'Predicted vs Actual (5 Variables)')"
      ]
     },
     "execution_count": 122,
     "metadata": {},
     "output_type": "execute_result"
    },
    {
     "data": {
      "image/png": "[encoded data removed]",
      "text/plain": [
       "<Figure size 640x480 with 1 Axes>"
      ]
     },
     "metadata": {},
     "output_type": "display_data"
    }
   ],
   "source": [
    "plt.scatter(y, predictions_5v, color='green')\n",
    "plt.xlabel('Actual Sound Pressure', fontsize=15)\n",
    "plt.ylabel('Predicted Sound Pressure', fontsize=15)\n",
    "plt.title('Predicted vs Actual (5 Variables)', fontsize=15)"
   ]
  },
  {
   "cell_type": "code",
   "execution_count": 115,
   "id": "f5ae7660-91e6-4ded-8801-4cf476391586",
   "metadata": {
    "tags": []
   },
   "outputs": [],
   "source": [
    "predictions_4v = est2_4v.predict(X_lin_4vars)"
   ]
  },
  {
   "cell_type": "code",
   "execution_count": 120,
   "id": "6c9a7f6f-4cd2-4ced-9796-f7a798dd9489",
   "metadata": {
    "tags": []
   },
   "outputs": [
    {
     "data": {
      "text/plain": [
       "Text(0.5, 1.0, 'Predicted vs Actual (4 Variables)')"
      ]
     },
     "execution_count": 120,
     "metadata": {},
     "output_type": "execute_result"
    },
    {
     "data": {
      "image/png": "[encoded data removed]",
      "text/plain": [
       "<Figure size 640x480 with 1 Axes>"
      ]
     },
     "metadata": {},
     "output_type": "display_data"
    }
   ],
   "source": [
    "plt.scatter(y, predictions_4v)\n",
    "plt.xlabel('Actual Sound Pressure', fontsize=15)\n",
    "plt.ylabel('Predicted Sound Pressure', fontsize=15)\n",
    "plt.title('Predicted vs Actual (4 Variables)', fontsize=15)"
   ]
  },
  {
   "cell_type": "code",
   "execution_count": 117,
   "id": "3b7780ea-8af4-4a03-b347-df7020c701ca",
   "metadata": {
    "tags": []
   },
   "outputs": [
    {
     "data": {
      "text/plain": [
       "Text(0.5, 1.0, 'Predicted vs Actual (3 Variables)')"
      ]
     },
     "execution_count": 117,
     "metadata": {},
     "output_type": "execute_result"
    },
    {
     "data": {
      "image/png": "[encoded data removed]",
      "text/plain": [
       "<Figure size 640x480 with 1 Axes>"
      ]
     },
     "metadata": {},
     "output_type": "display_data"
    }
   ],
   "source": [
    "predictions_3v = est2_3v.predict(X_lin_3vars)\n",
    "\n",
    "plt.scatter(y, predictions_3v)\n",
    "plt.xlabel('Actual Sound Pressure', fontsize=15)\n",
    "plt.ylabel('Predicted Sound Pressure', fontsize=15)\n",
    "plt.title('Predicted vs Actual (3 Variables)', fontsize=15)"
   ]
  },
  {
   "cell_type": "code",
   "execution_count": 118,
   "id": "8401dca9-63c3-4bd6-9fe7-1cd01ecf043a",
   "metadata": {
    "tags": []
   },
   "outputs": [
    {
     "data": {
      "text/plain": [
       "Text(0.5, 1.0, 'Predicted vs Actual (5 Variables)')"
      ]
     },
     "execution_count": 118,
     "metadata": {},
     "output_type": "execute_result"
    },
    {
     "data": {
      "image/png": "[encoded data removed]",
      "text/plain": [
       "<Figure size 640x480 with 1 Axes>"
      ]
     },
     "metadata": {},
     "output_type": "display_data"
    }
   ],
   "source": [
    "predictions_2v = est2_2v.predict(X_lin_2vars)\n",
    "\n",
    "plt.scatter(y, predictions_2v)\n",
    "plt.xlabel('Actual Sound Pressure', fontsize=15)\n",
    "plt.ylabel('Predicted Sound Pressure', fontsize=15)\n",
    "plt.title('Predicted vs Actual (5 Variables)', fontsize=15)"
   ]
  }
 ],
 "metadata": {
  "kernelspec": {
   "display_name": "Python 3 (ipykernel)",
   "language": "python",
   "name": "python3"
  },
  "language_info": {
   "codemirror_mode": {
    "name": "ipython",
    "version": 3
   },
   "file_extension": ".py",
   "mimetype": "text/x-python",
   "name": "python",
   "nbconvert_exporter": "python",
   "pygments_lexer": "ipython3",
   "version": "3.10.8"
  }
 },
 "nbformat": 4,
 "nbformat_minor": 5
}
