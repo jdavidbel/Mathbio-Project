{
 "cells": [
  {
   "cell_type": "code",
   "execution_count": 1,
   "metadata": {
    "tags": []
   },
   "outputs": [],
   "source": [
    "# Import some pacakges\n",
    "import numpy as np\n",
    "import pandas as pd\n",
    "import seaborn as sns\n",
    "import sklearn\n",
    "import scipy\n",
    "import matplotlib.pyplot as plt\n",
    "%matplotlib inline"
   ]
  },
  {
   "cell_type": "code",
   "execution_count": 2,
   "metadata": {
    "tags": []
   },
   "outputs": [
    {
     "data": {
      "text/html": [
       "<div>\n",
       "<style scoped>\n",
       "    .dataframe tbody tr th:only-of-type {\n",
       "        vertical-align: middle;\n",
       "    }\n",
       "\n",
       "    .dataframe tbody tr th {\n",
       "        vertical-align: top;\n",
       "    }\n",
       "\n",
       "    .dataframe thead th {\n",
       "        text-align: right;\n",
       "    }\n",
       "</style>\n",
       "<table border=\"1\" class=\"dataframe\">\n",
       "  <thead>\n",
       "    <tr style=\"text-align: right;\">\n",
       "      <th></th>\n",
       "      <th>Frequency (Hz)</th>\n",
       "      <th>Angle of Attack (degrees)</th>\n",
       "      <th>Chord Length (m)</th>\n",
       "      <th>Free-stream Velocity (m/s)</th>\n",
       "      <th>Suction Side Displacement thickness (m)</th>\n",
       "      <th>Scaled Sound Pressure Level (dB)</th>\n",
       "    </tr>\n",
       "  </thead>\n",
       "  <tbody>\n",
       "    <tr>\n",
       "      <th>0</th>\n",
       "      <td>800</td>\n",
       "      <td>0.0</td>\n",
       "      <td>0.3048</td>\n",
       "      <td>71.3</td>\n",
       "      <td>0.002663</td>\n",
       "      <td>126.201</td>\n",
       "    </tr>\n",
       "    <tr>\n",
       "      <th>1</th>\n",
       "      <td>1000</td>\n",
       "      <td>0.0</td>\n",
       "      <td>0.3048</td>\n",
       "      <td>71.3</td>\n",
       "      <td>0.002663</td>\n",
       "      <td>125.201</td>\n",
       "    </tr>\n",
       "    <tr>\n",
       "      <th>2</th>\n",
       "      <td>1250</td>\n",
       "      <td>0.0</td>\n",
       "      <td>0.3048</td>\n",
       "      <td>71.3</td>\n",
       "      <td>0.002663</td>\n",
       "      <td>125.951</td>\n",
       "    </tr>\n",
       "    <tr>\n",
       "      <th>3</th>\n",
       "      <td>1600</td>\n",
       "      <td>0.0</td>\n",
       "      <td>0.3048</td>\n",
       "      <td>71.3</td>\n",
       "      <td>0.002663</td>\n",
       "      <td>127.591</td>\n",
       "    </tr>\n",
       "    <tr>\n",
       "      <th>4</th>\n",
       "      <td>2000</td>\n",
       "      <td>0.0</td>\n",
       "      <td>0.3048</td>\n",
       "      <td>71.3</td>\n",
       "      <td>0.002663</td>\n",
       "      <td>127.461</td>\n",
       "    </tr>\n",
       "  </tbody>\n",
       "</table>\n",
       "</div>"
      ],
      "text/plain": [
       "   Frequency (Hz)  Angle of Attack (degrees)  Chord Length (m)   \n",
       "0             800                        0.0            0.3048  \\\n",
       "1            1000                        0.0            0.3048   \n",
       "2            1250                        0.0            0.3048   \n",
       "3            1600                        0.0            0.3048   \n",
       "4            2000                        0.0            0.3048   \n",
       "\n",
       "   Free-stream Velocity (m/s)  Suction Side Displacement thickness (m)   \n",
       "0                        71.3                                 0.002663  \\\n",
       "1                        71.3                                 0.002663   \n",
       "2                        71.3                                 0.002663   \n",
       "3                        71.3                                 0.002663   \n",
       "4                        71.3                                 0.002663   \n",
       "\n",
       "   Scaled Sound Pressure Level (dB)  \n",
       "0                           126.201  \n",
       "1                           125.201  \n",
       "2                           125.951  \n",
       "3                           127.591  \n",
       "4                           127.461  "
      ]
     },
     "execution_count": 2,
     "metadata": {},
     "output_type": "execute_result"
    }
   ],
   "source": [
    "import urllib.request \n",
    "import os\n",
    "data_file = \"airfoil.csv\"\n",
    "if not os.path.exists(data_file):\n",
    "    urllib.request.urlretrieve(\"https://archive.ics.uci.edu/ml/machine-learning-databases/00291/airfoil_self_noise.dat\", \"airfoil.csv\")\n",
    "    \n",
    "af_data = pd.read_csv('airfoil.csv', header=None, delimiter=\"\\t\")\n",
    "\n",
    "headers =  [\"Frequency (Hz)\",\"Angle of Attack (degrees)\",\"Chord Length (m)\",\"Free-stream Velocity (m/s)\",\"Suction Side Displacement thickness (m)\",\"Scaled Sound Pressure Level (dB)\"]\n",
    "af_data.columns = headers\n",
    "\n",
    "af_data.head()"
   ]
  },
  {
   "cell_type": "markdown",
   "metadata": {},
   "source": [
    "### Part 1"
   ]
  },
  {
   "cell_type": "code",
   "execution_count": 3,
   "metadata": {
    "tags": []
   },
   "outputs": [],
   "source": [
    "from sklearn.linear_model import LogisticRegression\n",
    "from scipy.special import expit"
   ]
  },
  {
   "cell_type": "code",
   "execution_count": 4,
   "metadata": {
    "tags": []
   },
   "outputs": [],
   "source": [
    "def Category(x):\n",
    "    if x >= 120  :\n",
    "        return \"Safe\"\n",
    "    else:\n",
    "        return \"Not Safe\""
   ]
  },
  {
   "cell_type": "code",
   "execution_count": 5,
   "metadata": {
    "tags": []
   },
   "outputs": [],
   "source": [
    "af_data['Categorized Sound Level'] = af_data.iloc[:,5]\n",
    "af_data['Categorized Sound Level'] = af_data['Categorized Sound Level'].map(Category)"
   ]
  },
  {
   "cell_type": "code",
   "execution_count": 6,
   "metadata": {
    "tags": []
   },
   "outputs": [
    {
     "data": {
      "text/html": [
       "<div>\n",
       "<style scoped>\n",
       "    .dataframe tbody tr th:only-of-type {\n",
       "        vertical-align: middle;\n",
       "    }\n",
       "\n",
       "    .dataframe tbody tr th {\n",
       "        vertical-align: top;\n",
       "    }\n",
       "\n",
       "    .dataframe thead th {\n",
       "        text-align: right;\n",
       "    }\n",
       "</style>\n",
       "<table border=\"1\" class=\"dataframe\">\n",
       "  <thead>\n",
       "    <tr style=\"text-align: right;\">\n",
       "      <th></th>\n",
       "      <th>Frequency (Hz)</th>\n",
       "      <th>Angle of Attack (degrees)</th>\n",
       "      <th>Chord Length (m)</th>\n",
       "      <th>Free-stream Velocity (m/s)</th>\n",
       "      <th>Suction Side Displacement thickness (m)</th>\n",
       "      <th>Scaled Sound Pressure Level (dB)</th>\n",
       "      <th>Categorized Sound Level</th>\n",
       "    </tr>\n",
       "  </thead>\n",
       "  <tbody>\n",
       "    <tr>\n",
       "      <th>0</th>\n",
       "      <td>800</td>\n",
       "      <td>0.0</td>\n",
       "      <td>0.3048</td>\n",
       "      <td>71.3</td>\n",
       "      <td>0.002663</td>\n",
       "      <td>126.201</td>\n",
       "      <td>Safe</td>\n",
       "    </tr>\n",
       "    <tr>\n",
       "      <th>1</th>\n",
       "      <td>1000</td>\n",
       "      <td>0.0</td>\n",
       "      <td>0.3048</td>\n",
       "      <td>71.3</td>\n",
       "      <td>0.002663</td>\n",
       "      <td>125.201</td>\n",
       "      <td>Safe</td>\n",
       "    </tr>\n",
       "    <tr>\n",
       "      <th>2</th>\n",
       "      <td>1250</td>\n",
       "      <td>0.0</td>\n",
       "      <td>0.3048</td>\n",
       "      <td>71.3</td>\n",
       "      <td>0.002663</td>\n",
       "      <td>125.951</td>\n",
       "      <td>Safe</td>\n",
       "    </tr>\n",
       "    <tr>\n",
       "      <th>3</th>\n",
       "      <td>1600</td>\n",
       "      <td>0.0</td>\n",
       "      <td>0.3048</td>\n",
       "      <td>71.3</td>\n",
       "      <td>0.002663</td>\n",
       "      <td>127.591</td>\n",
       "      <td>Safe</td>\n",
       "    </tr>\n",
       "    <tr>\n",
       "      <th>4</th>\n",
       "      <td>2000</td>\n",
       "      <td>0.0</td>\n",
       "      <td>0.3048</td>\n",
       "      <td>71.3</td>\n",
       "      <td>0.002663</td>\n",
       "      <td>127.461</td>\n",
       "      <td>Safe</td>\n",
       "    </tr>\n",
       "  </tbody>\n",
       "</table>\n",
       "</div>"
      ],
      "text/plain": [
       "   Frequency (Hz)  Angle of Attack (degrees)  Chord Length (m)   \n",
       "0             800                        0.0            0.3048  \\\n",
       "1            1000                        0.0            0.3048   \n",
       "2            1250                        0.0            0.3048   \n",
       "3            1600                        0.0            0.3048   \n",
       "4            2000                        0.0            0.3048   \n",
       "\n",
       "   Free-stream Velocity (m/s)  Suction Side Displacement thickness (m)   \n",
       "0                        71.3                                 0.002663  \\\n",
       "1                        71.3                                 0.002663   \n",
       "2                        71.3                                 0.002663   \n",
       "3                        71.3                                 0.002663   \n",
       "4                        71.3                                 0.002663   \n",
       "\n",
       "   Scaled Sound Pressure Level (dB) Categorized Sound Level  \n",
       "0                           126.201                    Safe  \n",
       "1                           125.201                    Safe  \n",
       "2                           125.951                    Safe  \n",
       "3                           127.591                    Safe  \n",
       "4                           127.461                    Safe  "
      ]
     },
     "execution_count": 6,
     "metadata": {},
     "output_type": "execute_result"
    }
   ],
   "source": [
    "af_data.head()"
   ]
  },
  {
   "cell_type": "code",
   "execution_count": 7,
   "metadata": {
    "tags": []
   },
   "outputs": [
    {
     "data": {
      "text/plain": [
       "array(['Safe', 'Not Safe'], dtype=object)"
      ]
     },
     "execution_count": 7,
     "metadata": {},
     "output_type": "execute_result"
    }
   ],
   "source": [
    "af_data[\"Categorized Sound Level\"].unique()"
   ]
  },
  {
   "cell_type": "code",
   "execution_count": 8,
   "metadata": {
    "tags": []
   },
   "outputs": [
    {
     "data": {
      "text/html": [
       "<style>#sk-container-id-1 {color: black;background-color: white;}#sk-container-id-1 pre{padding: 0;}#sk-container-id-1 div.sk-toggleable {background-color: white;}#sk-container-id-1 label.sk-toggleable__label {cursor: pointer;display: block;width: 100%;margin-bottom: 0;padding: 0.3em;box-sizing: border-box;text-align: center;}#sk-container-id-1 label.sk-toggleable__label-arrow:before {content: \"▸\";float: left;margin-right: 0.25em;color: #696969;}#sk-container-id-1 label.sk-toggleable__label-arrow:hover:before {color: black;}#sk-container-id-1 div.sk-estimator:hover label.sk-toggleable__label-arrow:before {color: black;}#sk-container-id-1 div.sk-toggleable__content {max-height: 0;max-width: 0;overflow: hidden;text-align: left;background-color: #f0f8ff;}#sk-container-id-1 div.sk-toggleable__content pre {margin: 0.2em;color: black;border-radius: 0.25em;background-color: #f0f8ff;}#sk-container-id-1 input.sk-toggleable__control:checked~div.sk-toggleable__content {max-height: 200px;max-width: 100%;overflow: auto;}#sk-container-id-1 input.sk-toggleable__control:checked~label.sk-toggleable__label-arrow:before {content: \"▾\";}#sk-container-id-1 div.sk-estimator input.sk-toggleable__control:checked~label.sk-toggleable__label {background-color: #d4ebff;}#sk-container-id-1 div.sk-label input.sk-toggleable__control:checked~label.sk-toggleable__label {background-color: #d4ebff;}#sk-container-id-1 input.sk-hidden--visually {border: 0;clip: rect(1px 1px 1px 1px);clip: rect(1px, 1px, 1px, 1px);height: 1px;margin: -1px;overflow: hidden;padding: 0;position: absolute;width: 1px;}#sk-container-id-1 div.sk-estimator {font-family: monospace;background-color: #f0f8ff;border: 1px dotted black;border-radius: 0.25em;box-sizing: border-box;margin-bottom: 0.5em;}#sk-container-id-1 div.sk-estimator:hover {background-color: #d4ebff;}#sk-container-id-1 div.sk-parallel-item::after {content: \"\";width: 100%;border-bottom: 1px solid gray;flex-grow: 1;}#sk-container-id-1 div.sk-label:hover label.sk-toggleable__label {background-color: #d4ebff;}#sk-container-id-1 div.sk-serial::before {content: \"\";position: absolute;border-left: 1px solid gray;box-sizing: border-box;top: 0;bottom: 0;left: 50%;z-index: 0;}#sk-container-id-1 div.sk-serial {display: flex;flex-direction: column;align-items: center;background-color: white;padding-right: 0.2em;padding-left: 0.2em;position: relative;}#sk-container-id-1 div.sk-item {position: relative;z-index: 1;}#sk-container-id-1 div.sk-parallel {display: flex;align-items: stretch;justify-content: center;background-color: white;position: relative;}#sk-container-id-1 div.sk-item::before, #sk-container-id-1 div.sk-parallel-item::before {content: \"\";position: absolute;border-left: 1px solid gray;box-sizing: border-box;top: 0;bottom: 0;left: 50%;z-index: -1;}#sk-container-id-1 div.sk-parallel-item {display: flex;flex-direction: column;z-index: 1;position: relative;background-color: white;}#sk-container-id-1 div.sk-parallel-item:first-child::after {align-self: flex-end;width: 50%;}#sk-container-id-1 div.sk-parallel-item:last-child::after {align-self: flex-start;width: 50%;}#sk-container-id-1 div.sk-parallel-item:only-child::after {width: 0;}#sk-container-id-1 div.sk-dashed-wrapped {border: 1px dashed gray;margin: 0 0.4em 0.5em 0.4em;box-sizing: border-box;padding-bottom: 0.4em;background-color: white;}#sk-container-id-1 div.sk-label label {font-family: monospace;font-weight: bold;display: inline-block;line-height: 1.2em;}#sk-container-id-1 div.sk-label-container {text-align: center;}#sk-container-id-1 div.sk-container {/* jupyter's `normalize.less` sets `[hidden] { display: none; }` but bootstrap.min.css set `[hidden] { display: none !important; }` so we also need the `!important` here to be able to override the default hidden behavior on the sphinx rendered scikit-learn.org. See: https://github.com/scikit-learn/scikit-learn/issues/21755 */display: inline-block !important;position: relative;}#sk-container-id-1 div.sk-text-repr-fallback {display: none;}</style><div id=\"sk-container-id-1\" class=\"sk-top-container\"><div class=\"sk-text-repr-fallback\"><pre>LogisticRegression()</pre><b>In a Jupyter environment, please rerun this cell to show the HTML representation or trust the notebook. <br />On GitHub, the HTML representation is unable to render, please try loading this page with nbviewer.org.</b></div><div class=\"sk-container\" hidden><div class=\"sk-item\"><div class=\"sk-estimator sk-toggleable\"><input class=\"sk-toggleable__control sk-hidden--visually\" id=\"sk-estimator-id-1\" type=\"checkbox\" checked><label for=\"sk-estimator-id-1\" class=\"sk-toggleable__label sk-toggleable__label-arrow\">LogisticRegression</label><div class=\"sk-toggleable__content\"><pre>LogisticRegression()</pre></div></div></div></div></div>"
      ],
      "text/plain": [
       "LogisticRegression()"
      ]
     },
     "execution_count": 8,
     "metadata": {},
     "output_type": "execute_result"
    }
   ],
   "source": [
    "# Select the desired features, and the desired labels\n",
    "X_1 = af_data[['Frequency (Hz)']].values\n",
    "Y_1 = af_data['Categorized Sound Level']\n",
    "\n",
    "# Fit the data to the Logistic Regression Model\n",
    "log_reg = LogisticRegression()\n",
    "log_reg.fit(X_1, Y_1)"
   ]
  },
  {
   "cell_type": "code",
   "execution_count": 9,
   "metadata": {
    "tags": []
   },
   "outputs": [],
   "source": [
    "# Choose some convenient bounds for the x-axis\n",
    "max_Frequency = max(af_data[['Frequency (Hz)']].values)+1\n",
    "min_Frequency = min(af_data[['Frequency (Hz)']].values)-1\n",
    "\n",
    "# Plot 1000 points along the logistic curve to see \n",
    "X_1_compare = np.linspace(min_Frequency, max_Frequency, 1000).reshape(-1, 1)\n",
    "y_1_compare_probability = log_reg.predict_proba(X_1_compare)\n",
    "\n",
    "#  Set decision boundary to be used in figure below.  Currently set at p = 0.5\n",
    "decision_boundary1 = X_1_compare[y_1_compare_probability[:, 1] >= 0.5][0]"
   ]
  },
  {
   "cell_type": "code",
   "execution_count": 10,
   "metadata": {},
   "outputs": [
    {
     "data": {
      "image/png": "[encoded data removed]",
      "text/plain": [
       "<Figure size 1100x400 with 1 Axes>"
      ]
     },
     "metadata": {},
     "output_type": "display_data"
    }
   ],
   "source": [
    "#  Choose size of figure\n",
    "plt.figure(figsize=(11, 4))\n",
    "\n",
    "# plot points corresponding to Iris-setosa and Iris-versicolor\n",
    "plt.plot(X_1[Y_1==\"Safe\"], Y_1[Y_1==\"Safe\"], \"bs\")\n",
    "plt.plot(X_1[Y_1==\"Not Safe\"], Y_1[Y_1==\"Not Safe\"], \"g^\")\n",
    "\n",
    "# Plot the logistic curve; second curve is for comparison\n",
    "plt.plot(X_1_compare, y_1_compare_probability[:, 1], \"g-\", linewidth=2, label=\"Safe\")\n",
    "plt.plot(X_1_compare, y_1_compare_probability[:, 0], \"b--\", linewidth=2, label=\"Not Safe\")\n",
    "\n",
    "# Plot the decision boundary \n",
    "plt.plot([decision_boundary1, decision_boundary1], [-1, 3], \"k:\", linewidth=2)\n",
    "plt.text(decision_boundary1+0.02, -0.8, \"Decision  boundary\", fontsize=10, color=\"k\", ha=\"center\")\n",
    "\n",
    "\n",
    "plt.arrow(decision_boundary1[0], -0.2, -0.3, 0, head_width=0.05, head_length=0.1, fc='b', ec='b')\n",
    "plt.arrow(decision_boundary1[0], 1.2, 0.3, 0, head_width=0.05, head_length=0.1, fc='g', ec='g')\n",
    "\n",
    "# Label plot\n",
    "plt.xlabel('Frequency', fontsize=14)\n",
    "plt.ylabel('Probability of Being Safe', fontsize=14)\n",
    "plt.title('Logistic Curve Showing Probability of an Airfoil Being Safe Based on Frequency');\n",
    "plt.legend(loc=\"upper left\", fontsize=14)\n",
    "plt.show()"
   ]
  },
  {
   "cell_type": "code",
   "execution_count": 11,
   "metadata": {},
   "outputs": [
    {
     "name": "stdout",
     "output_type": "stream",
     "text": [
      "Actually Safe: 1143 Predicted Safe: 1365\n",
      "Actually Not Safe: 360 Predicted Not Safe: 138\n"
     ]
    }
   ],
   "source": [
    "y_pred1 = log_reg.predict(X_1)\n",
    "actually_safe = np.sum(Y_1 == \"Safe\")\n",
    "labeled_safe = np.sum(y_pred1 == \"Safe\")\n",
    "print(f\"Actually Safe: {actually_safe} Predicted Safe: {labeled_safe}\")\n",
    "\n",
    "actually_notsafe = np.sum(Y_1 == \"Not Safe\")\n",
    "labeled_notsafe = np.sum(y_pred1 == \"Not Safe\")\n",
    "\n",
    "print(f\"Actually Not Safe: {actually_notsafe} Predicted Not Safe: {labeled_notsafe}\")"
   ]
  },
  {
   "cell_type": "code",
   "execution_count": 12,
   "metadata": {},
   "outputs": [
    {
     "name": "stdout",
     "output_type": "stream",
     "text": [
      "[[  78  282]\n",
      " [  60 1083]]\n"
     ]
    }
   ],
   "source": [
    "#from sklearn import metrics and call it metrics.\n",
    "import sklearn.metrics as metrics\n",
    "cm1 = metrics.confusion_matrix(Y_1, y_pred1)\n",
    "print(cm1)"
   ]
  },
  {
   "cell_type": "code",
   "execution_count": 13,
   "metadata": {},
   "outputs": [
    {
     "data": {
      "image/png": "[encoded data removed]",
      "text/plain": [
       "<Figure size 640x480 with 2 Axes>"
      ]
     },
     "metadata": {},
     "output_type": "display_data"
    }
   ],
   "source": [
    "cnf1 = metrics.confusion_matrix(Y_1, y_pred1)\n",
    "disp = metrics.ConfusionMatrixDisplay(confusion_matrix=cnf1, display_labels=[\"Safe\", \"Not Safe\"])\n",
    "disp.plot()\n",
    "plt.show()"
   ]
  },
  {
   "cell_type": "code",
   "execution_count": 14,
   "metadata": {},
   "outputs": [
    {
     "name": "stdout",
     "output_type": "stream",
     "text": [
      "Accuracy: 0.7724550898203593\n",
      "Precision: 0.7934065934065934\n",
      "Recall: 0.21666666666666667\n"
     ]
    }
   ],
   "source": [
    "print(\"Accuracy:\", metrics.accuracy_score(Y_1, y_pred1))\n",
    "print(\"Precision:\", metrics.precision_score(Y_1, y_pred1, pos_label=\"Safe\"))\n",
    "print(\"Recall:\", metrics.recall_score(Y_1, y_pred1, pos_label=\"Not Safe\"))"
   ]
  },
  {
   "cell_type": "markdown",
   "metadata": {},
   "source": [
    "### Part 2"
   ]
  },
  {
   "cell_type": "code",
   "execution_count": 15,
   "metadata": {},
   "outputs": [
    {
     "name": "stdout",
     "output_type": "stream",
     "text": [
      "Categorized Sound Level\n",
      "Safe        859\n",
      "Not Safe    268\n",
      "Name: count, dtype: int64\n",
      "Categorized Sound Level\n",
      "Safe        284\n",
      "Not Safe     92\n",
      "Name: count, dtype: int64\n"
     ]
    }
   ],
   "source": [
    "from sklearn.model_selection import train_test_split\n",
    "\n",
    "X = X_1\n",
    "y = Y_1\n",
    "\n",
    "X_train,X_test,y_train,y_test=train_test_split(X,y,random_state=13)\n",
    "print(y_train.value_counts())\n",
    "print(y_test.value_counts())"
   ]
  },
  {
   "cell_type": "code",
   "execution_count": 16,
   "metadata": {},
   "outputs": [
    {
     "name": "stdout",
     "output_type": "stream",
     "text": [
      "0.75\n"
     ]
    }
   ],
   "source": [
    "from sklearn.metrics import accuracy_score\n",
    "\n",
    "# Model 1 with stratified sample\n",
    "model1=LogisticRegression()\n",
    "model1.fit(X_train,y_train)\n",
    "y_pred_m1=model1.predict(X_test)\n",
    "acc_m1=accuracy_score(y_pred_m1,y_test)\n",
    "\n",
    "print(acc_m1)"
   ]
  },
  {
   "cell_type": "code",
   "execution_count": 17,
   "metadata": {},
   "outputs": [
    {
     "data": {
      "text/plain": [
       "5"
      ]
     },
     "execution_count": 17,
     "metadata": {},
     "output_type": "execute_result"
    }
   ],
   "source": [
    "from sklearn.model_selection import StratifiedShuffleSplit\n",
    "\n",
    "sss = StratifiedShuffleSplit(n_splits=5, test_size=0.5, random_state=0)\n",
    "sss.get_n_splits(X, y)"
   ]
  },
  {
   "cell_type": "code",
   "execution_count": 18,
   "metadata": {},
   "outputs": [
    {
     "name": "stdout",
     "output_type": "stream",
     "text": [
      "[0.773936170212766, 0.776595744680851, 0.7726063829787234, 0.7832446808510638, 0.7659574468085106]\n"
     ]
    }
   ],
   "source": [
    "scores = []\n",
    " \n",
    "# using regression to get predicted data\n",
    "model1=LogisticRegression()\n",
    "\n",
    "for train_index, test_index in sss.split(X, y):\n",
    "    X_train, X_test = X[train_index], X[test_index]\n",
    "    y_train, y_test = y[train_index], y[test_index]\n",
    "    model1.fit(X_train, y_train)\n",
    "    pred = model1.predict(X_test)\n",
    "    scores.append(accuracy_score(y_test, pred))\n",
    " \n",
    "# get accuracy of each prediction\n",
    "print(scores)"
   ]
  },
  {
   "cell_type": "markdown",
   "metadata": {},
   "source": [
    "### 1 or 2 Paragraphs"
   ]
  },
  {
   "cell_type": "markdown",
   "metadata": {},
   "source": [
    "I didn't do as much in this lab as I typically do, but when it comes to the paper and the poster, I will most likely do logistic regression with the other input variables as well. I'll also most likely normalize the data in case it makes the logistic regression figure look cleaner, but you will see the final product in the paper or poster presentation.\n",
    "\n",
    "Anyway, as for the technique that was used, we utilized logistic regression. It takes the data and looks at a variable and uses the binary output (in the case of my data, safe or not safe) and tries to determine a logistic graph that helps determine whether it's more likely for a given input to result in one of the two outcomes that we care about. Then the confusion matrix can be used to determine the reliability of the logistic curve.\n",
    "\n",
    "The next technique utilized is splitting the data into training and test sets. It's a great method for testing which technique may handle the data the best or most accurately. We only used it with logistic regression, but we can use the training data to help train other methods as well, such as logistic regression, linear regression, K-nearest neighbors, random forest, etc."
   ]
  }
 ],
 "metadata": {
  "kernelspec": {
   "display_name": "Python 3 (ipykernel)",
   "language": "python",
   "name": "python3"
  },
  "language_info": {
   "codemirror_mode": {
    "name": "ipython",
    "version": 3
   },
   "file_extension": ".py",
   "mimetype": "text/x-python",
   "name": "python",
   "nbconvert_exporter": "python",
   "pygments_lexer": "ipython3",
   "version": "3.10.8"
  }
 },
 "nbformat": 4,
 "nbformat_minor": 4
}
